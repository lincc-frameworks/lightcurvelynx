{
 "cells": [
  {
   "cell_type": "code",
   "execution_count": null,
   "id": "dbe5c7a5",
   "metadata": {},
   "outputs": [],
   "source": [
    "import matplotlib.pyplot as plt\n",
    "import numpy as np\n",
    "import sncosmo\n",
    "\n",
    "from astropy import units as u\n",
    "\n",
    "from lightcurvelynx.astro_utils.unit_utils import flam_to_fnu, fnu_to_flam\n",
    "from lightcurvelynx.astro_utils.passbands import Passband, PassbandGroup\n",
    "from lightcurvelynx.models.sncomso_models import SncosmoWrapperModel"
   ]
  },
  {
   "cell_type": "markdown",
   "id": "2b00b154",
   "metadata": {},
   "source": [
    "## Comparing Passband Objects\n",
    "\n",
    "We start by confirming that the (no-preprocessed) passbands are the same whether we load them through LightCurveLynx (via sncosmo) or directly from sncosmo.  Note the (unprocessed) transmission tables have the exact same range and sampling of wavelength points and the same transmission curve (as shown by the plot)."
   ]
  },
  {
   "cell_type": "code",
   "execution_count": null,
   "id": "62c7c544",
   "metadata": {},
   "outputs": [],
   "source": [
    "# Load the passbands from sncosmo as both sncosmo and lynx objects\n",
    "sn_pb_obj = sncosmo.get_bandpass(f\"lsstr\")\n",
    "lynx_pb_obj = Passband.from_sncosmo(\"LSST\", \"r\", sn_pb_obj)\n",
    "lynx_pb_group = PassbandGroup([lynx_pb_obj])\n",
    "\n",
    "# Print out the range information for the underlying passband data\n",
    "print(f\"sncosmo passbands: [{sn_pb_obj.wave[0]}, {sn_pb_obj.wave[-1]}] with {len(sn_pb_obj.wave)} points\")\n",
    "print(\n",
    "    f\"lynx passbands: [{lynx_pb_obj._loaded_table[0, 0]}, {lynx_pb_obj._loaded_table[-1, 0]}] with {len(lynx_pb_obj._loaded_table)} points\"\n",
    ")\n",
    "print(\n",
    "    f\"lynx processed range: [{lynx_pb_obj.processed_transmission_table[0, 0]}, {lynx_pb_obj.processed_transmission_table[-1, 0]}] with {len(lynx_pb_obj.processed_transmission_table)} points\"\n",
    ")\n",
    "\n",
    "\n",
    "# Plot the passbands\n",
    "plt.figure(figsize=(10, 6))\n",
    "plt.plot(sn_pb_obj.wave, sn_pb_obj.trans, label=\"sncosmo\")\n",
    "plt.plot(lynx_pb_obj._loaded_table[:, 0], lynx_pb_obj._loaded_table[:, 1], label=\"lynx\")\n",
    "plt.xlabel(\"Wavelength (Angstrom)\")\n",
    "plt.ylabel(\"Transmission\")\n",
    "_ = plt.legend()"
   ]
  },
  {
   "cell_type": "markdown",
   "id": "a3b94ac0",
   "metadata": {},
   "source": [
    "Of course the processed transmission table looks very different because we convert it from throughput values to system response values.\n",
    "\n",
    "## Comparing Models and SEDs.\n",
    "\n",
    "We can create models via either sncosmo or lightcurvelynx and get the exact same sed in fnu."
   ]
  },
  {
   "cell_type": "code",
   "execution_count": null,
   "id": "4d3cf43a",
   "metadata": {},
   "outputs": [],
   "source": [
    "times = np.arange(61420.0, 61451.0, 1)\n",
    "wavelengths = sn_pb_obj.wave\n",
    "\n",
    "# Create a supernova model\n",
    "t0 = 61427.662972820726\n",
    "redshift = 0.014308532704595672\n",
    "x0 = 0.00048338940570825635\n",
    "x1 = 0.2161431811959595\n",
    "c = -0.014308532704595672\n",
    "saltpars = {\"x0\": x0, \"x1\": x1, \"c\": c, \"z\": 0.0, \"t0\": t0}\n",
    "\n",
    "sn_model = sncosmo.Model(\"salt3\")\n",
    "sn_model.update(saltpars)\n",
    "\n",
    "flam_sncosmo = sn_model.flux(times, wavelengths)\n",
    "fnu_sncosmo = flam_to_fnu(\n",
    "    flam_sncosmo,\n",
    "    wavelengths,\n",
    "    wave_unit=u.AA,\n",
    "    flam_unit=u.erg / u.second / u.cm**2 / u.AA,\n",
    "    fnu_unit=u.nJy,\n",
    ")\n",
    "\n",
    "# Compute the SED from the LightCurveLynx model\n",
    "lynx_model = SncosmoWrapperModel(\"salt3\", **saltpars)\n",
    "lynx_state = lynx_model.sample_parameters(num_samples=1)\n",
    "fnu_lynx = lynx_model.evaluate_sed(times, wavelengths, lynx_state)\n",
    "\n",
    "# Plot the SEDs from both models. The graphs should be identical.\n",
    "plt.plot(wavelengths, fnu_sncosmo[0, :], label=\"sncosmo\")\n",
    "plt.plot(wavelengths, fnu_lynx[0, :], label=\"lightcurvelynx\")\n",
    "_ = plt.legend()"
   ]
  },
  {
   "cell_type": "markdown",
   "id": "65107047",
   "metadata": {},
   "source": [
    "The SED's look identical in flam as well. "
   ]
  },
  {
   "cell_type": "code",
   "execution_count": null,
   "id": "a79c088f",
   "metadata": {},
   "outputs": [],
   "source": [
    "flam_lynx = fnu_to_flam(\n",
    "    fnu_lynx,\n",
    "    wavelengths,\n",
    "    wave_unit=u.AA,\n",
    "    flam_unit=u.erg / u.second / u.cm**2 / u.AA,\n",
    "    fnu_unit=u.nJy,\n",
    ")\n",
    "\n",
    "# Plot the SEDs from both models. The graphs should be identical.\n",
    "plt.plot(wavelengths, flam_sncosmo[0, :], label=\"sncosmo\")\n",
    "plt.plot(wavelengths, flam_lynx[0, :], label=\"lightcurvelynx\")\n",
    "plt.legend()"
   ]
  },
  {
   "cell_type": "markdown",
   "id": "12987724",
   "metadata": {},
   "source": [
    "## Differing Bandpass Values\n",
    "\n",
    "But if we try to get the bandpass information from both codes, they are different. The LightCurveLynx values are slightly larger than the corresponding sncosmo values."
   ]
  },
  {
   "cell_type": "code",
   "execution_count": null,
   "id": "498aaee2",
   "metadata": {},
   "outputs": [],
   "source": [
    "sn_bandflux_flam = sn_model.bandflux(\"lsstr\", times)\n",
    "lynx_bandflux_fnu = lynx_model.evaluate_bandfluxes(\n",
    "    lynx_pb_group,\n",
    "    times,\n",
    "    [\"r\"] * len(times),\n",
    "    state=lynx_state,\n",
    ")\n",
    "print(\"lynx bandflux (fnu):\", lynx_bandflux_fnu)\n",
    "\n",
    "sn_bandflux_fnu = sn_model.bandflux(\"lsstr\", times, zp=31.4, zpsys=\"ab\")\n",
    "print(\"sncosmo bandflux (fnu):\", sn_bandflux_fnu)\n",
    "\n",
    "print(\"Ratio (lynx/sn):\", lynx_bandflux_fnu / sn_bandflux_fnu)\n",
    "\n",
    "plt.figure(figsize=(10, 6))\n",
    "plt.plot(times, lynx_bandflux_fnu, label=\"lynx\")\n",
    "plt.plot(times, sn_bandflux_fnu, label=\"sncosmo\")\n",
    "plt.xlabel(\"Time (MJD)\")\n",
    "plt.ylabel(\"Bandflux (nJy)\")\n",
    "_ = plt.legend()"
   ]
  },
  {
   "cell_type": "markdown",
   "id": "8c4b522a",
   "metadata": {},
   "source": [
    "## The Integration\n",
    "\n",
    "We can examine how each of the two packages performs the integrations. We break out the code from sncosmo so we can modify it. First let's reproduce the integration code and test that it gives the same answer."
   ]
  },
  {
   "cell_type": "code",
   "execution_count": null,
   "id": "bce806ac",
   "metadata": {},
   "outputs": [],
   "source": [
    "def sncosmo_bandflux(flux, band):\n",
    "    # Set up wavelength grid. Spacing (dwave) evenly divides the bandpass,\n",
    "    # closest to 5 angstroms without going over.\n",
    "    wave, dwave = sncosmo.utils.integration_grid(band.minwave(), band.maxwave(), 5.0)\n",
    "    trans = band(wave)\n",
    "\n",
    "    resampled_flux = np.interp(wave, band.wave, flux)\n",
    "\n",
    "    return np.sum(wave * trans * resampled_flux) * dwave / sncosmo.constants.HC_ERG_AA\n",
    "\n",
    "\n",
    "sn_bandflux_flam = sn_model.bandflux(\"lsstr\", times)\n",
    "sn_bandflux_flam2 = [sncosmo_bandflux(flam_sncosmo[i, :], sn_pb_obj) for i in range(flam_sncosmo.shape[0])]\n",
    "print(\"SN Cosmo FLAM Bandflux (auto):\", sn_bandflux_flam)\n",
    "print(\"SN Cosmo FLAM Bandflux (manual):\", sn_bandflux_flam2)"
   ]
  },
  {
   "cell_type": "markdown",
   "id": "0055446e",
   "metadata": {},
   "source": [
    "Now that we have the function isolated, let's look at the sampled wavelengths compared to those of the processed transmission table from LightCurveLynx: "
   ]
  },
  {
   "cell_type": "code",
   "execution_count": null,
   "id": "675f8617",
   "metadata": {},
   "outputs": [],
   "source": [
    "sn_processed_waves, dwave = sncosmo.utils.integration_grid(sn_pb_obj.minwave(), sn_pb_obj.maxwave(), 5.0)\n",
    "lcl_processed_waves = lynx_pb_obj.processed_transmission_table[:, 0]\n",
    "\n",
    "# Print out the range information for the underlying passband data\n",
    "print(\" Metric |   SN   |  Lynx  |\")\n",
    "print(f\" Start  | {sn_processed_waves[0]:5.1f} | {lynx_pb_obj.processed_transmission_table[0, 0]:5.1f} |\")\n",
    "print(f\" End    | {sn_processed_waves[-1]:5.1f} | {lynx_pb_obj.processed_transmission_table[-1, 0]:5.1f} |\")\n",
    "print(f\" Points | {len(sn_processed_waves):5d}  | {len(lynx_pb_obj.processed_transmission_table):5d}  |\")"
   ]
  },
  {
   "cell_type": "markdown",
   "id": "40d01f61",
   "metadata": {},
   "source": [
    "Wait! Why does the processed sncosmo wavelengths have one less point?\n",
    "\n",
    "It is because sncosmo's transmission table uses rectangular integration. Each bin is sampled in the center. We can modify the LightCurveLynx code to do the same thing."
   ]
  },
  {
   "cell_type": "code",
   "execution_count": null,
   "id": "ca23d2d6",
   "metadata": {},
   "outputs": [],
   "source": [
    "lynx_pb_obj2 = Passband.from_sncosmo(\"LSST\", \"r\", sn_pb_obj, rect_interp=True)\n",
    "lynx_pb_group2 = PassbandGroup([lynx_pb_obj2])\n",
    "\n",
    "print(\" Metric |   SN   |  Lynx  |\")\n",
    "print(f\" Start  | {sn_processed_waves[0]:5.1f} | {lynx_pb_obj2.processed_transmission_table[0, 0]:5.1f} |\")\n",
    "print(f\" End    | {sn_processed_waves[-1]:5.1f} | {lynx_pb_obj2.processed_transmission_table[-1, 0]:5.1f} |\")\n",
    "print(f\" Points | {len(sn_processed_waves):5d}  | {len(lynx_pb_obj2.processed_transmission_table):5d}  |\")"
   ]
  },
  {
   "cell_type": "markdown",
   "id": "f3b2082f",
   "metadata": {},
   "source": [
    "Now the sampled points and integration method match up. However the results diverge even more!"
   ]
  },
  {
   "cell_type": "code",
   "execution_count": null,
   "id": "fa051b88",
   "metadata": {},
   "outputs": [],
   "source": [
    "lynx_bandflux_fnu2 = lynx_model.evaluate_bandfluxes(\n",
    "    lynx_pb_group2,\n",
    "    times,\n",
    "    [\"r\"] * len(times),\n",
    "    state=lynx_state,\n",
    ")\n",
    "print(\"sncosmo bandflux (fnu):\", sn_bandflux_fnu)\n",
    "print(\"lynx bandflux (fnu):\", lynx_bandflux_fnu2)\n",
    "print(\"Ratio (lynx/sn):\", lynx_bandflux_fnu2 / sn_bandflux_fnu)"
   ]
  },
  {
   "cell_type": "markdown",
   "id": "d06a2058",
   "metadata": {},
   "source": [
    "So we can be relatively confident that it is not the mechanics of the integration that is causing the difference.\n",
    "\n",
    "## Normalization\n",
    "\n",
    "What about the normalization? \n",
    "\n",
    "### In LightCurveLynx\n",
    "\n",
    "In LightCurveLynx we compute the transmission table by first scaling all the values by the wavelenth and then normalizing the area under the curve to one. Let's call the original table values $T_i$ (for throughput) and the LightCurveLynx processed values $N_i$ (for normalized system response). Let $W_i$ be the corresponding wavelength value in Angstroms (from [here](https://github.com/lincc-frameworks/lightcurvelynx/blob/ad1c98b43c4b11533b6417ca97f666677370ffa8/src/lightcurvelynx/astro_utils/passbands.py#L1222)):\n",
    "\n",
    "$N_i = \\frac{\\frac{T_i}{W_i}}{\\sum_j (\\delta_j * \\frac{T_j}{W_j})}$\n",
    "\n",
    "where $\\delta_i$ is the width of the bin (in Angstroms)\n",
    "\n",
    "Thus a rectangular bandpass integration with measured flux $f_i$ in each bin, would compute (from [here](https://github.com/lincc-frameworks/lightcurvelynx/blob/ad1c98b43c4b11533b6417ca97f666677370ffa8/src/lightcurvelynx/astro_utils/passbands.py#L1283)):\n",
    "\n",
    "$bandflux_{fnu} = \\sum_i  (\\delta_i * f_i * N_i) = \\sum_i (\\delta_i * (\\frac{f_i * \\frac{T_i}{W_i})}{\\sum_j (\\delta_j * \\frac{T_j}{W_j})})$\n",
    "\n",
    "Assuming an equally spaced grid of wavelength samples ($\\delta_i = \\delta$ $\\forall i$), we get:\n",
    "\n",
    "$bandflux_{fnu} = \\sum_i (\\frac{\\frac{T_i}{W_i}}{\\sum_i (\\frac{T_i}{W_i})})$\n",
    "\n",
    "Let's consider a very basic case of a perfect step function filter where $T_i$=1.0 when $W_i \\in [5000, 7000]$ and 0.0 otherwise that is regularly sampled a $\\delta$=1.0:\n",
    "\n",
    "$N_i = \\frac{\\frac{1}{W_i}}{\\sum_j (\\frac{1}{W_j})}$"
   ]
  },
  {
   "cell_type": "code",
   "execution_count": null,
   "id": "10abdba2",
   "metadata": {},
   "outputs": [],
   "source": [
    "w_i = np.arange(5000, 7001, 1, dtype=float)\n",
    "t_i = np.ones_like(w_i)\n",
    "\n",
    "step_pb = Passband(\n",
    "    np.column_stack((w_i, t_i)),\n",
    "    survey=\"test\",\n",
    "    filter_name=\"r\",\n",
    "    delta_wave=1.0,\n",
    "    trim_quantile=None,\n",
    "    units=\"A\",\n",
    ")\n",
    "\n",
    "plt.plot(step_pb.processed_transmission_table[:, 0], step_pb.processed_transmission_table[:, 1])\n",
    "plt.xlabel(\"Wavelength (Angstrom)\")\n",
    "plt.ylabel(\"Transmission\")\n",
    "_ = plt.title(\"Step Passband\")"
   ]
  },
  {
   "cell_type": "markdown",
   "id": "7e2dd9c9",
   "metadata": {},
   "source": [
    "Thus the weight we give flux values (normalized system response) in the integration *decreases* with wavelength.\n",
    "\n",
    "Let's look at a few step function SEDs."
   ]
  },
  {
   "cell_type": "code",
   "execution_count": null,
   "id": "36f1ac5c",
   "metadata": {},
   "outputs": [],
   "source": [
    "num_times = 5\n",
    "num_waves = len(w_i)\n",
    "\n",
    "ax = plt.subplot(111)\n",
    "ax.set_xlabel(\"Wavelength (Angstrom)\")\n",
    "ax.set_ylabel(\"FNU (nJy)\")\n",
    "\n",
    "step_fnus = np.zeros((num_times, num_waves), dtype=float)\n",
    "for i in range(num_times):\n",
    "    start_ind = 2 * i * (num_waves // (2 * num_times))\n",
    "    end_ind = (2 * i + 1) * (num_waves // (2 * num_times))\n",
    "    step_fnus[i, start_ind:end_ind] = 1.0\n",
    "    ax.plot(w_i, step_fnus[i, :], label=f\"t={i}\")\n",
    "_ = ax.legend()"
   ]
  },
  {
   "cell_type": "code",
   "execution_count": null,
   "id": "057387a4",
   "metadata": {},
   "outputs": [],
   "source": [
    "step_bandfluxes = step_pb.fluxes_to_bandflux(step_fnus)\n",
    "\n",
    "plt.plot(np.arange(num_times), step_bandfluxes, marker=\"o\")\n",
    "plt.xlabel(\"Time\")\n",
    "plt.ylabel(\"Integrated Value\")\n",
    "_ = plt.title(\"Step Function Bandfluxes (LightCurveLynx)\")"
   ]
  },
  {
   "cell_type": "markdown",
   "id": "5f74fe9e",
   "metadata": {},
   "source": [
    "### In Sncosmo\n",
    "\n",
    "In contrast sncosmo does not transform the throughput into system response until after the integration (from [here](https://github.com/sncosmo/sncosmo/blob/c0309761e4516530e02b6bec7128d6366050ded1/sncosmo/models.py#L119)) and it *increases* the weight of the flux values with wavelength.\n",
    "\n",
    "$bandflux_{flam} = \\frac{1}{k} \\sum_i (W_i * T_i * f_i)$\n",
    "\n",
    "where $k$ is the constant `HC_ERG_AA` = 1.9864458571489284e-08.  The bandflux is then converted from flam to fnu as (from [here](https://github.com/sncosmo/sncosmo/blob/c0309761e4516530e02b6bec7128d6366050ded1/sncosmo/models.py#L158)):\n",
    "\n",
    "$bandflux_{fnu} = bandflux_{flam} * 10^{(0.4 * zp)} / magsys.zpbandflux$\n",
    "\n",
    "Given the zeropoint ($zp$) and the magnitude system's zeropoint bandflux ($magsys.zpbandflux$). For LSST's red filter, we use $zp$=31.4 and $magsys.zpbandflux$=536998.199084923 for a total scaling factor of 6761252.7451452995:\n",
    "\n",
    "$bandflux_{fnu} = \\frac{1}{k'} \\sum_i (W_i * T_i * f_i)$"
   ]
  },
  {
   "cell_type": "code",
   "execution_count": null,
   "id": "ef906002",
   "metadata": {},
   "outputs": [],
   "source": [
    "magsys = sncosmo.get_magsystem(\"ab\")\n",
    "zpnorm = 10.0 ** (0.4 * 31.4) / magsys.zpbandflux(\"lsstr\")\n",
    "print(\"magsys.zpbandflux: \", magsys.zpbandflux(\"lsstr\"))\n",
    "print(\"ZP Norm:\", zpnorm)"
   ]
  },
  {
   "cell_type": "markdown",
   "id": "0ab8417a",
   "metadata": {},
   "source": [
    "We can create the same \"step\" filter as the in the LightCurveLynx section by change our `sncosmo_bandflux` function to always use a transition value of 1.0 for every bin."
   ]
  },
  {
   "cell_type": "code",
   "execution_count": null,
   "id": "0e1a29ca",
   "metadata": {},
   "outputs": [],
   "source": [
    "def sncosmo_step_bandflux(flux, waves):\n",
    "    if waves.shape != flux.shape:\n",
    "        raise ValueError(\"Wavelength and flux arrays must have the same shape\")\n",
    "\n",
    "    dwave = waves[1] - waves[0]\n",
    "    if not np.allclose(np.diff(waves), dwave):\n",
    "        raise ValueError(\"Wavelengths must be evenly spaced\")\n",
    "    trans = np.ones_like(waves)\n",
    "\n",
    "    return np.sum(waves * trans * flux) * dwave / sncosmo.constants.HC_ERG_AA\n",
    "\n",
    "\n",
    "step_bandfluxes2 = [sncosmo_step_bandflux(step_fnus[i, :], w_i) for i in range(num_times)]\n",
    "\n",
    "plt.plot(np.arange(num_times), step_bandfluxes2, marker=\"o\")\n",
    "plt.xlabel(\"Time\")\n",
    "plt.ylabel(\"Integrated Value\")\n",
    "_ = plt.title(\"Step Function Bandfluxes (sncosmo)\")"
   ]
  }
 ],
 "metadata": {
  "kernelspec": {
   "display_name": "lightcurvelynx",
   "language": "python",
   "name": "python3"
  },
  "language_info": {
   "codemirror_mode": {
    "name": "ipython",
    "version": 3
   },
   "file_extension": ".py",
   "mimetype": "text/x-python",
   "name": "python",
   "nbconvert_exporter": "python",
   "pygments_lexer": "ipython3",
   "version": "3.10.4"
  }
 },
 "nbformat": 4,
 "nbformat_minor": 5
}
