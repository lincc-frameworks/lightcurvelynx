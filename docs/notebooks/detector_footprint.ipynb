{
 "cells": [
  {
   "cell_type": "markdown",
   "id": "b93e472d",
   "metadata": {},
   "source": [
    "# Detector Footprints\n",
    "\n",
    "In this tutorial we look at the basics of specifying detector footprints. Detector footprints provide templates for filtering which objects are seen in a given pointing. As such we will need to provide both the information about the query point and the survey pointing itself.\n",
    "\n",
    "Detector footprints are defined by AstroPy regions."
   ]
  },
  {
   "cell_type": "code",
   "execution_count": null,
   "id": "652fdc71",
   "metadata": {},
   "outputs": [],
   "source": [
    "import numpy as np\n",
    "\n",
    "from astropy import units as u\n",
    "from astropy.coordinates import SkyCoord\n",
    "from astropy.wcs import WCS\n",
    "from regions import CircleSkyRegion, RectangleSkyRegion\n",
    "\n",
    "from lightcurvelynx.astro_utils.detector_footprint import DetectorFootprint"
   ]
  },
  {
   "cell_type": "markdown",
   "id": "8dd0a2ee",
   "metadata": {},
   "source": [
    "## DetectorFootprint Class\n",
    "\n",
    "The `DetectorFootprint` class is a wrapper around the AstroPy region that handles data validation, handles transformations, and provides helper functions. Most users will not need to work with the `DetectorFootprint` directly as the wrapping will be handled automatically by the `ObsTable`.\n",
    "\n",
    "We start by defining a rectangular footprint with a width of 2 degrees and a height of 1 degree."
   ]
  },
  {
   "cell_type": "code",
   "execution_count": null,
   "id": "9310e49a",
   "metadata": {},
   "outputs": [],
   "source": [
    "center = SkyCoord(ra=0.0, dec=0.0, unit=\"deg\", frame=\"icrs\")\n",
    "rect_region = RectangleSkyRegion(center=center, width=2.0 * u.deg, height=1.0 * u.deg, angle=0.0)"
   ]
  },
  {
   "cell_type": "markdown",
   "id": "ca0a7505",
   "metadata": {},
   "source": [
    "### Plotting\n",
    "\n",
    "We can plot the footprint with the `plot` command."
   ]
  },
  {
   "cell_type": "code",
   "execution_count": null,
   "id": "75a0fcdf",
   "metadata": {},
   "outputs": [],
   "source": [
    "fp.plot()"
   ]
  },
  {
   "cell_type": "markdown",
   "id": "11c32b1b",
   "metadata": {},
   "source": [
    "However in most cases we will be interested in seeing the footprint in the context of a pointing on the sky. Let's plot the footprint centered on RA=20.0 and dec=10.0 with a 30 degree clockwise rotation."
   ]
  },
  {
   "cell_type": "code",
   "execution_count": null,
   "id": "458f4720",
   "metadata": {},
   "outputs": [],
   "source": [
    "fp.plot(center_ra=20.0, center_dec=10.0, rotation=30.0)"
   ]
  },
  {
   "cell_type": "markdown",
   "id": "3e9d5b01",
   "metadata": {},
   "source": [
    "The `plot` command can also show points relative to the footprint and whether they are inside or outside the area."
   ]
  },
  {
   "cell_type": "code",
   "execution_count": null,
   "id": "d1cafd74",
   "metadata": {},
   "outputs": [],
   "source": [
    "ra_points = []\n",
    "dec_points = []\n",
    "for ra in np.linspace(18, 22, 20):\n",
    "    for dec in np.linspace(8, 12, 20):\n",
    "        ra_points.append(ra)\n",
    "        dec_points.append(dec)\n",
    "ra_points = np.array(ra_points)\n",
    "dec_points = np.array(dec_points)\n",
    "\n",
    "ax = fp.plot(\n",
    "    center_ra=20.0,\n",
    "    center_dec=10.0,\n",
    "    rotation=30.0,\n",
    "    point_ra=ra_points,\n",
    "    point_dec=dec_points,\n",
    ")"
   ]
  },
  {
   "cell_type": "markdown",
   "id": "cba4088b",
   "metadata": {},
   "source": [
    "### Querying\n",
    "\n",
    "The code uses the same notation for querying whether a point is within the footprint. Unlike plotting, we might which to query multiple pointings (with different center locations and rotations) at once. The `contains` function can take a vector of center points and rotations. All arrays must be the same length."
   ]
  },
  {
   "cell_type": "code",
   "execution_count": null,
   "id": "334d1bb4",
   "metadata": {},
   "outputs": [],
   "source": [
    "# The query points alternate between (20, 10) and (25, 10))\n",
    "query_ra = np.array([20.0, 25.0, 20.0, 25.0])\n",
    "query_dec = np.array([10.0, 10.0, 10.0, 10.0])\n",
    "\n",
    "# The survey pointings alternate between (20, 10) and (10, 10).\n",
    "# No rotation is applied.\n",
    "pointing_ra = np.array([20.0, 20.0, 10.0, 10.0])\n",
    "pointing_dec = np.array([10.0, 10.0, 10.0, 10.0])\n",
    "\n",
    "contains = fp.contains(query_ra, query_dec, pointing_ra, pointing_dec)\n",
    "print(contains)"
   ]
  },
  {
   "cell_type": "markdown",
   "id": "6c673f91",
   "metadata": {},
   "source": [
    "As we see the first point falls within the footprint, but the remaining points do not."
   ]
  },
  {
   "cell_type": "markdown",
   "id": "714333ef",
   "metadata": {},
   "source": [
    "## Circular Footprints\n",
    "\n",
    "By default the `ObsTable` class does an initial filtering based on a circular radius. However in some cases we might want to later use a tighter circular radius.  We can do this with the `CircularFootprint` class.\n",
    "\n",
    "Here we create a circular footprint with a 1 degree radius."
   ]
  },
  {
   "cell_type": "code",
   "execution_count": null,
   "id": "0838d7f4",
   "metadata": {},
   "outputs": [],
   "source": [
    "fp2 = CircularFootprint(1.0)\n",
    "ax = fp2.plot(\n",
    "    center_ra=20.0,\n",
    "    center_dec=10.0,\n",
    "    point_ra=ra_points,\n",
    "    point_dec=dec_points,\n",
    ")"
   ]
  }
 ],
 "metadata": {
  "kernelspec": {
   "display_name": "lightcurvelynx",
   "language": "python",
   "name": "python3"
  },
  "language_info": {
   "codemirror_mode": {
    "name": "ipython",
    "version": 3
   },
   "file_extension": ".py",
   "mimetype": "text/x-python",
   "name": "python",
   "nbconvert_exporter": "python",
   "pygments_lexer": "ipython3",
   "version": "3.10.4"
  }
 },
 "nbformat": 4,
 "nbformat_minor": 5
}
