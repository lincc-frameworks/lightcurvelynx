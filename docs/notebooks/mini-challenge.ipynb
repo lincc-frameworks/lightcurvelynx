{
 "cells": [
  {
   "cell_type": "markdown",
   "id": "9e8be2c9-2d1a-4e0a-b05c-0ae4a9233529",
   "metadata": {},
   "source": [
    "# Mini-challenge starting point\n",
    "\n",
    "_Alex Malz (LINCC-Frameworks@CMU) & {add your name here}_\n",
    "\n",
    "TODOs:\n",
    "- [x] replace sources with some sncosmo sources using setup from plasticc_snia notebook\n",
    "- [ ] timeit/cprofile"
   ]
  },
  {
   "cell_type": "code",
   "execution_count": null,
   "id": "32857ade-5aa7-431b-bc06-11f5ef49aa2c",
   "metadata": {},
   "outputs": [],
   "source": [
    "import numpy as np\n",
    "from astropy.cosmology import FlatLambdaCDM\n",
    "import matplotlib.pyplot as plt\n",
    "\n",
    "from tdastro.sources.basic_sources import StaticSource\n",
    "from tdastro.math_nodes.np_random import NumpyRandomFunc\n",
    "from tdastro.astro_utils.snia_utils import DistModFromRedshift\n",
    "from tdastro.base_models import FunctionNode\n",
    "from tdastro.math_nodes.basic_math_node import BasicMathNode\n",
    "\n",
    "from tdastro.astro_utils.opsim import OpSim\n",
    "from tdastro.astro_utils.passbands import PassbandGroup\n",
    "from tdastro.astro_utils.pzflow_node import PZFlowNode\n",
    "from tdastro.astro_utils.snia_utils import (\n",
    "    DistModFromRedshift,\n",
    "    HostmassX1Func,\n",
    "    X0FromDistMod,\n",
    ")\n",
    "from tdastro.math_nodes.np_random import NumpyRandomFunc\n",
    "from tdastro.simulate import simulate_lightcurves\n",
    "from tdastro.sources.sncomso_models import SncosmoWrapperModel\n",
    "from tdastro.sources.snia_host import SNIaHost\n",
    "from tdastro.utils.plotting import plot_lightcurves\n",
    "\n",
    "from tdastro import _TDASTRO_BASE_DATA_DIR\n",
    "\n",
    "import cProfile, pstats, io\n",
    "from pstats import SortKey"
   ]
  },
  {
   "cell_type": "markdown",
   "id": "4bf562bd-5a6a-410f-98a5-a390dd940fbe",
   "metadata": {},
   "source": [
    "I want to show how you can define multiple sources and generate a population of light curves under two opsims.\n",
    "Then I'll add resource/time profiling to find bottlenecks."
   ]
  },
  {
   "cell_type": "markdown",
   "id": "171fa5f1-81cc-4101-9883-56e5965f8c52",
   "metadata": {},
   "source": [
    "## Define classes of source and their linkages and parameters\n",
    "\n",
    "modifications of tdastro/docs/notebooks/pre_executed/plasticc_snia.ipynb"
   ]
  },
  {
   "cell_type": "code",
   "execution_count": null,
   "id": "d13f1cad-6806-4222-b667-ede509d72eb4",
   "metadata": {},
   "outputs": [],
   "source": [
    "# Load the Flow model into a PZFlow node. This gives access to all of the outputs of the\n",
    "# flow model as attributes of the PZFlowNode.\n",
    "pz_node = PZFlowNode.from_file('../../tests/tdastro/data/snia_hosts_test_pzflow.pkl',\n",
    "    # _TDASTRO_BASE_DATA_DIR / \"model_f?iles\" / \"snia_hosts_test_pzflow.pkl\",  # filename\n",
    "    node_label=\"pznode\",\n",
    ")\n",
    "\n",
    "# Create a model for the host of the SNIa. The attributes will be sampled via\n",
    "# the PZFlowNode's model. So each host instantiation will have its own properties.\n",
    "# Note: This requires the user to know the output names from the underlying flow model.\n",
    "host = SNIaHost(\n",
    "    ra=pz_node.RA_GAL,\n",
    "    dec=pz_node.DEC_GAL,\n",
    "    hostmass=pz_node.LOGMASS,\n",
    "    redshift=NumpyRandomFunc(\"uniform\", low=0.1, high=0.6),\n",
    "    node_label=\"host\",\n",
    ")"
   ]
  },
  {
   "cell_type": "markdown",
   "id": "763167e6-b50d-426b-8b5d-b562bf6ef482",
   "metadata": {},
   "source": [
    "need to set up for opsim up front"
   ]
  },
  {
   "cell_type": "code",
   "execution_count": null,
   "id": "6b8bb268-495c-4a5e-a574-b69692a41185",
   "metadata": {
    "scrolled": true
   },
   "outputs": [],
   "source": [
    "#DON'T RUN ME AGAIN! TAKES A MINUTE\n",
    "\n",
    "pr = cProfile.Profile()\n",
    "pr.enable()\n",
    "\n",
    "# Load the OpSim data.\n",
    "opsim_db = OpSim.from_db('../../tests/tdastro/data/baseline_v3.4_10yrs.db')#_TDASTRO_BASE_DATA_DIR / \"opsim_db\" / \"baseline_v3.4_10yrs.db\")\n",
    "t_min, t_max = opsim_db.time_bounds()\n",
    "print(f\"Loaded OpSim with {len(opsim_db)} rows and times [{t_min}, {t_max}]\")\n",
    "\n",
    "# Load the passband data for the griz filters only.\n",
    "passband_group = PassbandGroup(\n",
    "    preset=\"LSST\", filters_to_load=[\"g\", \"r\", \"i\", \"z\"], units=\"nm\", trim_quantile=0.001, delta_wave=1\n",
    ")\n",
    "print(f\"Loaded Passbands: {passband_group}\")\n",
    "\n",
    "pr.disable()\n",
    "s = io.StringIO()\n",
    "sortby = SortKey.CUMULATIVE\n",
    "ps = pstats.Stats(pr, stream=s).sort_stats(sortby)\n",
    "ps.print_stats()\n",
    "print(s.getvalue())"
   ]
  },
  {
   "cell_type": "code",
   "execution_count": null,
   "id": "67294031-d918-490c-ba98-45a64aab75b1",
   "metadata": {},
   "outputs": [],
   "source": [
    "# Create a mask of matching filters.\n",
    "filter_mask = passband_group.mask_by_filter(opsim_db[\"filter\"])\n",
    "\n",
    "# Filter the OpSim\n",
    "opsim_db = opsim_db.filter_rows(filter_mask)\n",
    "t_min, t_max = opsim_db.time_bounds()\n",
    "print(f\"Filtered OpSim to {len(opsim_db)} rows and times [{t_min}, {t_max}]\")"
   ]
  },
  {
   "cell_type": "markdown",
   "id": "7bbd7847-f550-4e03-be75-2a3201d4c8c3",
   "metadata": {},
   "source": [
    "this will download models\n",
    "\n",
    "TODO:\n",
    "- [ ] all the sncosmo models!"
   ]
  },
  {
   "cell_type": "code",
   "execution_count": null,
   "id": "9af38058-624e-4f3d-a658-33cb54a2069f",
   "metadata": {},
   "outputs": [],
   "source": [
    "distmod_func = DistModFromRedshift(host.redshift, H0=73.0, Omega_m=0.3)\n",
    "x1_func = HostmassX1Func(host.hostmass)\n",
    "c_func = NumpyRandomFunc(\"normal\", loc=0, scale=0.02)\n",
    "m_abs_func = NumpyRandomFunc(\"normal\", loc=-19.3, scale=0.1)\n",
    "x0_func = X0FromDistMod(\n",
    "    distmod=distmod_func,\n",
    "    x1=x1_func,\n",
    "    c=c_func,\n",
    "    alpha=0.14,\n",
    "    beta=3.1,\n",
    "    m_abs=m_abs_func,\n",
    "    node_label=\"x0_func\",\n",
    ")\n",
    "\n",
    "sncosmo_modelname = \"salt2-h17\"\n",
    "source = SncosmoWrapperModel(\n",
    "    sncosmo_modelname,\n",
    "    t0=NumpyRandomFunc(\"uniform\", low=t_min, high=t_max),\n",
    "    x0=x0_func,\n",
    "    x1=x1_func,\n",
    "    c=c_func,\n",
    "    ra=NumpyRandomFunc(\"normal\", loc=host.ra, scale=0.01),\n",
    "    dec=NumpyRandomFunc(\"normal\", loc=host.dec, scale=0.01),\n",
    "    redshift=host.redshift,\n",
    "    node_label=\"source\",\n",
    ")"
   ]
  },
  {
   "cell_type": "code",
   "execution_count": null,
   "id": "34b025fa-a9c7-442e-9488-d7aa9d74f997",
   "metadata": {},
   "outputs": [],
   "source": [
    "source1 = StaticSource(brightness=10.0, node_label=\"my_static_source\", ra=55.5, dec=-43.5)\n",
    "\n",
    "brightness_func = NumpyRandomFunc(\"uniform\", low=11.0, high=15.5)\n",
    "source2 = StaticSource(brightness=brightness_func, ra=65.5, dec=-53.5, node_label=\"my_static_source_2\")\n",
    "\n",
    "source3 = StaticSource(\n",
    "    brightness=NumpyRandomFunc(\"normal\", loc=20.0, scale=2.0),\n",
    "    redshift=NumpyRandomFunc(\"uniform\", low=0.1, high=0.5),\n",
    "    ra=1.0, dec=2.0,\n",
    "    node_label=\"test\",\n",
    "    t0=0.,\n",
    ")\n",
    "\n",
    "# host = StaticSource(brightness=15.0, ra=1.0, dec=2.0, node_label=\"host\")\n",
    "# source = StaticSource(brightness=10.0, ra=host.ra, dec=host.dec, node_label=\"source\")\n",
    "# state = source.sample_parameters(num_samples=5)\n",
    "\n",
    "# for i in range(5):\n",
    "#     print(\n",
    "#         f\"{i}: Host=({state['host']['ra'][i]}, {state['host']['dec'][i]})\"\n",
    "#         f\"Source=({state['source']['ra'][i]}, {state['source']['dec'][i]})\"\n",
    "#     )"
   ]
  },
  {
   "cell_type": "markdown",
   "id": "94c398ff-160e-49ef-9aad-73f45c62d261",
   "metadata": {},
   "source": [
    "### Take samples of the underlying parameters (or do it implicitly in simulating light curves)"
   ]
  },
  {
   "cell_type": "code",
   "execution_count": null,
   "id": "73c92e52-c4bc-4235-b337-7ca2c6c583d0",
   "metadata": {},
   "outputs": [],
   "source": [
    "# state = source1.sample_parameters(num_samples=10)\n",
    "# state[\"my_static_source\"][\"brightness\"]\n",
    "\n",
    "# state = source1.sample_parameters(num_samples=10)\n",
    "# state[\"my_static_source\"][\"brightness\"]\n",
    "\n",
    "# state = source2.sample_parameters(num_samples=10)\n",
    "# state[\"my_static_source_2\"][\"brightness\"]\n",
    "\n",
    "# num_samples = 10\n",
    "# state = source3.sample_parameters(num_samples=num_samples)\n",
    "# for i in range(num_samples):\n",
    "#     print(f\"{i}: brightness={state['test']['brightness'][i]} redshift={state['test']['redshift'][i]}\")"
   ]
  },
  {
   "cell_type": "code",
   "execution_count": null,
   "id": "6c11bf0a-da6a-445e-9e11-514bf3bb5bbb",
   "metadata": {},
   "outputs": [],
   "source": [
    "# single_sample = state.extract_single_sample(0)\n",
    "# print(str(single_sample))"
   ]
  },
  {
   "cell_type": "code",
   "execution_count": null,
   "id": "9dacf79f-6268-43d3-af5a-75eb1eda5a87",
   "metadata": {},
   "outputs": [],
   "source": [
    "# cosmo_obj = FlatLambdaCDM(H0=73.0, Om0=0.3)\n",
    "# redshifts = np.array([0.1, 0.2, 0.3])\n",
    "# distmods = cosmo_obj.distmod(redshifts).value\n",
    "# print(distmods)"
   ]
  },
  {
   "cell_type": "code",
   "execution_count": null,
   "id": "a77b21c9-e456-42ad-9db0-b0354d2705e6",
   "metadata": {},
   "outputs": [],
   "source": [
    "# distmod_obj = DistModFromRedshift(\n",
    "#     H0=73.0, Omega_m=0.3, redshift=NumpyRandomFunc(\"uniform\", low=0.1, high=0.5)\n",
    "# )"
   ]
  },
  {
   "cell_type": "markdown",
   "id": "aedbc0b4-5069-4fb0-bba9-72ed5e39c65d",
   "metadata": {},
   "source": [
    "## Apply observational effects and opsim/passbands to make light curves"
   ]
  },
  {
   "cell_type": "markdown",
   "id": "50b8f270-3a35-46a1-8796-def987f3bb41",
   "metadata": {},
   "source": [
    "need to download an opsim (see convenient one [here](https://drive.google.com/drive/folders/1XIgEfi9BOEHW0W-uM7XvzlnOcRfaCSM0)) and then change argument to relative path with respect to this notebook"
   ]
  },
  {
   "cell_type": "code",
   "execution_count": null,
   "id": "3f51384a-4e3e-4e78-9c45-017a08c20ef8",
   "metadata": {},
   "outputs": [],
   "source": [
    "lightcurves = simulate_lightcurves(source, 1_000, opsim_db, passband_group)\n",
    "print(lightcurves)"
   ]
  },
  {
   "cell_type": "markdown",
   "id": "36ccf793-af69-4de8-94d5-54ce8df027db",
   "metadata": {},
   "source": [
    "params or parameters not both, also can I just print these with repr instead of digging? (get vs extract)"
   ]
  },
  {
   "cell_type": "code",
   "execution_count": null,
   "id": "b614b73f-5e91-4061-b27c-6b70c11ed412",
   "metadata": {},
   "outputs": [],
   "source": [
    "# test_samps = source2.sample_parameters()\n",
    "\n",
    "# test_samps.extract_parameters('dec')"
   ]
  },
  {
   "cell_type": "code",
   "execution_count": null,
   "id": "06352b9e-cad7-496f-b787-7e3f6a2b2d2d",
   "metadata": {},
   "outputs": [],
   "source": [
    "pr = cProfile.Profile()\n",
    "pr.enable()\n",
    "lightcurves1 = simulate_lightcurves(source1, 10, opsim_db, passband_group)\n",
    "print(lightcurves1)\n",
    "pr.disable()\n",
    "s = io.StringIO()\n",
    "sortby = SortKey.CUMULATIVE\n",
    "ps = pstats.Stats(pr, stream=s).sort_stats(sortby)\n",
    "ps.print_stats()\n",
    "print(s.getvalue())"
   ]
  },
  {
   "cell_type": "code",
   "execution_count": null,
   "id": "f38f7566-ff4e-4c63-a81e-b02d8eefc256",
   "metadata": {},
   "outputs": [],
   "source": [
    "pr = cProfile.Profile()\n",
    "pr.enable()\n",
    "lightcurves2 = simulate_lightcurves(source2, 100, opsim_db, passband_group)\n",
    "print(lightcurves2)\n",
    "pr.disable()\n",
    "s = io.StringIO()\n",
    "sortby = SortKey.CUMULATIVE\n",
    "ps = pstats.Stats(pr, stream=s).sort_stats(sortby)\n",
    "ps.print_stats()\n",
    "print(s.getvalue())"
   ]
  },
  {
   "cell_type": "code",
   "execution_count": null,
   "id": "4f519aaa-8b6d-49a8-9dab-3beb3b56d2da",
   "metadata": {},
   "outputs": [],
   "source": [
    "pr = cProfile.Profile()\n",
    "pr.enable()\n",
    "lightcurves3 = simulate_lightcurves(source3, 1000, opsim_db, passband_group)\n",
    "print(lightcurves3)\n",
    "pr.disable()\n",
    "s = io.StringIO()\n",
    "sortby = SortKey.CUMULATIVE\n",
    "ps = pstats.Stats(pr, stream=s).sort_stats(sortby)\n",
    "ps.print_stats()\n",
    "print(s.getvalue())"
   ]
  },
  {
   "cell_type": "markdown",
   "id": "5ddfd067-8e81-47a8-a233-676eec9c1384",
   "metadata": {},
   "source": [
    "## Look at the light curves"
   ]
  },
  {
   "cell_type": "code",
   "execution_count": null,
   "id": "7a2f92b2-6e85-4569-983f-ad6dcca43313",
   "metadata": {},
   "outputs": [],
   "source": [
    "def show_me_lcs(lcs):\n",
    "    random_ids = np.random.choice(len(lightcurves), 10)\n",
    "\n",
    "    for random_id in random_ids:\n",
    "    # Extract the row for this object.\n",
    "        lc = lcs.loc[random_id]\n",
    "\n",
    "        if lc[\"nobs\"] > 0:\n",
    "        # Unpack the nested columns (filters, mjd, flux, and flux error).\n",
    "            lc_filters = np.asarray(lc[\"lightcurve\"][\"filter\"], dtype=str)\n",
    "            lc_mjd = np.asarray(lc[\"lightcurve\"][\"mjd\"], dtype=float)\n",
    "            lc_flux = np.asarray(lc[\"lightcurve\"][\"flux\"], dtype=float)\n",
    "            lc_fluxerr = np.asarray(lc[\"lightcurve\"][\"fluxerr\"], dtype=float)\n",
    "\n",
    "            plot_lightcurves(\n",
    "                fluxes=lc_flux,\n",
    "                times=lc_mjd,\n",
    "                fluxerrs=lc_fluxerr,\n",
    "                filters=lc_filters,\n",
    "                )"
   ]
  },
  {
   "cell_type": "code",
   "execution_count": null,
   "id": "0ae1dbfd-0ac5-4e86-8c2f-fd437b41752d",
   "metadata": {},
   "outputs": [],
   "source": [
    "show_me_lcs(lightcurves3)"
   ]
  },
  {
   "cell_type": "code",
   "execution_count": null,
   "id": "d8af686a-488f-447a-a0d8-ce15122a89a6",
   "metadata": {},
   "outputs": [],
   "source": []
  },
  {
   "cell_type": "code",
   "execution_count": null,
   "id": "9e253ca0-38c6-4b57-98f4-a876e3845617",
   "metadata": {},
   "outputs": [],
   "source": []
  },
  {
   "cell_type": "code",
   "execution_count": null,
   "id": "9fd27b49-76b6-4de5-a267-5cc290c630e5",
   "metadata": {},
   "outputs": [],
   "source": []
  }
 ],
 "metadata": {
  "kernelspec": {
   "display_name": "TDAstro",
   "language": "python",
   "name": "tdastro_3"
  },
  "language_info": {
   "codemirror_mode": {
    "name": "ipython",
    "version": 3
   },
   "file_extension": ".py",
   "mimetype": "text/x-python",
   "name": "python",
   "nbconvert_exporter": "python",
   "pygments_lexer": "ipython3",
   "version": "3.10.12"
  }
 },
 "nbformat": 4,
 "nbformat_minor": 5
}
