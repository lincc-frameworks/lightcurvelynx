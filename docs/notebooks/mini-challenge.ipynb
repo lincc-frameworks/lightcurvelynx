{
 "cells": [
  {
   "cell_type": "markdown",
   "id": "9e8be2c9-2d1a-4e0a-b05c-0ae4a9233529",
   "metadata": {},
   "source": [
    "# Mini-challenge starting point\n",
    "\n",
    "_Alex Malz (LINCC-Frameworks@CMU) & {add your name here}_\n",
    "\n",
    "TODOs:\n",
    "- [x] replace sources with some sncosmo sources using setup from plasticc_snia notebook\n",
    "- [X] timeit/cprofile"
   ]
  },
  {
   "cell_type": "code",
   "execution_count": null,
   "id": "8843f319-7b8c-4d41-a815-6b6ef9762729",
   "metadata": {},
   "outputs": [],
   "source": [
    "import numpy as np\n",
    "from astropy.cosmology import FlatLambdaCDM\n",
    "import matplotlib.pyplot as plt\n",
    "from scipy.interpolate import interp1d"
   ]
  },
  {
   "cell_type": "code",
   "execution_count": null,
   "id": "1e5fbe03-1a9e-4d06-88f8-88119f7b4f48",
   "metadata": {},
   "outputs": [],
   "source": [
    "from tdastro.sources.basic_sources import StaticSource\n",
    "from tdastro.math_nodes.np_random import NumpyRandomFunc\n",
    "from tdastro.astro_utils.snia_utils import DistModFromRedshift\n",
    "from tdastro.base_models import FunctionNode\n",
    "from tdastro.math_nodes.basic_math_node import BasicMathNode\n",
    "\n",
    "from tdastro.opsim.opsim import OpSim\n",
    "# from tdastro.astro_utils.opsim import OpSim\n",
    "from tdastro.astro_utils.passbands import PassbandGroup\n",
    "from tdastro.astro_utils.pzflow_node import PZFlowNode\n",
    "from tdastro.astro_utils.snia_utils import (\n",
    "    DistModFromRedshift,\n",
    "    HostmassX1Func,\n",
    "    X0FromDistMod,\n",
    "    num_snia_per_redshift_bin,\n",
    ")\n",
    "from tdastro.math_nodes.np_random import NumpyRandomFunc\n",
    "from tdastro.simulate import simulate_lightcurves\n",
    "from tdastro.sources.sncomso_models import SncosmoWrapperModel\n",
    "from tdastro.sources.snia_host import SNIaHost\n",
    "from tdastro.utils.plotting import plot_lightcurves\n",
    "from tdastro.math_nodes.ra_dec_sampler import OpSimUniformRADECSampler\n",
    "from tdastro.math_nodes.scipy_random import SamplePDF\n",
    "from tdastro.astro_utils.dustmap import DustmapWrapper,SFDMap\n",
    "from tdastro.effects.extinction import ExtinctionEffect\n",
    "\n",
    "from tdastro import _TDASTRO_BASE_DATA_DIR\n",
    "\n",
    "import cProfile, pstats, io\n",
    "from pstats import SortKey"
   ]
  },
  {
   "cell_type": "markdown",
   "id": "763167e6-b50d-426b-8b5d-b562bf6ef482",
   "metadata": {},
   "source": [
    "need to set up for opsim up front\n",
    "\n",
    "- [ ] subset of opsim e.g. y1"
   ]
  },
  {
   "cell_type": "markdown",
   "id": "50b8f270-3a35-46a1-8796-def987f3bb41",
   "metadata": {},
   "source": [
    "need to download an opsim (see convenient one [here](https://drive.google.com/drive/folders/1XIgEfi9BOEHW0W-uM7XvzlnOcRfaCSM0)) and then change argument to relative path with respect to this notebook"
   ]
  },
  {
   "cell_type": "code",
   "execution_count": null,
   "id": "6b8bb268-495c-4a5e-a574-b69692a41185",
   "metadata": {
    "scrolled": true
   },
   "outputs": [],
   "source": [
    "#DON'T RUN ME AGAIN! TAKES A MINUTE\n",
    "\n",
    "pr = cProfile.Profile()\n",
    "pr.enable()\n",
    "\n",
    "# Load the OpSim data.\n",
    "opsim_db = OpSim.from_db('../../tests/tdastro/data/baseline_v3.4_10yrs.db')#_TDASTRO_BASE_DATA_DIR / \"opsim_db\" / \"baseline_v3.4_10yrs.db\")\n",
    "t_min, t_max = opsim_db.time_bounds()\n",
    "print(f\"Loaded OpSim with {len(opsim_db)} rows and times [{t_min}, {t_max}]\")\n",
    "\n",
    "# Load the passband data for the griz filters only.\n",
    "passband_group = PassbandGroup(\n",
    "    preset=\"LSST\", filters_to_load=[\"g\", \"r\", \"i\", \"z\"], units=\"nm\", trim_quantile=0.001, delta_wave=1\n",
    ")\n",
    "print(f\"Loaded Passbands: {passband_group}\")\n",
    "\n",
    "pr.disable()\n",
    "s = io.StringIO()\n",
    "sortby = SortKey.CUMULATIVE\n",
    "ps = pstats.Stats(pr, stream=s).sort_stats(sortby)\n",
    "ps.print_stats()\n",
    "print(s.getvalue())"
   ]
  },
  {
   "cell_type": "markdown",
   "id": "4bf562bd-5a6a-410f-98a5-a390dd940fbe",
   "metadata": {},
   "source": [
    "I want to show how you can define multiple sources and generate a population of light curves under two opsims.\n",
    "Then I'll add resource/time profiling to find bottlenecks."
   ]
  },
  {
   "cell_type": "markdown",
   "id": "171fa5f1-81cc-4101-9883-56e5965f8c52",
   "metadata": {},
   "source": [
    "## Define classes of source and their linkages and parameters\n",
    "\n",
    "modifications of tdastro/docs/notebooks/pre_executed/plasticc_snia.ipynb"
   ]
  },
  {
   "cell_type": "code",
   "execution_count": null,
   "id": "d13f1cad-6806-4222-b667-ede509d72eb4",
   "metadata": {},
   "outputs": [],
   "source": [
    "# Load the Flow model into a PZFlow node. This gives access to all of the outputs of the\n",
    "# flow model as attributes of the PZFlowNode.\n",
    "pz_node = PZFlowNode.from_file('../../tests/tdastro/data/snia_hosts_test_pzflow.pkl',\n",
    "    # _TDASTRO_BASE_DATA_DIR / \"model_f?iles\" / \"snia_hosts_test_pzflow.pkl\",  # filename\n",
    "    node_label=\"pznode\",\n",
    ")\n",
    "radec_node = OpSimUniformRADECSampler(opsim_db, radius=1.5, node_label=\"radec\")\n",
    "\n",
    "\n",
    "# Create a model for the host of the SNIa. The attributes will be sampled via\n",
    "# the PZFlowNode's model. So each host instantiation will have its own properties.\n",
    "# Note: This requires the user to know the output names from the underlying flow model.\n",
    "# host = SNIaHost(\n",
    "#     ra=pz_node.RA_GAL,\n",
    "#     dec=pz_node.DEC_GAL,\n",
    "#     hostmass=pz_node.LOGMASS,\n",
    "#     redshift=NumpyRandomFunc(\"uniform\", low=0.1, high=0.6),\n",
    "#     node_label=\"host\",\n",
    "# )\n",
    "\n",
    "zmin = 0.01\n",
    "zmax = 0.08\n",
    "H0 = 70.0\n",
    "Omega_m = 0.3\n",
    "nsn, z = num_snia_per_redshift_bin(zmin, zmax, 100, H0=H0, Omega_m=Omega_m)\n",
    "zpdf = interp1d(z, nsn, bounds_error=False, fill_value=0)\n",
    "\n",
    "host = SNIaHost(\n",
    "    ra = radec_node.ra,\n",
    "    dec = radec_node.dec,\n",
    "    hostmass=pz_node.LOGMASS,\n",
    "    redshift=SamplePDF(zpdf),\n",
    "    node_label=\"host\",\n",
    ")"
   ]
  },
  {
   "cell_type": "code",
   "execution_count": null,
   "id": "67294031-d918-490c-ba98-45a64aab75b1",
   "metadata": {},
   "outputs": [],
   "source": [
    "# Create a mask of matching filters.\n",
    "filter_mask = passband_group.mask_by_filter(opsim_db[\"filter\"])\n",
    "\n",
    "# Filter the OpSim\n",
    "opsim_db = opsim_db.filter_rows(filter_mask)\n",
    "t_min, t_max = opsim_db.time_bounds()\n",
    "print(f\"Filtered OpSim to {len(opsim_db)} rows and times [{t_min}, {t_max}]\")"
   ]
  },
  {
   "cell_type": "markdown",
   "id": "7bbd7847-f550-4e03-be75-2a3201d4c8c3",
   "metadata": {},
   "source": [
    "this will download models\n",
    "\n",
    "TODO:\n",
    "- [ ] detection\n",
    "- [ ] intrinsic scatter model\n",
    "- [X] more sncosmo models!\n",
    "- [ ] model from arbitrary SEDxtime file\n",
    "- [ ] AGN model\n",
    "- [ ] host galaxy models (SED as static source)\n",
    "- [X] dustmap and other obs. effs.\n",
    "- [X] parameters from realistic distributions\n",
    "- [ ] try extrapolation of models for higher redshifts w.r.t. bands, and also times\n",
    "- [ ] put into nested?"
   ]
  },
  {
   "cell_type": "markdown",
   "id": "d65c266b-a5db-475a-adbe-994e2363dce8",
   "metadata": {},
   "source": [
    "from PLAsTiCC models paper:\n",
    "- `salt2-h17` with c, x1 (and alpha, beta) from [Scolnic and Kessler 2017](https://arxiv.org/pdf/1603.01559) - two half-normals with sigma- and sigma+ from table 1 with probability p_low/p_high = sigma_high/sigma_low, same for `m_abs_func`; z from plasticc models paper eqn 1 and 2 (rate model)\n",
    "- core-collapse 70\\% II and 30\\% Ibc with same rate model of Strolger+15 eq 8 and 9 and their constants; use the model files from Zenodo at random, also need brightness with offset drawn from N(1.5, 1.05^2) convert to flux, add/multiply by SED file values for amplitude normalization"
   ]
  },
  {
   "cell_type": "code",
   "execution_count": null,
   "id": "4fbb4261-238d-4234-b74c-c674e24a0180",
   "metadata": {},
   "outputs": [],
   "source": [
    "distmod_func = DistModFromRedshift(host.redshift, H0=73.0, Omega_m=0.3)\n",
    "\n",
    "x1_func = HostmassX1Func(host.hostmass)\n",
    "# this should become the above Scolnic & Kessler half-normals\n",
    "\n",
    "c_func = NumpyRandomFunc(\"normal\", loc=0, scale=0.02)\n",
    "# this should become the above Scolnic & Kessler half-normals\n",
    "\n",
    "m_abs_func = NumpyRandomFunc(\"normal\", loc=-19.3, scale=0.1)\n",
    "# this ideally should be SED- and time-dependent intrinsic scatter from plasticc\n",
    "\n",
    "x0_func = X0FromDistMod(\n",
    "    distmod=distmod_func,\n",
    "    x1=x1_func,\n",
    "    c=c_func,\n",
    "    alpha=0.14, # 0.142 observed, \n",
    "    beta=3.1, # 3.123 observed, \n",
    "    m_abs=m_abs_func,\n",
    "    node_label=\"x0_func\",\n",
    ")"
   ]
  },
  {
   "cell_type": "code",
   "execution_count": null,
   "id": "bb26d77e-d7fa-4d50-9fd2-fdf9ca6c3f68",
   "metadata": {},
   "outputs": [],
   "source": [
    "sncosmo_modelname = \"salt2-h17\"\n",
    "source = SncosmoWrapperModel(\n",
    "    sncosmo_modelname,\n",
    "    t0=NumpyRandomFunc(\"uniform\", low=t_min, high=t_max),\n",
    "    x0=x0_func,\n",
    "    x1=x1_func,\n",
    "    c=c_func,\n",
    "    ra=NumpyRandomFunc(\"normal\", loc=host.ra, scale=0.01),\n",
    "    dec=NumpyRandomFunc(\"normal\", loc=host.dec, scale=0.01),\n",
    "    redshift=host.redshift,\n",
    "    node_label=\"source\",\n",
    ")"
   ]
  },
  {
   "cell_type": "markdown",
   "id": "2288b6c5-ba41-484b-a448-c6829f843c68",
   "metadata": {},
   "source": [
    "More effects next\n",
    "\n",
    "- [ ] peculiar velocity\n",
    "- [ ] weak lensing\n",
    "- [ ] SL"
   ]
  },
  {
   "cell_type": "code",
   "execution_count": null,
   "id": "5c143431-ca13-46c4-a9b8-c3a3906dc7d8",
   "metadata": {},
   "outputs": [],
   "source": [
    "mwextinction = SFDMap(\n",
    "    ra=source.ra,\n",
    "    dec=source.dec,\n",
    "    node_label=\"mwext\",\n",
    ")\n",
    "\n",
    "# Create an extinction effect using the EBVs from that dust map.\n",
    "ext_effect = ExtinctionEffect(extinction_model=\"F99\", ebv=mwextinction, Rv=3.1)\n",
    "source.add_effect(ext_effect)"
   ]
  },
  {
   "cell_type": "code",
   "execution_count": null,
   "id": "34b025fa-a9c7-442e-9488-d7aa9d74f997",
   "metadata": {},
   "outputs": [],
   "source": [
    "# source1 = StaticSource(brightness=10.0, node_label=\"my_static_source\", ra=55.5, dec=-43.5)\n",
    "\n",
    "# brightness_func = NumpyRandomFunc(\"uniform\", low=11.0, high=15.5)\n",
    "# source2 = StaticSource(brightness=brightness_func, ra=65.5, dec=-53.5, node_label=\"my_static_source_2\")\n",
    "\n",
    "# source3 = StaticSource(\n",
    "#     brightness=NumpyRandomFunc(\"normal\", loc=20.0, scale=2.0),\n",
    "#     redshift=NumpyRandomFunc(\"uniform\", low=0.1, high=0.5),\n",
    "#     ra=1.0, dec=2.0,\n",
    "#     node_label=\"test\",\n",
    "#     t0=0.,\n",
    "# )\n",
    "\n",
    "# # host = StaticSource(brightness=15.0, ra=1.0, dec=2.0, node_label=\"host\")\n",
    "# # source = StaticSource(brightness=10.0, ra=host.ra, dec=host.dec, node_label=\"source\")\n",
    "# # state = source.sample_parameters(num_samples=5)\n",
    "\n",
    "# # for i in range(5):\n",
    "# #     print(\n",
    "# #         f\"{i}: Host=({state['host']['ra'][i]}, {state['host']['dec'][i]})\"\n",
    "# #         f\"Source=({state['source']['ra'][i]}, {state['source']['dec'][i]})\"\n",
    "# #     )"
   ]
  },
  {
   "cell_type": "markdown",
   "id": "94c398ff-160e-49ef-9aad-73f45c62d261",
   "metadata": {},
   "source": [
    "### Take samples of the underlying parameters (or do it implicitly in simulating light curves)"
   ]
  },
  {
   "cell_type": "code",
   "execution_count": null,
   "id": "73c92e52-c4bc-4235-b337-7ca2c6c583d0",
   "metadata": {},
   "outputs": [],
   "source": [
    "# state = source1.sample_parameters(num_samples=10)\n",
    "# state[\"my_static_source\"][\"brightness\"]\n",
    "\n",
    "# state = source1.sample_parameters(num_samples=10)\n",
    "# state[\"my_static_source\"][\"brightness\"]\n",
    "\n",
    "# state = source2.sample_parameters(num_samples=10)\n",
    "# state[\"my_static_source_2\"][\"brightness\"]\n",
    "\n",
    "# num_samples = 10\n",
    "# state = source3.sample_parameters(num_samples=num_samples)\n",
    "# for i in range(num_samples):\n",
    "#     print(f\"{i}: brightness={state['test']['brightness'][i]} redshift={state['test']['redshift'][i]}\")"
   ]
  },
  {
   "cell_type": "code",
   "execution_count": null,
   "id": "6c11bf0a-da6a-445e-9e11-514bf3bb5bbb",
   "metadata": {},
   "outputs": [],
   "source": [
    "# single_sample = state.extract_single_sample(0)\n",
    "# print(str(single_sample))"
   ]
  },
  {
   "cell_type": "code",
   "execution_count": null,
   "id": "9dacf79f-6268-43d3-af5a-75eb1eda5a87",
   "metadata": {},
   "outputs": [],
   "source": [
    "# cosmo_obj = FlatLambdaCDM(H0=73.0, Om0=0.3)\n",
    "# redshifts = np.array([0.1, 0.2, 0.3])\n",
    "# distmods = cosmo_obj.distmod(redshifts).value\n",
    "# print(distmods)"
   ]
  },
  {
   "cell_type": "code",
   "execution_count": null,
   "id": "a77b21c9-e456-42ad-9db0-b0354d2705e6",
   "metadata": {},
   "outputs": [],
   "source": [
    "# distmod_obj = DistModFromRedshift(\n",
    "#     H0=73.0, Omega_m=0.3, redshift=NumpyRandomFunc(\"uniform\", low=0.1, high=0.5)\n",
    "# )"
   ]
  },
  {
   "cell_type": "markdown",
   "id": "aedbc0b4-5069-4fb0-bba9-72ed5e39c65d",
   "metadata": {},
   "source": [
    "## Benchmarking\n",
    "\n",
    "next steps:\n",
    "- [X] benchmark time for different number simulated\n",
    "- [ ] apply detection and check again"
   ]
  },
  {
   "cell_type": "code",
   "execution_count": null,
   "id": "4d6b4abe-2382-4a9d-8bfc-35920a73e5c8",
   "metadata": {},
   "outputs": [],
   "source": [
    "# def scale_lcs(n_lc):\n",
    "#     lightcurves = simulate_lightcurves(source, n_lc, opsim_db, passband_group)\n",
    "#     return lightcurves\n",
    "\n",
    "# scales = [10, 30, 100, 300, 1000, 3000]\n",
    "# # times = []\n",
    "# for s in scales:\n",
    "#     print(s)\n",
    "#     %timeit scale_lcs(s)\n",
    "# # print(times)"
   ]
  },
  {
   "cell_type": "code",
   "execution_count": null,
   "id": "a9f20989-8f78-4e15-9a8a-66866f42082f",
   "metadata": {},
   "outputs": [],
   "source": [
    "# plt.plot(scales, [475, 682, 1380, 3400, 10300, 36100])"
   ]
  },
  {
   "cell_type": "code",
   "execution_count": null,
   "id": "3f51384a-4e3e-4e78-9c45-017a08c20ef8",
   "metadata": {
    "scrolled": true
   },
   "outputs": [],
   "source": [
    "pr = cProfile.Profile()\n",
    "pr.enable()\n",
    "lightcurves = simulate_lightcurves(source, 3_000, opsim_db, passband_group)\n",
    "print(lightcurves)\n",
    "pr.disable()\n",
    "s = io.StringIO()\n",
    "sortby = SortKey.CUMULATIVE\n",
    "ps = pstats.Stats(pr, stream=s).sort_stats(sortby)\n",
    "ps.print_stats()\n",
    "print(s.getvalue())"
   ]
  },
  {
   "cell_type": "markdown",
   "id": "36ccf793-af69-4de8-94d5-54ce8df027db",
   "metadata": {},
   "source": [
    "params or parameters not both, also can I just print these with repr instead of digging? (get vs extract)"
   ]
  },
  {
   "cell_type": "code",
   "execution_count": null,
   "id": "b614b73f-5e91-4061-b27c-6b70c11ed412",
   "metadata": {},
   "outputs": [],
   "source": [
    "# test_samps = source2.sample_parameters()\n",
    "\n",
    "# test_samps.extract_parameters('dec')"
   ]
  },
  {
   "cell_type": "code",
   "execution_count": null,
   "id": "06352b9e-cad7-496f-b787-7e3f6a2b2d2d",
   "metadata": {
    "scrolled": true
   },
   "outputs": [],
   "source": [
    "# pr = cProfile.Profile()\n",
    "# pr.enable()\n",
    "# lightcurves1 = simulate_lightcurves(source1, 10, opsim_db, passband_group)\n",
    "# print(lightcurves1)\n",
    "# pr.disable()\n",
    "# s = io.StringIO()\n",
    "# sortby = SortKey.CUMULATIVE\n",
    "# ps = pstats.Stats(pr, stream=s).sort_stats(sortby)\n",
    "# ps.print_stats()\n",
    "# print(s.getvalue())"
   ]
  },
  {
   "cell_type": "code",
   "execution_count": null,
   "id": "f38f7566-ff4e-4c63-a81e-b02d8eefc256",
   "metadata": {
    "scrolled": true
   },
   "outputs": [],
   "source": [
    "# pr = cProfile.Profile()\n",
    "# pr.enable()\n",
    "# lightcurves2 = simulate_lightcurves(source2, 100, opsim_db, passband_group)\n",
    "# print(lightcurves2)\n",
    "# pr.disable()\n",
    "# s = io.StringIO()\n",
    "# sortby = SortKey.CUMULATIVE\n",
    "# ps = pstats.Stats(pr, stream=s).sort_stats(sortby)\n",
    "# ps.print_stats()\n",
    "# print(s.getvalue())"
   ]
  },
  {
   "cell_type": "code",
   "execution_count": null,
   "id": "4f519aaa-8b6d-49a8-9dab-3beb3b56d2da",
   "metadata": {
    "scrolled": true
   },
   "outputs": [],
   "source": [
    "# pr = cProfile.Profile()\n",
    "# pr.enable()\n",
    "# lightcurves3 = simulate_lightcurves(source3, 1000, opsim_db, passband_group)\n",
    "# print(lightcurves3)\n",
    "# pr.disable()\n",
    "# s = io.StringIO()\n",
    "# sortby = SortKey.CUMULATIVE\n",
    "# ps = pstats.Stats(pr, stream=s).sort_stats(sortby)\n",
    "# ps.print_stats()\n",
    "# print(s.getvalue())"
   ]
  },
  {
   "cell_type": "markdown",
   "id": "0e82c953-f752-4cef-b84a-f76a785702ad",
   "metadata": {},
   "source": [
    "## apply detection"
   ]
  },
  {
   "cell_type": "code",
   "execution_count": null,
   "id": "3dffe9f3-6b3b-4c76-82cc-0d72de0e9e30",
   "metadata": {},
   "outputs": [],
   "source": [
    "print(\"Before dropping nans: nsn=\", len(lightcurves))\n",
    "nonans = lightcurves.dropna(subset=['lightcurve'])\n",
    "print(\"Before applying detection: nsn=\", len(nonans))"
   ]
  },
  {
   "cell_type": "code",
   "execution_count": null,
   "id": "675d86ca-39a5-4b18-9ee2-e6ab3d319403",
   "metadata": {},
   "outputs": [],
   "source": [
    "dropnondets = nonans.copy()\n",
    "dropnondets['lightcurve.snr'] = dropnondets['lightcurve.flux']/dropnondets['lightcurve.fluxerr']\n",
    "lightcurves_after_detection = dropnondets.query('lightcurve.snr > 5').dropna(subset=['lightcurve'])\n",
    "print(\"After applying detection: nsn=\", len(lightcurves_after_detection))"
   ]
  },
  {
   "cell_type": "markdown",
   "id": "5ddfd067-8e81-47a8-a233-676eec9c1384",
   "metadata": {},
   "source": [
    "## Look at the light curves"
   ]
  },
  {
   "cell_type": "code",
   "execution_count": null,
   "id": "7a2f92b2-6e85-4569-983f-ad6dcca43313",
   "metadata": {},
   "outputs": [],
   "source": [
    "def show_me_lcs(lcs):\n",
    "    random_ids = np.random.choice(len(lightcurves), 10)\n",
    "\n",
    "    for random_id in random_ids:\n",
    "    # Extract the row for this object.\n",
    "        lc = lcs.loc[random_id]\n",
    "\n",
    "        if lc[\"nobs\"] > 0:\n",
    "        # Unpack the nested columns (filters, mjd, flux, and flux error).\n",
    "            lc_filters = np.asarray(lc[\"lightcurve\"][\"filter\"], dtype=str)\n",
    "            lc_mjd = np.asarray(lc[\"lightcurve\"][\"mjd\"], dtype=float)\n",
    "            lc_flux = np.asarray(lc[\"lightcurve\"][\"flux\"], dtype=float)\n",
    "            lc_fluxerr = np.asarray(lc[\"lightcurve\"][\"fluxerr\"], dtype=float)\n",
    "\n",
    "            plot_lightcurves(\n",
    "                fluxes=lc_flux,\n",
    "                times=lc_mjd,\n",
    "                fluxerrs=lc_fluxerr,\n",
    "                filters=lc_filters,\n",
    "                )"
   ]
  },
  {
   "cell_type": "code",
   "execution_count": null,
   "id": "0ae1dbfd-0ac5-4e86-8c2f-fd437b41752d",
   "metadata": {
    "scrolled": true
   },
   "outputs": [],
   "source": [
    "show_me_lcs(lightcurves)"
   ]
  },
  {
   "cell_type": "code",
   "execution_count": null,
   "id": "d8af686a-488f-447a-a0d8-ce15122a89a6",
   "metadata": {},
   "outputs": [],
   "source": []
  },
  {
   "cell_type": "code",
   "execution_count": null,
   "id": "9e253ca0-38c6-4b57-98f4-a876e3845617",
   "metadata": {},
   "outputs": [],
   "source": []
  },
  {
   "cell_type": "code",
   "execution_count": null,
   "id": "9fd27b49-76b6-4de5-a267-5cc290c630e5",
   "metadata": {},
   "outputs": [],
   "source": []
  }
 ],
 "metadata": {
  "kernelspec": {
   "display_name": "TDAstro (Python 3)",
   "language": "python",
   "name": "tdastro_3"
  },
  "language_info": {
   "codemirror_mode": {
    "name": "ipython",
    "version": 3
   },
   "file_extension": ".py",
   "mimetype": "text/x-python",
   "name": "python",
   "nbconvert_exporter": "python",
   "pygments_lexer": "ipython3",
   "version": "3.10.12"
  }
 },
 "nbformat": 4,
 "nbformat_minor": 5
}
