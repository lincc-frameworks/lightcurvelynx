{
 "cells": [
  {
   "cell_type": "markdown",
   "metadata": {},
   "source": [
    "# EffectModels\n",
    "\n",
    "In this tutorial we look at how a user can add effects to our objects to make their sampled flux more realistic.\n",
    "\n",
    "TDAstro supports multiple source-level effects including:\n",
    "  * Constant dimming\n",
    "  * Dust extinction\n",
    "  * White Noise\n",
    "\n",
    "In addition, as shown below, users can create their own effects.\n",
    "\n",
    "\n",
    "## Applying Effects \n",
    "\n",
    "We add effects to our objects, using the `PhysicalModel.add_effect()` function, before generating samples. For example if we want to apply a basic white noise effect to a static source we would use"
   ]
  },
  {
   "cell_type": "code",
   "execution_count": 1,
   "metadata": {},
   "outputs": [
    {
     "data": {
      "text/plain": [
       "array([[ 9.94745694,  9.92491398, 10.0599079 ],\n",
       "       [ 9.96875996,  9.89920816,  9.86939942],\n",
       "       [ 9.93163288, 10.00177445, 10.00417478],\n",
       "       [10.08032484,  9.7189909 ,  9.93380431],\n",
       "       [ 9.98207824, 10.0376998 , 10.00321988],\n",
       "       [10.07121523,  9.91733376, 10.01863068]])"
      ]
     },
     "execution_count": 1,
     "metadata": {},
     "output_type": "execute_result"
    }
   ],
   "source": [
    "import numpy as np\n",
    "\n",
    "from tdastro.effects.white_noise import WhiteNoise\n",
    "from tdastro.sources.basic_sources import StaticSource\n",
    "\n",
    "# Create the static source model with the white noise effect.\n",
    "model = StaticSource(\n",
    "    brightness=10.0,\n",
    "    node_label=\"my_static_source\",\n",
    "    seed=100,\n",
    ")\n",
    "\n",
    "# Create the white noise effect.\n",
    "white_noise = WhiteNoise(white_noise_sigma=0.1)\n",
    "model.add_effect(white_noise)\n",
    "\n",
    "# Sample the flux.\n",
    "state = model.sample_parameters()\n",
    "times = np.array([1, 2, 3, 4, 5, 10])\n",
    "wavelengths = np.array([100.0, 200.0, 300.0])\n",
    "model.evaluate(times, wavelengths, state)"
   ]
  },
  {
   "cell_type": "markdown",
   "metadata": {},
   "source": [
    "## Dust Maps\n",
    "\n",
    "Dust extinction represents a more complex effect since it requires the user to specify both a dust map and an extinction function. The dust map is stored in a `ParameterizedNode` that uses the source's (RA, dec) to compute ebv values. The `ExtinctionEffect` then links these together by creating a new \"ebv\" parameter in the source node. This \"ebv\" parameter is the output of the dustmap and the input to the extinction event."
   ]
  },
  {
   "cell_type": "code",
   "execution_count": 2,
   "metadata": {},
   "outputs": [
    {
     "data": {
      "text/plain": [
       "array([[[18.0230379 ,  8.72173139],\n",
       "        [18.0230379 ,  8.72173139],\n",
       "        [18.0230379 ,  8.72173139],\n",
       "        [18.0230379 ,  8.72173139],\n",
       "        [18.0230379 ,  8.72173139]],\n",
       "\n",
       "       [[18.0230379 ,  8.72173139],\n",
       "        [18.0230379 ,  8.72173139],\n",
       "        [18.0230379 ,  8.72173139],\n",
       "        [18.0230379 ,  8.72173139],\n",
       "        [18.0230379 ,  8.72173139]],\n",
       "\n",
       "       [[18.0230379 ,  8.72173139],\n",
       "        [18.0230379 ,  8.72173139],\n",
       "        [18.0230379 ,  8.72173139],\n",
       "        [18.0230379 ,  8.72173139],\n",
       "        [18.0230379 ,  8.72173139]]])"
      ]
     },
     "execution_count": 2,
     "metadata": {},
     "output_type": "execute_result"
    }
   ],
   "source": [
    "from tdastro.astro_utils.dustmap import ConstantHemisphereDustMap, DustmapWrapper\n",
    "from tdastro.effects.extinction import ExtinctionEffect\n",
    "\n",
    "model2 = StaticSource(\n",
    "    brightness=100.0,\n",
    "    ra=45.0,\n",
    "    dec=20.0,\n",
    "    redshift=0.0,\n",
    "    node_label=\"source\",\n",
    ")\n",
    "\n",
    "# Create a dust map that pulls ebv values using the source's (RA, dec) values.\n",
    "dust_map = ConstantHemisphereDustMap(north_ebv=0.8, south_ebv=0.5)\n",
    "dust_map_node = DustmapWrapper(\n",
    "    dust_map,\n",
    "    ra=model2.ra,\n",
    "    dec=model2.dec,\n",
    "    node_label=\"dust_map\",\n",
    ")\n",
    "\n",
    "# Create an add an extinction effect.\n",
    "ext_effect = ExtinctionEffect(extinction_model=\"CCM89\", ebv=dust_map_node, Rv=3.1)\n",
    "model2.add_effect(ext_effect)\n",
    "\n",
    "# Sample the model.\n",
    "times = np.array([1.0, 2.0, 3.0, 4.0, 5.0])\n",
    "wavelengths = np.array([7000.0, 5200.0])\n",
    "states2 = model2.sample_parameters(num_samples=3)\n",
    "model2.evaluate(times, wavelengths, states2)"
   ]
  },
  {
   "cell_type": "markdown",
   "metadata": {},
   "source": [
    "By printing the information in the `states` variable, we can see a sampled ebv for each different model (RA, dec)."
   ]
  },
  {
   "cell_type": "code",
   "execution_count": null,
   "metadata": {},
   "outputs": [],
   "source": [
    "print(states2)"
   ]
  },
  {
   "cell_type": "markdown",
   "metadata": {},
   "source": [
    "Most users will want to use a more realistic dust map, such as those from the `dustmaps` library. For example if you had that package installed, you could create the dust map node as:\n",
    "\n",
    "```\n",
    "from dustmaps.config import config as dm_config\n",
    "import dustmaps.sfd\n",
    "\n",
    "from tdastro.astro_utils.dustmap import DustmapWrapper\n",
    "\n",
    "dm_config[\"data_dir\"] = \"../../data/dustmaps\"\n",
    "dustmaps.sfd.fetch()\n",
    "dust_map_node = DustmapWrapper(dustmaps.sfd.SFDQuery())\n",
    "```"
   ]
  },
  {
   "cell_type": "markdown",
   "metadata": {},
   "source": [
    "## Custom Effects\n",
    "\n",
    "Users can also create their own custom effect by inheriting from the `EffectModel` class and overriding the `apply()` function. \n",
    "\n",
    "An `EffectModel` object can have its own parameters (defined with a `add_effect_parameter()` function). Unlike a `ParameterizedNode`, these parameters will be added to the source object and passed to the effect as input. This means that all effect parameters will be computed during the parameter sampling phase, which keeps them consistent with the model parameters. These parameters *must* also be listed in the argument list for the `apply()` function because that is how the effect will get them.\n",
    "\n",
    "Let’s consider the example of an effect that adds sinusoidal dimming to the flux."
   ]
  },
  {
   "cell_type": "code",
   "execution_count": 3,
   "metadata": {},
   "outputs": [],
   "source": [
    "from tdastro.effects.effect_model import EffectModel\n",
    "\n",
    "\n",
    "class SinDimming(EffectModel):\n",
    "    \"\"\"A sinusoidal dimming model.\n",
    "\n",
    "    Attributes\n",
    "    ----------\n",
    "    period : parameter\n",
    "        The period of the sinusoidal dimming.\n",
    "    \"\"\"\n",
    "\n",
    "    def __init__(self, period, **kwargs):\n",
    "        super().__init__(**kwargs)\n",
    "        self.add_effect_parameter(\"period\", period)\n",
    "\n",
    "    def apply(\n",
    "        self,\n",
    "        flux_density,\n",
    "        times=None,\n",
    "        wavelengths=None,\n",
    "        period=None,\n",
    "        rng_info=None,\n",
    "        **kwargs,\n",
    "    ):\n",
    "        \"\"\"Apply the effect to observations (flux_density values).\n",
    "\n",
    "        Parameters\n",
    "        ----------\n",
    "        flux_density : numpy.ndarray\n",
    "            A length T X N matrix of flux density values (in nJy).\n",
    "        times : numpy.ndarray, optional\n",
    "            A length T array of times (in MJD). Not used for this effect.\n",
    "        wavelengths : numpy.ndarray, optional\n",
    "            A length N array of wavelengths (in angstroms). Not used for this effect.\n",
    "        period : float, optional\n",
    "            The period of the dimming. Raises an error if None is provided.\n",
    "        rng_info : numpy.random._generator.Generator, optional\n",
    "            A given numpy random number generator to use for this computation. If not\n",
    "            provided, the function uses the node's random number generator.\n",
    "        **kwargs : `dict`, optional\n",
    "           Any additional keyword arguments. This includes all of the\n",
    "           parameters needed to apply the effect.\n",
    "\n",
    "        Returns\n",
    "        -------\n",
    "        flux_density : numpy.ndarray\n",
    "            A length T x N matrix of flux densities after the effect is applied (in nJy).\n",
    "        \"\"\"\n",
    "        if period is None:\n",
    "            raise ValueError(\"period must be provided\")\n",
    "\n",
    "        scale = 0.5 * (1.0 + np.sin(2 * np.pi * times / period))\n",
    "        return flux_density * scale[:, None]"
   ]
  },
  {
   "cell_type": "code",
   "execution_count": 4,
   "metadata": {},
   "outputs": [
    {
     "data": {
      "text/plain": [
       "Text(0, 0.5, 'Flux Density (nJy)')"
      ]
     },
     "execution_count": 4,
     "metadata": {},
     "output_type": "execute_result"
    },
    {
     "data": {
      "image/png": "[encoded data removed]",
      "text/plain": [
       "<Figure size 640x480 with 1 Axes>"
      ]
     },
     "metadata": {},
     "output_type": "display_data"
    }
   ],
   "source": [
    "import matplotlib.pyplot as plt\n",
    "\n",
    "model3 = StaticSource(\n",
    "    brightness=100.0,\n",
    "    ra=45.0,\n",
    "    dec=20.0,\n",
    "    redshift=0.0,\n",
    "    node_label=\"source\",\n",
    ")\n",
    "sin_effect = SinDimming(period=10.0)\n",
    "model3.add_effect(sin_effect)\n",
    "\n",
    "# Construct one same of the model and its output flux.\n",
    "times = np.arange(50.0)\n",
    "wavelengths = np.array([7000.0, 5200.0])\n",
    "fluxes = model3.evaluate(times, wavelengths)\n",
    "\n",
    "plt.plot(times, fluxes[:, 0])\n",
    "plt.xlabel(\"Time (MJD)\")\n",
    "plt.ylabel(\"Flux Density (nJy)\")"
   ]
  },
  {
   "cell_type": "code",
   "execution_count": null,
   "metadata": {},
   "outputs": [],
   "source": []
  }
 ],
 "metadata": {
  "kernelspec": {
   "display_name": "Python [conda env:base] *",
   "language": "python",
   "name": "conda-base-py"
  },
  "language_info": {
   "codemirror_mode": {
    "name": "ipython",
    "version": 3
   },
   "file_extension": ".py",
   "mimetype": "text/x-python",
   "name": "python",
   "nbconvert_exporter": "python",
   "pygments_lexer": "ipython3",
   "version": "3.12.2"
  }
 },
 "nbformat": 4,
 "nbformat_minor": 4
}
