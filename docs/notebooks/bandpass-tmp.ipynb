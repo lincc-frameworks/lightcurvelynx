{
 "cells": [
  {
   "cell_type": "markdown",
   "metadata": {},
   "source": [
    "# TMP: Planned Passband Interface"
   ]
  },
  {
   "cell_type": "markdown",
   "metadata": {},
   "source": [
    "Just talked to Jeremy though, and he said maybe just including passbands as an option in model.evaluate(). I like this!"
   ]
  },
  {
   "cell_type": "code",
   "execution_count": null,
   "metadata": {},
   "outputs": [],
   "source": [
    "import numpy as np\n",
    "from tdastro.sources.spline_model import SplineModel\n",
    "\n",
    "\n",
    "class PassbandGroup:\n",
    "    def __init__(self, preset=None, band_ids=None, **kwargs):\n",
    "        # Here, we would initialize various Passband objects\n",
    "        pass\n",
    "\n",
    "\n",
    "class Passband:\n",
    "    def __init__(self, band_id=None, **kwargs):\n",
    "        pass"
   ]
  },
  {
   "cell_type": "code",
   "execution_count": null,
   "metadata": {},
   "outputs": [],
   "source": [
    "# Initialize passband objects\n",
    "# Here we want to have different single-passband objects\n",
    "# But we did also talk about potentially having a PassbandGroup object for convenience\n",
    "\n",
    "# Option 1: PassbandGroup object (which will contain Passband objects)\n",
    "pb_group = PassbandGroup(survey=\"LSST\")  # Which would automatically generate Passband objects\n",
    "# or,\n",
    "pb_group = PassbandGroup(band_ids=[\"u\", \"g\", \"r\", \"i\", \"z\", \"y\"])  # This also\n",
    "\n",
    "# Option 3: Single Passband objects\n",
    "pb_group = []\n",
    "band_ids = [\"u\", \"g\", \"r\", \"i\", \"z\", \"y\"]\n",
    "for band_id in band_ids:\n",
    "    passband = Passband(band_id)\n",
    "    pb_group.append(passband)\n",
    "\n",
    "# Option 4a: As part of model.evaluate(), via list of band_ids\n",
    "times = np.array([1.0, 2.0, 3.0])\n",
    "wavelengths = np.array([10.0, 20.0, 30.0])\n",
    "fluxes = np.array([[1.0, 5.0, 1.0], [5.0, 10.0, 5.0], [1.0, 5.0, 3.0]])\n",
    "model = SplineModel(times, wavelengths, fluxes, time_degree=1, wave_degree=1)\n",
    "\n",
    "test_times = np.array([1.0, 1.5, 2.0, 3.0])\n",
    "test_waves = np.array([10.0, 15.0, 20.0, 30.0])\n",
    "flux_densities, in_band_fluxes = model.evaluate(\n",
    "    test_times, test_waves, passbands=[\"u\", \"g\", \"r\", \"i\", \"z\", \"y\"]\n",
    ")\n",
    "_, in_band_fluxes = model.evaluate(test_times, test_waves, passbands=[\"u\", \"g\", \"r\", \"i\", \"z\", \"y\"])\n",
    "\n",
    "# Option 4b: As part of model.evaluate(), via PassbandGroup object (from Option 1)\n",
    "# This would allow \"easy mode\" such as:\n",
    "pb_group = PassbandGroup(survey=\"LSST\")\n",
    "flux_densities, in_band_fluxes = model.evaluate(test_times, test_waves, passbands=pb_group)\n",
    "# While also providing fine-grained control:\n",
    "pb_group = PassbandGroup(band_ids=[\"u\", \"g\", \"r\", \"i\", \"z\", \"y\"])\n",
    "# Or even:\n",
    "pb_group = PassbandGroup(\n",
    "    transmission_tables={\n",
    "        \"u\": \"path/to/u_transmission.dat\",\n",
    "        \"g\": \"path/to/g_transmission.dat\",\n",
    "    }\n",
    ")\n",
    "# Or:\n",
    "pb_group = PassbandGroup(\n",
    "    transmission_tables={\n",
    "        \"u\": \"https://example.com/u_transmission.dat\",\n",
    "        \"g\": \"https://example.com/g_transmission.dat\",\n",
    "    }\n",
    ")"
   ]
  },
  {
   "cell_type": "markdown",
   "metadata": {},
   "source": [
    "- While people might go directly for in-band fluxes, they'd often want to go back and check the flux densities anyway\n",
    "- While there might not be steps people would make between flux densities and in-band fluxes, to get them both as once is unintuitive and would be needlessly confusing\n",
    "    - Kind of like, model.evalutate gives you what's going on at the top of the atmosphere, but then there's a next step of going through the atmosphere and hitting the telescope and the filters and everything\n",
    "- Note: sncosmo does a model.bandflux (you give band_name and time) it will give you a lightcurve (and you do this for each indiv band)\n",
    "    - But you do have to do a for loop for all the bands, so maybe room for change there\n",
    "    - But if we did this, we'd be reevaluating things a little, unless we store the flux densities in the model, so...\n",
    "    - sncosmo's model.bandflux internally calls model.flux (essentially our model.evaluate), but note that there's noresampling done there\n",
    "    - But there's still the question of do we store the intermediate flux densities?\n",
    "\"Regardless of how much we have been testing things, as an external user, I would always want to verify it myself (with plottng and everything).\"\n",
    "\n",
    "- For exploration, it would be nice to have both model.evaluate and model.get_all_band_fluxes(passband_group) (and ideally have them have the same params)\n",
    "- But for performance, it would be nice to be able to call model.evaluate, then have a next step that takes in those flux densities and gives bandfluxes (PassbandGroup object)\n"
   ]
  },
  {
   "cell_type": "markdown",
   "metadata": {},
   "source": [
    "## Questions about interpolation"
   ]
  },
  {
   "cell_type": "markdown",
   "metadata": {},
   "source": [
    "A number of different methods come to mind--which are reasonable?\n",
    "- Linear interpolation (don't love this)\n",
    "- Making user feed a model through a Spline (ok, but manual work, and might get complicated with .evaluate() strategy described above)\n",
    "- We let them set a flag \"auto_interpolate\" or something, and we pass it through a SplineModel for them? Or even, interpolate=None, interpolate=\"spline\", interpolate=\"linear\"\n",
    "\n",
    "- But consider, we could interpolate the transmission tables to match the user's SED\n",
    "- Let the user specify what's the acceptable interpolation steps they want\n",
    "- So they can choose to have the transmission table to be changed to match their own grid\n",
    "- And the transmission table is usually more smooth compared to the SED, so interpolation shouldn't be an issue\n",
    "\n",
    "- Have a default: if you don't specify (and your grids don't match) we tell you they don't match--but if happen to match, we don't bother interpolating and just go forward (but usually they won't match)\n",
    "\n",
    "Options:\n",
    "- interpolate_model\n",
    "    - interpolate_to_grid=grid_size #eg, grid_size=5 (Angstroms) for speed, for example\n",
    "- interpolate_transmission_table\n",
    "    - interpolate_to_model_grid, interpolate_to_grid=grid_size\n",
    "- expterpolation:\n",
    "    - sometimes model's wavelengths don't fully span the interval of the passband, so we would need to exterpolate\n",
    "    - we give 2 options\n",
    "        - set all to 0\n",
    "        - raise an error: go fix your model before you run this again :)\n",
    "        - exterpolate using some external exterpolation function\n",
    "\n",
    "- Conceptually, it should be ok to store this in the PassbandGroup, but not maybe ideal?\n",
    "    - Intuitive to have Passbands to know how to interpolate the transmission table, but not the most intuitive to have it know how you interpolate the model. However, you only need to know this if you want to integrate for bandfluxes, so maybe yes it's fine\n"
   ]
  },
  {
   "cell_type": "markdown",
   "metadata": {},
   "source": [
    "## How many tranmission tables do we want to support?"
   ]
  },
  {
   "cell_type": "markdown",
   "metadata": {},
   "source": [
    "- We have the link Kostya sent me, and Mi had talked about a location for other transmission tables - more? User-defined?\n",
    "\n",
    "- Generally all are 2 cols, wavelengths (units can vary) and transmissions\n",
    "- If we provide transmission tables we'd have to make sure they'd be good and maintained - we don't really want to commit to that\n",
    "- For serious analysis, they'd provide their own locally\n",
    "- For quick exploration, it'd be convenient to have ones that can be auto-downloaded - for example, sncosmo has most of the popular transmission tables the supernova community uses - we could even grab them from there"
   ]
  }
 ],
 "metadata": {
  "language_info": {
   "name": "python"
  }
 },
 "nbformat": 4,
 "nbformat_minor": 2
}
