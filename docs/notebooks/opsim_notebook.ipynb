{
 "cells": [
  {
   "cell_type": "markdown",
   "metadata": {},
   "source": [
    "# Using Rubin OpSims in Simulations\n",
    "\n",
    "A critical aspect to producing realistic simulations of time varying phenomena is correctly modeling the cadence at which the objects will be observed. TDAstro provides an OpSim module that can load a Rubin opsim file and use that to filter observations. This notebook provides an introduction to using opsim data in the simulations."
   ]
  },
  {
   "cell_type": "markdown",
   "metadata": {},
   "source": [
    "## OpSim Class\n",
    "\n",
    "The `OpSim` class provides a wrapper for loading and querying survey-specific information including pointings and survey information. The required information is:\n",
    "  * the pointing data (RA, dec, and times for each pointing), and\n",
    "  * the zeropoint information for each pointing (a zero point column or the information needed to derive it)\n",
    "\n",
    "Internally, the `OpSim` class uses simple column names such as \"ra\" and \"time\". In order to allow importing from databases, the constructor allows the user to pass a column-mapping dictionary that maps the short column name to the name used within the database. The default column-mapper corresponds to the Rubin opsim format:\n",
    "  * \"airmass\" -> \"airmass\"\n",
    "  * \"dec\" -> \"fieldDec\"\n",
    "  * \"exptime\" -> \"visitExposureTime\"\n",
    "  * \"filter\" -> \"filter\"\n",
    "  * \"ra\" -> \"fieldRA\"\n",
    "  * \"time\" -> \"observationStartMJD\"\n",
    "\n",
    "By default the `OpSim` class will look for Rubin column names, such as \"observationStartMJD\" and \"fieldRA\".\n",
    "\n",
    "We can create a simple `OpSim` by manually specifying the data as a pandas dataframe."
   ]
  },
  {
   "cell_type": "code",
   "execution_count": null,
   "metadata": {},
   "outputs": [],
   "source": [
    "import numpy as np\n",
    "import pandas as pd\n",
    "\n",
    "from tdastro.astro_utils.opsim import OpSim\n",
    "\n",
    "input_data = {\n",
    "    \"observationStartMJD\": np.array([0.0, 1.0, 2.0, 3.0, 4.0]),\n",
    "    \"fieldRA\": np.array([15.0, 30.0, 15.0, 0.0, 60.0]),\n",
    "    \"fieldDec\": np.array([-10.0, -5.0, 0.0, 5.0, 10.0]),\n",
    "    \"zp_nJy\": np.ones(5),\n",
    "}\n",
    "pd_df = pd.DataFrame(input_data)\n",
    "\n",
    "ops_data = OpSim(pd_df)\n",
    "print(ops_data.table)"
   ]
  },
  {
   "cell_type": "markdown",
   "metadata": {},
   "source": [
    "Alternatively, we can load an `OpSim` from a database file using the `from_db()` function."
   ]
  },
  {
   "cell_type": "code",
   "execution_count": null,
   "metadata": {},
   "outputs": [],
   "source": [
    "from pathlib import Path\n",
    "\n",
    "from tdastro import _TDASTRO_TEST_DATA_DIR\n",
    "\n",
    "opsim_file = Path(_TDASTRO_TEST_DATA_DIR) / \"opsim_shorten.db\"\n",
    "ops_data = OpSim.from_db(opsim_file)\n",
    "\n",
    "print(f\"Loaded an opsim database with {len(ops_data)} entries.\")\n",
    "print(f\"Columns: {ops_data.columns}\")"
   ]
  },
  {
   "cell_type": "markdown",
   "metadata": {},
   "source": [
    "## Spatial Matching\n",
    "\n",
    "The `OpSim` class provides a framework for efficiently determining when an object was observed given its (RA, dec). We use the `range_search()` function to the indices of all pointings that are within a given radius of the query point.\n",
    "\n",
    "We start by taking the (RA, dec) of the first observation in the table and using that to determine all times this position was observed."
   ]
  },
  {
   "cell_type": "code",
   "execution_count": null,
   "metadata": {},
   "outputs": [],
   "source": [
    "query_ra = ops_data[\"ra\"][0]\n",
    "query_dec = ops_data[\"dec\"][0]\n",
    "print(f\"Searching for ({query_ra}, {query_dec}).\")\n",
    "\n",
    "# Find everything within 0.5 degrees of the query point.\n",
    "matches = ops_data.range_search(query_ra, query_dec, 0.5)\n",
    "print(f\"Found {len(matches)} matches at {matches}\")"
   ]
  },
  {
   "cell_type": "markdown",
   "metadata": {},
   "source": [
    "Once we have the indices, we can use those to find the other information about the pointings."
   ]
  },
  {
   "cell_type": "code",
   "execution_count": null,
   "metadata": {},
   "outputs": [],
   "source": [
    "ops_data[\"time\"][matches]"
   ]
  },
  {
   "cell_type": "markdown",
   "metadata": {},
   "source": [
    "We can run the spatial search in batch mode by providing a lists of RA and dec. The `range_search()` will return a list of numpy arrays where each element in the top-level list represents the matches for a single query (RA, dec). "
   ]
  },
  {
   "cell_type": "code",
   "execution_count": null,
   "metadata": {},
   "outputs": [],
   "source": [
    "num_queries = 10\n",
    "query_ra = ops_data[\"ra\"][0:num_queries]\n",
    "query_dec = ops_data[\"dec\"][0:num_queries]\n",
    "\n",
    "matches = ops_data.range_search(query_ra, query_dec, 0.5)\n",
    "for idx, m_ids in enumerate(matches):\n",
    "    print(f\"{idx}: ({query_ra[idx]}, {query_dec[idx]}) matched {m_ids}\")"
   ]
  },
  {
   "cell_type": "markdown",
   "metadata": {},
   "source": [
    "Batching the spatial queries can be significantly more more efficient because the operations can be vectorized."
   ]
  },
  {
   "cell_type": "code",
   "execution_count": null,
   "metadata": {},
   "outputs": [],
   "source": [
    "import timeit\n",
    "\n",
    "num_queries = 100\n",
    "query_ra = ops_data[\"ra\"][0:num_queries]\n",
    "query_dec = ops_data[\"dec\"][0:num_queries]"
   ]
  },
  {
   "cell_type": "code",
   "execution_count": null,
   "metadata": {},
   "outputs": [],
   "source": [
    "%%timeit\n",
    "for i in range(num_queries):\n",
    "    _ = ops_data.range_search(query_ra[i], query_dec[i], 0.5)"
   ]
  },
  {
   "cell_type": "code",
   "execution_count": null,
   "metadata": {},
   "outputs": [],
   "source": [
    "%%timeit\n",
    "_ = ops_data.range_search(query_ra, query_dec, 0.5)"
   ]
  }
 ],
 "metadata": {
  "kernelspec": {
   "display_name": "tdastro",
   "language": "python",
   "name": "python3"
  },
  "language_info": {
   "codemirror_mode": {
    "name": "ipython",
    "version": 3
   },
   "file_extension": ".py",
   "mimetype": "text/x-python",
   "name": "python",
   "nbconvert_exporter": "python",
   "pygments_lexer": "ipython3",
   "version": "3.10.4"
  }
 },
 "nbformat": 4,
 "nbformat_minor": 2
}
