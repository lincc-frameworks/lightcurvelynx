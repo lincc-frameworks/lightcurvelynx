{
 "cells": [
  {
   "cell_type": "code",
   "execution_count": null,
   "id": "463f4ed7",
   "metadata": {},
   "outputs": [],
   "source": [
    "import matplotlib.pyplot as plt\n",
    "import numpy as np\n",
    "\n",
    "from tdastro.astro_utils.passbands import PassbandGroup\n",
    "from tdastro.sources.lightcurve_source import LightcurveModel"
   ]
  },
  {
   "cell_type": "markdown",
   "id": "d5098537",
   "metadata": {},
   "source": [
    "We start be loading the passbands that we will use to define the model. In this case we use the passbands from the LSST preset."
   ]
  },
  {
   "cell_type": "code",
   "execution_count": null,
   "id": "71aa0508",
   "metadata": {},
   "outputs": [],
   "source": [
    "passband_group = PassbandGroup(preset=\"LSST\")\n",
    "filters = passband_group.passbands.keys()\n",
    "print(passband_group)\n",
    "\n",
    "wavelengths = passband_group.waves\n",
    "min_wave, max_wave = passband_group.wave_bounds()\n",
    "print(f\"Wavelengths range [{min_wave}, {max_wave}]\")\n",
    "\n",
    "passband_group.plot()"
   ]
  },
  {
   "cell_type": "markdown",
   "id": "6b6db695",
   "metadata": {},
   "source": [
    "Next we want to create light curves for this source in each of the bands. This is what we want the model to reproduce then we call get_band_fluxes().\n",
    "\n",
    "For simplicity of the demo, we create each curve as randomly parameterized sin waves."
   ]
  },
  {
   "cell_type": "code",
   "execution_count": null,
   "id": "173d88fd",
   "metadata": {},
   "outputs": [],
   "source": [
    "num_times = 100\n",
    "times = np.linspace(0, 20, num_times)\n",
    "\n",
    "lightcurves = {}\n",
    "for filter in filters:\n",
    "    amp = 5.0 * np.random.random() + 1.0\n",
    "    flux_offset = np.random.random() * 25 + 10\n",
    "    time_offset = np.random.random() * 10\n",
    "    filter_flux = amp * np.sin(times + time_offset) + flux_offset\n",
    "    print(f\"Filter {filter}: {amp:.2f} * sin(t + {time_offset:.2f}) + {flux_offset:.2f}\")\n",
    "\n",
    "    lightcurves[filter] = np.array([times, filter_flux]).T"
   ]
  },
  {
   "cell_type": "code",
   "execution_count": null,
   "id": "8bd002c7",
   "metadata": {},
   "outputs": [],
   "source": [
    "# Plot the lightcurves\n",
    "filter_plot_colors = {\n",
    "    \"LSST_u\": \"purple\",\n",
    "    \"LSST_g\": \"blue\",\n",
    "    \"LSST_r\": \"green\",\n",
    "    \"LSST_i\": \"yellow\",\n",
    "    \"LSST_z\": \"orange\",\n",
    "    \"LSST_y\": \"red\",\n",
    "}\n",
    "\n",
    "figure = plt.figure()\n",
    "ax = figure.add_axes([0, 0, 1, 1])\n",
    "for filter, lightcurve in lightcurves.items():\n",
    "    color = filter_plot_colors.get(filter, \"black\")\n",
    "    ax.plot(lightcurve[:, 0], lightcurve[:, 1], color=color, label=filter)"
   ]
  },
  {
   "cell_type": "code",
   "execution_count": null,
   "id": "f81cfd42",
   "metadata": {},
   "outputs": [],
   "source": [
    "model = LightcurveModel(\n",
    "    lightcurves,\n",
    "    passband_group,\n",
    ")"
   ]
  },
  {
   "cell_type": "markdown",
   "id": "c2281f9e",
   "metadata": {},
   "source": [
    "If we plot the underlying lightcurves we can see they matched the provided ones."
   ]
  },
  {
   "cell_type": "code",
   "execution_count": null,
   "id": "0c7e8516",
   "metadata": {},
   "outputs": [],
   "source": [
    "model.plot_lightcurves()"
   ]
  },
  {
   "cell_type": "markdown",
   "id": "91a6f52f",
   "metadata": {},
   "source": [
    "We can also plot the SEDs for each filter to see how the underlying model is computing the total SED. Each passband's SED basis is multiplied by the corresponding lightcurve's values over time to give its contributions to the overall SED.  Note that, in order to avoid overcounting the contributions of some wavelengths, the SED basis functions only contain wavelengths where the filters do not overlap."
   ]
  },
  {
   "cell_type": "code",
   "execution_count": null,
   "id": "dcdf9745",
   "metadata": {},
   "outputs": [],
   "source": [
    "model.plot_sed_basis()"
   ]
  }
 ],
 "metadata": {
  "kernelspec": {
   "display_name": "tdastro",
   "language": "python",
   "name": "python3"
  },
  "language_info": {
   "codemirror_mode": {
    "name": "ipython",
    "version": 3
   },
   "file_extension": ".py",
   "mimetype": "text/x-python",
   "name": "python",
   "nbconvert_exporter": "python",
   "pygments_lexer": "ipython3",
   "version": "3.10.4"
  }
 },
 "nbformat": 4,
 "nbformat_minor": 5
}
