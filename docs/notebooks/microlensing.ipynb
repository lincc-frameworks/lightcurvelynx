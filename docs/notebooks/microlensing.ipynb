{
 "cells": [
  {
   "cell_type": "markdown",
   "id": "27226089",
   "metadata": {},
   "source": [
    "# Microlensing Effect Example\n",
    "\n",
    "In this notebook we look at how we can apply a simple microlensing effect that wraps the [VBMicrolensing package](https://github.com/valboz/VBMicrolensing)."
   ]
  },
  {
   "cell_type": "code",
   "execution_count": null,
   "id": "26a180bb-de40-4353-a493-ff31964feaab",
   "metadata": {
    "execution": {
     "iopub.execute_input": "2025-01-22T13:03:53.184752Z",
     "iopub.status.busy": "2025-01-22T13:03:53.184473Z",
     "iopub.status.idle": "2025-01-22T13:03:54.978720Z",
     "shell.execute_reply": "2025-01-22T13:03:54.978343Z"
    }
   },
   "outputs": [],
   "source": [
    "import numpy as np\n",
    "import matplotlib.pyplot as plt\n",
    "\n",
    "from pathlib import Path\n",
    "\n",
    "from tdastro.astro_utils.passbands import PassbandGroup\n",
    "from tdastro.effects.microlensing import Microlensing\n",
    "from tdastro.math_nodes.np_random import NumpyRandomFunc\n",
    "from tdastro.sources.basic_sources import StaticSource, SinWaveSource\n",
    "from tdastro.sources.lightcurve_source import LightcurveSource\n",
    "from tdastro.utils.plotting import plot_lightcurves\n",
    "\n",
    "\n",
    "# Usually we would not hardcode the path to the passband files, but for this demo we will use a relative path\n",
    "# to the test data directory so that we do not have to download the files.\n",
    "data_dir = Path(\"../../tests/tdastro/data\")"
   ]
  },
  {
   "cell_type": "markdown",
   "id": "e0b1cad1",
   "metadata": {},
   "source": [
    "## Basic Application\n",
    "\n",
    "In the most basic form, the microlensing effect can be added to any source. Here we start with a static source with no microlensing."
   ]
  },
  {
   "cell_type": "code",
   "execution_count": null,
   "id": "da09419a-cf38-4d6f-b44c-e1110caaf541",
   "metadata": {
    "execution": {
     "iopub.execute_input": "2025-01-22T13:03:54.980555Z",
     "iopub.status.busy": "2025-01-22T13:03:54.980382Z",
     "iopub.status.idle": "2025-01-22T13:04:14.827058Z",
     "shell.execute_reply": "2025-01-22T13:04:14.826455Z"
    }
   },
   "outputs": [],
   "source": [
    "source = StaticSource(brightness=100.0)\n",
    "\n",
    "t_start = 60676.0\n",
    "times = np.arange(100.0) + t_start\n",
    "wavelengths = np.array([7000.0])\n",
    "fluxes = source.evaluate(times, wavelengths)\n",
    "\n",
    "plt.plot(times, fluxes)\n",
    "plt.xlabel(\"Time\")\n",
    "plt.ylabel(\"Flux\")\n",
    "plt.show()"
   ]
  },
  {
   "cell_type": "markdown",
   "id": "e9e7d511",
   "metadata": {},
   "source": [
    "Now we add a microlensing effect.  As you can see, the microlensing introduces a magnification 20.0 days after the start of the light curve."
   ]
  },
  {
   "cell_type": "code",
   "execution_count": null,
   "id": "512e79c8",
   "metadata": {},
   "outputs": [],
   "source": [
    "ml_effect = Microlensing(microlensing_t0=t_start + 20.0, u_0=0.1, t_E=10.0)\n",
    "source.add_effect(ml_effect)\n",
    "\n",
    "fluxes = source.evaluate(times, wavelengths)\n",
    "\n",
    "plt.plot(times, fluxes)\n",
    "plt.xlabel(\"Time\")\n",
    "plt.ylabel(\"Flux\")\n",
    "plt.show()"
   ]
  },
  {
   "cell_type": "markdown",
   "id": "84b47d8d",
   "metadata": {},
   "source": [
    "The model underneath the microlense does not need to be constant. We could simulate a small amount of variability by using a sin wave based model."
   ]
  },
  {
   "cell_type": "code",
   "execution_count": null,
   "id": "9cd6184d",
   "metadata": {},
   "outputs": [],
   "source": [
    "source2 = SinWaveSource(brightness=100.0, frequency=0.05, t0=t_start)\n",
    "source2.add_effect(ml_effect)\n",
    "fluxes = source2.evaluate(times, wavelengths)\n",
    "\n",
    "plt.plot(times, fluxes)\n",
    "plt.xlabel(\"Time\")\n",
    "plt.ylabel(\"Flux\")\n",
    "plt.show()"
   ]
  },
  {
   "cell_type": "markdown",
   "id": "4f0746aa",
   "metadata": {},
   "source": [
    "## More Complex Models\n",
    "\n",
    "We can extend the microlensing effect with any one of our SED or bandflux based models. For example consider a `LightcurveModel` which takes sample data points in each bandflux and returns the interpolated values.\n",
    "\n",
    "We start by loading passbands, which are needed from the lightcurve model. Here we use (potentially older) data from the test directory to avoid needing to do a download. Users will generally want to download the most recent passbands. See the passbands notebook for more details."
   ]
  },
  {
   "cell_type": "code",
   "execution_count": null,
   "id": "f9081e5f",
   "metadata": {},
   "outputs": [],
   "source": [
    "# Load the passband data for the griz filters only.\n",
    "filters = [\"g\", \"r\", \"i\", \"z\"]\n",
    "passband_group = PassbandGroup.from_preset(\n",
    "    preset=\"LSST\",\n",
    "    filters=filters,\n",
    "    units=\"nm\",\n",
    "    trim_quantile=0.001,\n",
    "    delta_wave=1,\n",
    "    table_dir=data_dir / \"passbands\",\n",
    ")"
   ]
  },
  {
   "cell_type": "markdown",
   "id": "c3648168",
   "metadata": {},
   "source": [
    "Next we define a series of lightcurves to use as our background source.  These will be defined for the griz filters."
   ]
  },
  {
   "cell_type": "code",
   "execution_count": null,
   "id": "5de1bf2f",
   "metadata": {},
   "outputs": [],
   "source": [
    "dts = np.arange(100.0)\n",
    "times = dts + t_start\n",
    "\n",
    "lightcurves = {\n",
    "    \"g\": np.array([times, 3.0 * np.ones_like(times)]).T,  # Constant at 3.0\n",
    "    \"r\": np.array([times, 0.02 * dts + 1.0]).T,  # Slight linear increase\n",
    "    \"i\": np.array([times, np.sin(dts / 10.0) + 1.5]).T,  # Sin wave\n",
    "    \"z\": np.array([times, 2.0 * np.ones_like(times)]).T,  # Constant at 2.0\n",
    "}\n",
    "\n",
    "lc_source = LightcurveSource(lightcurves, passband_group, t0=0)\n",
    "graph_state = lc_source.sample_parameters(num_samples=1)\n",
    "\n",
    "query_filters = np.array([filters[i % 4] for i in range(len(times))])\n",
    "fluxes = lc_source.get_band_fluxes(passband_group, times, query_filters, graph_state)\n",
    "\n",
    "plot_lightcurves(fluxes, times, fluxerrs=None, filters=query_filters)"
   ]
  },
  {
   "cell_type": "markdown",
   "id": "856a2d4e",
   "metadata": {},
   "source": [
    "We can add microlensing to this source model as we would any other model."
   ]
  },
  {
   "cell_type": "code",
   "execution_count": null,
   "id": "b9d5ca8e",
   "metadata": {},
   "outputs": [],
   "source": [
    "lc_source.add_effect(ml_effect)\n",
    "\n",
    "# We need to resample to include the effect’s parameters.\n",
    "graph_state = lc_source.sample_parameters(num_samples=1)\n",
    "fluxes = lc_source.get_band_fluxes(passband_group, times, query_filters, graph_state)\n",
    "\n",
    "plot_lightcurves(fluxes, times, fluxerrs=None, filters=query_filters)"
   ]
  },
  {
   "cell_type": "markdown",
   "id": "e7a3d3e3",
   "metadata": {},
   "source": [
    "## Varying the Microlensing Parameters\n",
    "\n",
    "The main parameters of the microlensing model (`microlensing_t0`, `u_0`, and `t_E`) can be set like any other sample-able parameter. For example, let’s draw the start time uniformly from [60686.0, 60700.0], `u_0` from a normal centered on 0.1, and `t_E` from a normal centered on 20.0. We can then draw 10 samples and see how they vary."
   ]
  },
  {
   "cell_type": "code",
   "execution_count": null,
   "id": "d9cfaa28-a072-4b7b-817c-166a344cc417",
   "metadata": {
    "execution": {
     "iopub.execute_input": "2025-01-22T13:04:15.712112Z",
     "iopub.status.busy": "2025-01-22T13:04:15.711931Z",
     "iopub.status.idle": "2025-01-22T13:04:16.494841Z",
     "shell.execute_reply": "2025-01-22T13:04:16.494448Z"
    }
   },
   "outputs": [],
   "source": [
    "source = StaticSource(brightness=100.0, node_label=\"source\")\n",
    "\n",
    "ml_effect = Microlensing(\n",
    "    microlensing_t0=NumpyRandomFunc(\"uniform\", low=60686.0, high=60700.0),\n",
    "    u_0=NumpyRandomFunc(\"normal\", loc=0.1, scale=0.01),\n",
    "    t_E=NumpyRandomFunc(\"normal\", loc=20.0, scale=3.0),\n",
    ")\n",
    "source.add_effect(ml_effect)\n",
    "\n",
    "state = source.sample_parameters(num_samples=5)\n",
    "\n",
    "print(\"T0:\", state[\"source\"][\"microlensing_t0\"])\n",
    "print(\"u_0:\", state[\"source\"][\"u_0\"])\n",
    "print(\"t_E:\", state[\"source\"][\"t_E\"])"
   ]
  },
  {
   "cell_type": "markdown",
   "id": "8ed65e30",
   "metadata": {},
   "source": [
    "And we can plot the first few curves.  Notice how the timing and shape of the lensing event varies."
   ]
  },
  {
   "cell_type": "code",
   "execution_count": null,
   "id": "40be2534",
   "metadata": {},
   "outputs": [],
   "source": [
    "fluxes = source.evaluate(times, wavelengths, graph_state=state)\n",
    "\n",
    "for i in range(5):\n",
    "    plt.plot(times, fluxes[i, :, 0])\n",
    "plt.xlabel(\"Time\")\n",
    "plt.ylabel(\"Flux\")\n",
    "plt.show()"
   ]
  },
  {
   "cell_type": "markdown",
   "id": "486721a0",
   "metadata": {},
   "source": [
    "## Probabilistically Applying Microlensing\n",
    "\n",
    "The microlensing effect also includes the ability to probabilistically apply the effect to only a subset of the lightcurves. This is useful if you want a random 1 in every 10,000 stars to be microlensed.  The probability is controlled via the `probability` parameter.\n",
    "\n",
    "In the below example, only 50% of the samples will have the microlensing applied. The sources with microlensing are shown in red and the sources without it are shown in blue. "
   ]
  },
  {
   "cell_type": "code",
   "execution_count": null,
   "id": "aea24aa5",
   "metadata": {},
   "outputs": [],
   "source": [
    "source = StaticSource(brightness=100.0, node_label=\"source\")\n",
    "\n",
    "ml_effect = Microlensing(\n",
    "    microlensing_t0=NumpyRandomFunc(\"uniform\", low=60686.0, high=60700.0),\n",
    "    u_0=NumpyRandomFunc(\"normal\", loc=0.1, scale=0.01),\n",
    "    t_E=NumpyRandomFunc(\"normal\", loc=20.0, scale=3.0),\n",
    "    probability=0.5,\n",
    ")\n",
    "source.add_effect(ml_effect)\n",
    "\n",
    "state = source.sample_parameters(num_samples=10)\n",
    "fluxes = source.evaluate(times, wavelengths, graph_state=state)\n",
    "for i in range(10):\n",
    "    if state[\"source\"][\"apply_microlensing\"][i]:\n",
    "        plt.plot(times, fluxes[i, :, 0], color=\"red\")\n",
    "    else:\n",
    "        plt.plot(times, fluxes[i, :, 0], color=\"blue\")\n",
    "plt.xlabel(\"Time\")\n",
    "plt.ylabel(\"Flux\")\n",
    "plt.show()"
   ]
  },
  {
   "cell_type": "markdown",
   "id": "c6f7e192",
   "metadata": {},
   "source": [
    "## Blended Models\n",
    "\n",
    "For a more realistic simulation, let us consider the combination of two different sources of flux:\n",
    "\n",
    "  * **Source** - The source that is being microlensed. This flux will be magnified by the lense.\n",
    "  * **Blends** - The flux coming from the background (or maybe the lense itself)\n",
    "\n",
    "The structure of this model is shown in the following illustration:\n",
    "\n",
    "![An example sampling graph](../_static/MicrolensingGraph.png \"Sampling Graph\")"
   ]
  },
  {
   "cell_type": "code",
   "execution_count": null,
   "id": "9c2b3c19",
   "metadata": {},
   "outputs": [],
   "source": [
    "from tdastro.sources.multi_source_model import AdditiveMultiSourceModel\n",
    "\n",
    "# Create the blends.\n",
    "blends = StaticSource(brightness=50.0, node_label=\"blends\")\n",
    "\n",
    "# Create the source and add the lensing effect.\n",
    "source = StaticSource(brightness=100.0, node_label=\"source\")\n",
    "ml_effect = Microlensing(microlensing_t0=t_start + 20.0, u_0=0.1, t_E=10.0)\n",
    "source.add_effect(ml_effect)\n",
    "\n",
    "# The full model is the sum of all three flux sources.\n",
    "model = AdditiveMultiSourceModel([source, blends])\n",
    "\n",
    "# Evaluate the combined model at different times.\n",
    "fluxes_all = model.evaluate(times, wavelengths)\n",
    "fluxes_source = source.evaluate(times, wavelengths)\n",
    "fluxes_blends = blends.evaluate(times, wavelengths)\n",
    "\n",
    "plt.plot(times, fluxes_all, label=\"Combined Model\")\n",
    "plt.plot(times, fluxes_source, label=\"Source Model\")\n",
    "plt.plot(times, fluxes_blends, label=\"Blends Model\")\n",
    "plt.xlabel(\"Time\")\n",
    "plt.ylabel(\"Flux\")\n",
    "plt.legend()\n",
    "plt.show()"
   ]
  },
  {
   "cell_type": "markdown",
   "id": "d8ab53d4",
   "metadata": {},
   "source": [
    "As we can see from the graph, in this example, the microlensing magnification was only applied to the source."
   ]
  }
 ],
 "metadata": {
  "kernelspec": {
   "display_name": "tdastro",
   "language": "python",
   "name": "python3"
  },
  "language_info": {
   "codemirror_mode": {
    "name": "ipython",
    "version": 3
   },
   "file_extension": ".py",
   "mimetype": "text/x-python",
   "name": "python",
   "nbconvert_exporter": "python",
   "pygments_lexer": "ipython3",
   "version": "3.10.4"
  },
  "nbsphinx": {
   "execute": "never"
  }
 },
 "nbformat": 4,
 "nbformat_minor": 5
}
