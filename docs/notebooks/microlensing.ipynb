{
 "cells": [
  {
   "cell_type": "markdown",
   "id": "27226089",
   "metadata": {},
   "source": [
    "# LCLIB Example\n",
    "\n",
    "In this notebook we look at how we could take light curves from a LCLIB file and simulate them under different observing cadences and noise conditions."
   ]
  },
  {
   "cell_type": "code",
   "execution_count": null,
   "id": "26a180bb-de40-4353-a493-ff31964feaab",
   "metadata": {
    "execution": {
     "iopub.execute_input": "2025-01-22T13:03:53.184752Z",
     "iopub.status.busy": "2025-01-22T13:03:53.184473Z",
     "iopub.status.idle": "2025-01-22T13:03:54.978720Z",
     "shell.execute_reply": "2025-01-22T13:03:54.978343Z"
    }
   },
   "outputs": [],
   "source": [
    "import numpy as np\n",
    "\n",
    "from tdastro.astro_utils.passbands import PassbandGroup\n",
    "from tdastro.math_nodes.np_random import NumpyRandomFunc\n",
    "from tdastro.math_nodes.ra_dec_sampler import OpSimRADECSampler\n",
    "from tdastro.opsim.opsim import OpSim\n",
    "from tdastro.simulate import simulate_lightcurves\n",
    "from tdastro.sources.lightcurve_source import MultiLightcurveSource\n",
    "from tdastro.utils.plotting import plot_lightcurves\n",
    "\n",
    "from tdastro import _TDASTRO_BASE_DATA_DIR"
   ]
  },
  {
   "cell_type": "markdown",
   "id": "e0b1cad1",
   "metadata": {},
   "source": [
    "## Load Data Files\n",
    "\n",
    "We start by loading the files we will need for running the simulation: the OpSim database and the passband information. Both of these live in the `data/` directory in the root directory. Note that nothing in this directory is saved to github, so the files might have to be downloaded initially.\n",
    "\n",
    "For Rubin, a large number of OpSims can be found at [https://s3df.slac.stanford.edu/data/rubin/sim-data/](https://s3df.slac.stanford.edu/data/rubin/sim-data/). You can download an OpSim manually or using the `from_url()` helper function:\n",
    "\n",
    "> opsim_url = \"https://s3df.slac.stanford.edu/data/rubin/sim-data/sims_featureScheduler_runs3.4/baseline/baseline_v3.4_10yrs.db\"\n",
    "\n",
    "> opsim_data = OpSim.from_url(opsim_url)\n",
    "\n",
    "We only care about the observations in the OpSim in the filters we wish to simulate. So we use `OpSim.filter_rows()` to remove those rows that do not match."
   ]
  },
  {
   "cell_type": "code",
   "execution_count": null,
   "id": "da09419a-cf38-4d6f-b44c-e1110caaf541",
   "metadata": {
    "execution": {
     "iopub.execute_input": "2025-01-22T13:03:54.980555Z",
     "iopub.status.busy": "2025-01-22T13:03:54.980382Z",
     "iopub.status.idle": "2025-01-22T13:04:14.827058Z",
     "shell.execute_reply": "2025-01-22T13:04:14.826455Z"
    }
   },
   "outputs": [],
   "source": [
    "# Choose which filters to simulate.\n",
    "filters = [\"g\", \"r\", \"i\", \"z\"]\n",
    "\n",
    "# Load the OpSim data.\n",
    "opsim_db = OpSim.from_db(_TDASTRO_BASE_DATA_DIR / \"opsim\" / \"baseline_v3.4_10yrs.db\")\n",
    "print(f\"Loaded OpSim with {len(opsim_db)} rows.\")\n",
    "\n",
    "# Filter to only the rows that match the filters we want to simulate.\n",
    "filter_mask = np.isin(opsim_db[\"filter\"], filters)\n",
    "opsim_db = opsim_db.filter_rows(filter_mask)\n",
    "\n",
    "# Print the number of rows and time bounds after filtering.\n",
    "t_min, t_max = opsim_db.time_bounds()\n",
    "print(f\"Filtered OpSim to {len(opsim_db)} rows and times [{t_min}, {t_max}]\")"
   ]
  },
  {
   "cell_type": "markdown",
   "id": "4f0746aa",
   "metadata": {},
   "source": [
    "Load the passband information, using the same filters. For most models the passband information will be used to convert the SED into bandfluxes. However, since we already have light curves at the bandflux level, we will just generate observations directly from those."
   ]
  },
  {
   "cell_type": "code",
   "execution_count": null,
   "id": "b9d5ca8e",
   "metadata": {},
   "outputs": [],
   "source": [
    "# Load the passband data for the griz filters only.\n",
    "table_dir = _TDASTRO_BASE_DATA_DIR / \"passbands\" / \"LSST\"\n",
    "passband_group = PassbandGroup.from_preset(\n",
    "    preset=\"LSST\",\n",
    "    filters=filters,\n",
    "    units=\"nm\",\n",
    "    trim_quantile=0.001,\n",
    "    delta_wave=1,\n",
    "    table_dir=table_dir,\n",
    ")\n",
    "passband_group.plot()"
   ]
  },
  {
   "cell_type": "markdown",
   "id": "e7a3d3e3",
   "metadata": {},
   "source": [
    "## Create the model\n",
    "\n",
    "We want to create models based on an existing LCLIB file. Again we will need to download the file of interest to the data directory.  In this example we use the LCLIB_RRL-LSST.TEXT.gz data from https://zenodo.org/records/6672739.  We load this into a `MultiLightcurveSource` object, which represents a set of light curves from which we can sample.\n",
    "\n",
    "The `MultiLightcurveSource` stores a series of multi-band light curves, each corresponding to the observer frame bandfluxes for a single real or simulated objects. New observations are created by randomly choosing one of the light curves and interpolating it at new times. The starting time of the activity is controlled by the `t0` parameter in the model. So we can generate a simulation where the object's activity starts halfway through our observations.\n",
    "\n",
    "Note that currently only periodic and non-reoccurring non-periodic light curves are supported. We treat reoccurring non-periodic light curves as non-reoccurring non-periodic (they will only occur once in the simulated output).\n",
    "\n",
    "Since `MultiLightcurveSource` is a `PhysicalModel`, we can specify other parameters such as the RA and dec.  In this examples, we generate this position information by sampling from the OpSim fields (using an `OpSimRADECSampler` node). We sample the starting time of the light curve uniformly from the time covered by the OpSim."
   ]
  },
  {
   "cell_type": "code",
   "execution_count": null,
   "id": "d9cfaa28-a072-4b7b-817c-166a344cc417",
   "metadata": {
    "execution": {
     "iopub.execute_input": "2025-01-22T13:04:15.712112Z",
     "iopub.status.busy": "2025-01-22T13:04:15.711931Z",
     "iopub.status.idle": "2025-01-22T13:04:16.494841Z",
     "shell.execute_reply": "2025-01-22T13:04:16.494448Z"
    }
   },
   "outputs": [],
   "source": [
    "lc_file = _TDASTRO_BASE_DATA_DIR / \"models\" / \"LCLIB_RRL-LSST.TEXT.gz\"\n",
    "\n",
    "# Use an OpSim based sampler for position.\n",
    "ra_dec_sampler = OpSimRADECSampler(\n",
    "    opsim_db,\n",
    "    radius=3.0,  # degrees\n",
    "    node_label=\"ra_dec_sampler\",\n",
    ")\n",
    "\n",
    "# Use a uniform sampler for the starting time (t0) of activity.\n",
    "time_sampler = NumpyRandomFunc(\"uniform\", low=t_min, high=t_max, node_label=\"time_sampler\")\n",
    "\n",
    "# Load the light curves from the LCLIB file. Only load the filters that are present in the OpSim data.\n",
    "source = MultiLightcurveSource.from_lclib_file(\n",
    "    lc_file,\n",
    "    passband_group,\n",
    "    ra=ra_dec_sampler.ra,\n",
    "    dec=ra_dec_sampler.dec,\n",
    "    t0=time_sampler,\n",
    "    filters=filters,\n",
    "    node_label=\"source\",\n",
    ")\n",
    "\n",
    "print(f\"Loaded {len(source)} light curves from {lc_file}\")"
   ]
  },
  {
   "cell_type": "markdown",
   "id": "b427399b-f917-47c4-9d24-3a78760361e9",
   "metadata": {},
   "source": [
    "## Generate the simulations\n",
    "\n",
    "We can now generate random simulations with all the information defined above. The `simulate_lightcurves` function takes three parameters: the source from which we want to sample (here the collection of lightcurves), the number of results to simulate (1,000), and the passband information.  The passband information is not used in this example, because we can extrapolate the bandfluxes directly from the underlying light curves."
   ]
  },
  {
   "cell_type": "code",
   "execution_count": null,
   "id": "c18b6a4e",
   "metadata": {},
   "outputs": [],
   "source": [
    "lightcurves = simulate_lightcurves(source, 1_000, opsim_db, passband_group)"
   ]
  },
  {
   "cell_type": "markdown",
   "id": "73ca9b79",
   "metadata": {},
   "source": [
    "The results are written in the [nested-pandas](https://github.com/lincc-frameworks/nested-pandas) format for easy analysis. Each row corresponds to a single simulated object, with a unique id, ra, dec, etc. The column `params` include all internal state, including hyperparameter settings, that was used to generate this object.\n",
    "\n",
    "We can print the first row:"
   ]
  },
  {
   "cell_type": "code",
   "execution_count": null,
   "id": "adb0f43c-da6f-433b-b2fc-3478f8adea0c",
   "metadata": {
    "execution": {
     "iopub.execute_input": "2025-01-22T13:04:17.421514Z",
     "iopub.status.busy": "2025-01-22T13:04:17.421393Z",
     "iopub.status.idle": "2025-01-22T13:04:20.389473Z",
     "shell.execute_reply": "2025-01-22T13:04:20.388543Z"
    }
   },
   "outputs": [],
   "source": [
    "print(lightcurves.loc[0])"
   ]
  },
  {
   "cell_type": "markdown",
   "id": "9d0f952a",
   "metadata": {},
   "source": [
    "The nested `lightcurve` column contains the times, filters, and fluxes for each observation of that object.  We can treat it as a table:"
   ]
  },
  {
   "cell_type": "code",
   "execution_count": null,
   "id": "72a7596e",
   "metadata": {},
   "outputs": [],
   "source": [
    "print(lightcurves.loc[0][\"lightcurve\"])"
   ]
  },
  {
   "cell_type": "markdown",
   "id": "9085a04a-28e2-465f-96fd-f397af618a6c",
   "metadata": {},
   "source": [
    "Now let's plot some random light curves. Note that all of the light curves in the \"LCLIB_RRL-LSST.TEXT.gz\" file are periodic, so we expect to see observations throughout the time range of the survey."
   ]
  },
  {
   "cell_type": "code",
   "execution_count": null,
   "id": "f7b316f6-5758-452c-a254-477f817efdb1",
   "metadata": {
    "execution": {
     "iopub.execute_input": "2025-01-22T13:04:20.391349Z",
     "iopub.status.busy": "2025-01-22T13:04:20.391194Z",
     "iopub.status.idle": "2025-01-22T13:04:20.973939Z",
     "shell.execute_reply": "2025-01-22T13:04:20.973646Z"
    }
   },
   "outputs": [],
   "source": [
    "random_ids = np.random.choice(len(lightcurves), 5)\n",
    "\n",
    "for random_id in random_ids:\n",
    "    # Extract the row for this object.\n",
    "    lc = lightcurves.loc[random_id]\n",
    "\n",
    "    if lc[\"nobs\"] > 0:\n",
    "        # Unpack the nested columns (filters, mjd, flux, and flux error).\n",
    "        lc_filters = np.asarray(lc[\"lightcurve\"][\"filter\"], dtype=str)\n",
    "        lc_mjd = np.asarray(lc[\"lightcurve\"][\"mjd\"], dtype=float)\n",
    "        lc_flux = np.asarray(lc[\"lightcurve\"][\"flux\"], dtype=float)\n",
    "        lc_fluxerr = np.asarray(lc[\"lightcurve\"][\"fluxerr\"], dtype=float)\n",
    "\n",
    "        # Look up which lightcurve was used.\n",
    "        graph_state = lc[\"params\"]\n",
    "        lc_id = graph_state[\"source.selected_lightcurve\"]\n",
    "        ra = graph_state[\"source.ra\"]\n",
    "        dec = graph_state[\"source.dec\"]\n",
    "\n",
    "        plot_lightcurves(\n",
    "            fluxes=lc_flux,\n",
    "            times=lc_mjd,\n",
    "            fluxerrs=lc_fluxerr,\n",
    "            filters=lc_filters,\n",
    "            title=f\"Sample {random_id} from Lightcurve {lc_id} at ({ra:.2f}, {dec:.2f})\",\n",
    "        )"
   ]
  },
  {
   "cell_type": "code",
   "execution_count": null,
   "id": "1662597d-78e6-4b92-a46d-49a5bd3612b2",
   "metadata": {},
   "outputs": [],
   "source": []
  }
 ],
 "metadata": {
  "kernelspec": {
   "display_name": "tdastro",
   "language": "python",
   "name": "python3"
  },
  "language_info": {
   "codemirror_mode": {
    "name": "ipython",
    "version": 3
   },
   "file_extension": ".py",
   "mimetype": "text/x-python",
   "name": "python",
   "nbconvert_exporter": "python",
   "pygments_lexer": "ipython3",
   "version": "3.10.4"
  },
  "nbsphinx": {
   "execute": "never"
  }
 },
 "nbformat": 4,
 "nbformat_minor": 5
}
