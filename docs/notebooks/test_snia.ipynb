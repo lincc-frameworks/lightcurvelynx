{
 "cells": [
  {
   "cell_type": "code",
   "execution_count": null,
   "id": "1bd86f47-7061-4aff-a7e0-be226219b139",
   "metadata": {},
   "outputs": [],
   "source": [
    "%load_ext autoreload\n",
    "%autoreload 2"
   ]
  },
  {
   "cell_type": "code",
   "execution_count": null,
   "id": "4bf6fe10-59dc-439e-9371-c0cc15755f62",
   "metadata": {},
   "outputs": [],
   "source": [
    "import os\n",
    "import sys\n",
    "\n",
    "import matplotlib.pyplot as plt\n",
    "import numpy as np\n",
    "import sncosmo\n",
    "import tdastro\n",
    "\n",
    "# Append the path to the test directory so we can import run_snia_end2end\n",
    "test_path = tdastro._TDASTRO_TEST_DIR\n",
    "sys.path.append(str(test_path.resolve()))\n",
    "\n",
    "from sources.test_snia import run_snia_end2end"
   ]
  },
  {
   "cell_type": "markdown",
   "id": "08be785a-7ef9-4ee7-af8c-ea2785623ad9",
   "metadata": {},
   "source": [
    "### Create the data we will use for this test\n",
    "\n",
    "Load a sample opsim file (opsim_shorten.db) from the test's data directory and use the `oversample_opsim()` function to sample every 0.01 days from MJD=61406.0 to MJD=61771.0."
   ]
  },
  {
   "cell_type": "code",
   "execution_count": null,
   "id": "c87c4488-9368-4a0a-8400-1596bb15492a",
   "metadata": {},
   "outputs": [],
   "source": [
    "from tdastro.astro_utils.opsim import OpSim, oversample_opsim\n",
    "\n",
    "opsim_name = os.path.join(tdastro._TDASTRO_TEST_DATA_DIR, \"opsim_shorten.db\")\n",
    "base_opsim = OpSim.from_db(opsim_name)\n",
    "oversampled_observations = oversample_opsim(\n",
    "    base_opsim,\n",
    "    pointing=(0.0, 0.0),\n",
    "    search_radius=180.0,\n",
    "    delta_t=0.01,\n",
    "    time_range=(61406.0, 61771.0),\n",
    "    bands=None,\n",
    "    strategy=\"darkest_sky\",\n",
    ")"
   ]
  },
  {
   "cell_type": "markdown",
   "id": "a2d71c32-cae7-4758-b4ab-9021f062c412",
   "metadata": {},
   "source": [
    "### define the source and observation"
   ]
  },
  {
   "cell_type": "markdown",
   "id": "cbf7337b-1319-4a9b-aa71-0c90855e79a0",
   "metadata": {},
   "source": [
    "### Run the test \n",
    "Run the end to end test using the `run_snia_end2end()` to generate 20 samples."
   ]
  },
  {
   "cell_type": "markdown",
   "id": "95ec036b-f4a9-47ee-9e6a-63794efcb7d8",
   "metadata": {},
   "source": [
    "TODO: use timeit or profiler here (repeat with a different nsample)"
   ]
  },
  {
   "cell_type": "code",
   "execution_count": null,
   "id": "3285d471-c454-4c7a-b7cb-b8a79ab7ec98",
   "metadata": {},
   "outputs": [],
   "source": [
    "passbands_dir = os.path.join(tdastro._TDASTRO_TEST_DATA_DIR, \"passbands\")\n",
    "res, passbands = run_snia_end2end(\n",
    "    oversampled_observations,\n",
    "    passbands_dir=passbands_dir,\n",
    "    nsample=20,\n",
    ")\n",
    "\n",
    "print(f\"Produced {len(res)} samples.\")"
   ]
  },
  {
   "cell_type": "markdown",
   "id": "e02061c3-607d-436f-863f-ec32ebd998ea",
   "metadata": {},
   "source": [
    "### examine model parameters"
   ]
  },
  {
   "cell_type": "code",
   "execution_count": null,
   "id": "c60e849f-8529-4714-92e1-345182a12a68",
   "metadata": {},
   "outputs": [],
   "source": [
    "hostmass = [x[\"parameter_values\"][\"hostmass\"] for x in res]\n",
    "x1 = [x[\"parameter_values\"][\"x1\"] for x in res]\n",
    "x0 = [x[\"parameter_values\"][\"x0\"] for x in res]\n",
    "c = [x[\"parameter_values\"][\"c\"] for x in res]\n",
    "z = [x[\"parameter_values\"][\"redshift\"] for x in res]\n",
    "t0 = [x[\"parameter_values\"][\"t0\"] for x in res]\n",
    "distmod = [x[\"parameter_values\"][\"distmod\"] for x in res]"
   ]
  },
  {
   "cell_type": "code",
   "execution_count": null,
   "id": "57607e1e-e18a-4408-a7b9-ec400c72c9a8",
   "metadata": {},
   "outputs": [],
   "source": [
    "plt.hist(hostmass)"
   ]
  },
  {
   "cell_type": "code",
   "execution_count": null,
   "id": "561c6c8c-84d9-484d-9759-56b020a018d6",
   "metadata": {},
   "outputs": [],
   "source": [
    "plt.hist(x1)\n",
    "print(np.std(x1))"
   ]
  },
  {
   "cell_type": "code",
   "execution_count": null,
   "id": "8addd896-8f21-4813-8053-b75debf114b2",
   "metadata": {},
   "outputs": [],
   "source": [
    "plt.hist(c)"
   ]
  },
  {
   "cell_type": "code",
   "execution_count": null,
   "id": "bd1bbdd5-f236-4e6d-84f3-161ab6cca4fd",
   "metadata": {},
   "outputs": [],
   "source": [
    "plt.scatter(hostmass, x1)"
   ]
  },
  {
   "cell_type": "code",
   "execution_count": null,
   "id": "151bd30a-26f4-40eb-ba99-611f82d61edf",
   "metadata": {},
   "outputs": [],
   "source": [
    "plt.hist(x0)"
   ]
  },
  {
   "cell_type": "code",
   "execution_count": null,
   "id": "3b9e3896-c530-419c-8bb0-a9c1984eae0d",
   "metadata": {},
   "outputs": [],
   "source": [
    "plt.hist(z)"
   ]
  },
  {
   "cell_type": "markdown",
   "id": "a19fad37-592a-46f4-a197-9ba0e1a76e31",
   "metadata": {},
   "source": [
    "### examine physical effects"
   ]
  },
  {
   "cell_type": "code",
   "execution_count": null,
   "id": "b31893a6-be21-4c69-8e6c-4cfec316d309",
   "metadata": {},
   "outputs": [],
   "source": [
    "# cosmo = FlatLambdaCDM(H0=73, Om0=0.3)\n",
    "# distmod = cosmo.distmod(z).value\n",
    "\n",
    "#    x0 = np.power(10., -0.4 * (distmod - alpha * x1 + beta * c + m_abs))\n",
    "#  -2.5*log10(x0) = distmod -alpha*x1 + beta*c + m_abs\n",
    "\n",
    "mb = -2.5 * np.log10(x0)\n",
    "print(np.std(mb - distmod))\n",
    "\n",
    "plt.scatter(z, mb - distmod)\n",
    "plt.show()\n",
    "\n",
    "alpha = 0.14\n",
    "beta = 3.1\n",
    "mu = np.array(mb) + alpha * np.array(x1) - beta * np.array(c) + 19.3\n",
    "print(np.std(mu - distmod))\n",
    "\n",
    "plt.scatter(z, mu - distmod)\n",
    "\n",
    "plt.show()"
   ]
  },
  {
   "cell_type": "code",
   "execution_count": null,
   "id": "d7443d9e-7bbd-4087-b31e-8a4030c32b16",
   "metadata": {},
   "outputs": [],
   "source": [
    "plt.scatter(z, mb)\n",
    "plt.show()\n",
    "plt.scatter(z, mu)\n",
    "plt.show()"
   ]
  },
  {
   "cell_type": "code",
   "execution_count": null,
   "id": "494d4400-c7ef-453d-bfa3-4abea973997e",
   "metadata": {},
   "outputs": [],
   "source": [
    "plt.scatter(hostmass, mu - distmod)\n",
    "plt.show()"
   ]
  },
  {
   "cell_type": "markdown",
   "id": "e3876f7e-44cc-4ddd-a635-9bebe292b195",
   "metadata": {},
   "source": [
    "### examine the source model"
   ]
  },
  {
   "cell_type": "code",
   "execution_count": null,
   "id": "55a3c72f-a231-4108-b518-779e37502cd7",
   "metadata": {},
   "outputs": [],
   "source": [
    "for i in range(0, 3):\n",
    "    try:\n",
    "        plt.plot(res[i][\"wavelengths_rest\"] * (1 + z[i]), res[i][\"flux_flam\"][0], color=\"r\")\n",
    "    except Exception:\n",
    "        continue\n",
    "    saltpars = {\"x0\": x0[i], \"x1\": x1[i], \"c\": c[i], \"z\": z[i], \"t0\": t0[i]}\n",
    "    model = sncosmo.Model(\"salt3\")\n",
    "    model.update(saltpars)\n",
    "    print(saltpars)\n",
    "    print(model.parameters)\n",
    "    print(res[i][\"times\"] - t0[i])\n",
    "    wave = res[i][\"wavelengths_rest\"] * (1 + z[i])\n",
    "    plt.plot(wave, model.flux(res[i][\"times\"][0], wave), color=\"g\")\n",
    "    plt.show()"
   ]
  },
  {
   "cell_type": "markdown",
   "id": "d4023c55-2ef8-4465-a3bb-3c1bf506151b",
   "metadata": {},
   "source": [
    "### examine the light curves"
   ]
  },
  {
   "cell_type": "code",
   "execution_count": null,
   "id": "acdcbb01-ead0-4a20-b479-3324ccd7e562",
   "metadata": {},
   "outputs": [],
   "source": [
    "for i in range(0, 3):\n",
    "    times = res[i][\"times\"]\n",
    "    colors = [\"red\", \"brown\"]\n",
    "    for f, color in zip(\"ri\", colors):\n",
    "        band_name = f\"LSST_{f}\"\n",
    "        plt.plot(times, res[i][\"bandfluxes\"][band_name], \"-\", label=f, color=color, alpha=0.6, lw=2)\n",
    "        saltpars = {\"x0\": x0[i], \"x1\": x1[i], \"c\": c[i], \"z\": z[i], \"t0\": t0[i]}\n",
    "        model = sncosmo.Model(\"salt3\")\n",
    "        model.update(saltpars)\n",
    "        print(saltpars)\n",
    "\n",
    "        sncosmo_band = sncosmo.Bandpass(\n",
    "            *passbands.passbands[band_name].processed_transmission_table.T, name=band_name\n",
    "        )\n",
    "        flux = model.bandflux(sncosmo_band, times, zpsys=\"ab\", zp=8.9 + 2.5 * 9)  # -48.6)\n",
    "        plt.plot(times, flux, \"--\", label=f, color=color)\n",
    "        plt.xlabel(\"MJD\")\n",
    "        plt.ylabel(\"Flux, nJy\")\n",
    "        plt.legend()\n",
    "    plt.show()"
   ]
  },
  {
   "cell_type": "markdown",
   "id": "d1d7dd93-9ffd-49f3-a844-ed39960f360c",
   "metadata": {},
   "source": [
    "TODO: \n",
    "now we have lsst-like LCs and their true parameters\n",
    "we should make idealized LCs with the same true parameters and no observational effects, just insanely high cadence opsim, etc.\n",
    "Let's fit each set with scipy.optimize, then plot differences relative to truth (should be unbiased for perfect data and noisy for realistic)"
   ]
  },
  {
   "cell_type": "markdown",
   "id": "5d9b245c-8f83-4123-8b16-f7f4d14a6ea4",
   "metadata": {},
   "source": [
    "TODO: fit population parameters from noisy data ensemble"
   ]
  },
  {
   "cell_type": "code",
   "execution_count": null,
   "id": "b47f8627-dc9b-4be7-b6bb-1b990d4be9b6",
   "metadata": {},
   "outputs": [],
   "source": []
  }
 ],
 "metadata": {
  "kernelspec": {
   "display_name": "Python 3 (ipykernel)",
   "language": "python",
   "name": "python3"
  },
  "language_info": {
   "codemirror_mode": {
    "name": "ipython",
    "version": 3
   },
   "file_extension": ".py",
   "mimetype": "text/x-python",
   "name": "python",
   "nbconvert_exporter": "python",
   "pygments_lexer": "ipython3",
   "version": "3.11.9"
  }
 },
 "nbformat": 4,
 "nbformat_minor": 5
}
