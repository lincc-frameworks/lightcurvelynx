{
 "cells": [
  {
   "cell_type": "code",
   "execution_count": null,
   "id": "1bd86f47-7061-4aff-a7e0-be226219b139",
   "metadata": {},
   "outputs": [],
   "source": [
    "%load_ext autoreload\n",
    "%autoreload 2"
   ]
  },
  {
   "cell_type": "code",
   "execution_count": null,
   "id": "4bf6fe10-59dc-439e-9371-c0cc15755f62",
   "metadata": {},
   "outputs": [],
   "source": [
    "import sys\n",
    "\n",
    "sys.path.append(\"/Users/mi/Work/tdastro/tdastro/tests/tdastro/sources/\")"
   ]
  },
  {
   "cell_type": "code",
   "execution_count": null,
   "id": "817f5d23-925d-4ef7-bc22-ad110020e57d",
   "metadata": {},
   "outputs": [],
   "source": [
    "import matplotlib.pyplot as plt\n",
    "import numpy as np\n",
    "import sncosmo"
   ]
  },
  {
   "cell_type": "code",
   "execution_count": null,
   "id": "c87c4488-9368-4a0a-8400-1596bb15492a",
   "metadata": {},
   "outputs": [],
   "source": [
    "from test_snia import test_snia_end2end"
   ]
  },
  {
   "cell_type": "code",
   "execution_count": null,
   "id": "3285d471-c454-4c7a-b7cb-b8a79ab7ec98",
   "metadata": {},
   "outputs": [],
   "source": [
    "res = test_snia_end2end()"
   ]
  },
  {
   "cell_type": "code",
   "execution_count": null,
   "id": "41df54c8-76dd-44db-974b-7b5f45f756aa",
   "metadata": {},
   "outputs": [],
   "source": [
    "res[\"parameter_values\"]"
   ]
  },
  {
   "cell_type": "code",
   "execution_count": null,
   "id": "c60e849f-8529-4714-92e1-345182a12a68",
   "metadata": {},
   "outputs": [],
   "source": [
    "hostmass = [x[\"hostmass\"] for x in res[\"parameter_values\"]]\n",
    "x1 = [x[\"x1\"] for x in res[\"parameter_values\"]]\n",
    "x0 = [x[\"x0\"] for x in res[\"parameter_values\"]]\n",
    "c = [x[\"c\"] for x in res[\"parameter_values\"]]\n",
    "z = [x[\"redshift\"] for x in res[\"parameter_values\"]]\n",
    "t0 = [x[\"t0\"] for x in res['parameter_values']]\n",
    "distmod = [x[\"distmod\"] for x in res[\"parameter_values\"]]"
   ]
  },
  {
   "cell_type": "code",
   "execution_count": null,
   "id": "57607e1e-e18a-4408-a7b9-ec400c72c9a8",
   "metadata": {},
   "outputs": [],
   "source": [
    "plt.hist(hostmass)"
   ]
  },
  {
   "cell_type": "code",
   "execution_count": null,
   "id": "561c6c8c-84d9-484d-9759-56b020a018d6",
   "metadata": {},
   "outputs": [],
   "source": [
    "plt.hist(x1)\n",
    "print(np.std(x1))"
   ]
  },
  {
   "cell_type": "code",
   "execution_count": null,
   "id": "8addd896-8f21-4813-8053-b75debf114b2",
   "metadata": {},
   "outputs": [],
   "source": [
    "plt.hist(c)"
   ]
  },
  {
   "cell_type": "code",
   "execution_count": null,
   "id": "bd1bbdd5-f236-4e6d-84f3-161ab6cca4fd",
   "metadata": {},
   "outputs": [],
   "source": [
    "plt.scatter(hostmass, x1)"
   ]
  },
  {
   "cell_type": "code",
   "execution_count": null,
   "id": "151bd30a-26f4-40eb-ba99-611f82d61edf",
   "metadata": {},
   "outputs": [],
   "source": [
    "plt.hist(x0)"
   ]
  },
  {
   "cell_type": "code",
   "execution_count": null,
   "id": "3b9e3896-c530-419c-8bb0-a9c1984eae0d",
   "metadata": {},
   "outputs": [],
   "source": [
    "plt.hist(z)"
   ]
  },
  {
   "cell_type": "code",
   "execution_count": null,
   "id": "b31893a6-be21-4c69-8e6c-4cfec316d309",
   "metadata": {},
   "outputs": [],
   "source": [
    "# cosmo = FlatLambdaCDM(H0=73, Om0=0.3)\n",
    "# distmod = cosmo.distmod(z).value\n",
    "\n",
    "#    x0 = np.power(10., -0.4 * (distmod - alpha * x1 + beta * c + m_abs))\n",
    "#  -2.5*log10(x0) = distmod -alpha*x1 + beta*c + m_abs\n",
    "\n",
    "mb = -2.5 * np.log10(x0)\n",
    "print(np.std(mb - distmod))\n",
    "\n",
    "plt.scatter(z, mb - distmod)\n",
    "plt.show()\n",
    "\n",
    "alpha = 0.14\n",
    "beta = 3.1\n",
    "mu = np.array(mb) + alpha * np.array(x1) - beta * np.array(c) + 19.3\n",
    "print(np.std(mu - distmod))\n",
    "\n",
    "plt.scatter(z, mu - distmod)\n",
    "\n",
    "plt.show()"
   ]
  },
  {
   "cell_type": "code",
   "execution_count": null,
   "id": "d7443d9e-7bbd-4087-b31e-8a4030c32b16",
   "metadata": {},
   "outputs": [],
   "source": [
    "plt.scatter(z, mb)\n",
    "plt.show()\n",
    "plt.scatter(z, mu)\n",
    "plt.show()"
   ]
  },
  {
   "cell_type": "code",
   "execution_count": null,
   "id": "494d4400-c7ef-453d-bfa3-4abea973997e",
   "metadata": {},
   "outputs": [],
   "source": [
    "plt.scatter(hostmass, mu - distmod)\n",
    "plt.show()"
   ]
  },
  {
   "cell_type": "code",
   "execution_count": null,
   "id": "b2e6c917-94c6-447d-9a59-d257225768c3",
   "metadata": {},
   "outputs": [],
   "source": [
    "res['phase_rest']"
   ]
  },
  {
   "cell_type": "code",
   "execution_count": null,
   "id": "3c8b9181-5e3e-4f6a-a606-92f0fb1fed53",
   "metadata": {},
   "outputs": [],
   "source": [
    "res"
   ]
  },
  {
   "cell_type": "code",
   "execution_count": null,
   "id": "55a3c72f-a231-4108-b518-779e37502cd7",
   "metadata": {},
   "outputs": [],
   "source": [
    "for i in range(0,10):\n",
    "    try:\n",
    "        plt.plot(res[\"wavelengths_rest\"]*(1+z[i]), res[\"flux_flam\"][i][0],color='r')\n",
    "    except Exception:\n",
    "        continue\n",
    "    saltpars = {'x0':x0[i],'x1':x1[i],'c':c[i],'z':z[i],'t0':t0[i]}\n",
    "    model = sncosmo.Model('salt2-h17')\n",
    "    model.update(saltpars)\n",
    "    print(saltpars)\n",
    "    print(model.parameters)\n",
    "    print(res[\"times\"][i]-t0[i])\n",
    "    wave = res[\"wavelengths_rest\"]*(1+z[i])\n",
    "    plt.plot(wave,model.flux(res[\"times\"][i][0],wave),color='g')\n",
    "    plt.show()"
   ]
  },
  {
   "cell_type": "code",
   "execution_count": null,
   "id": "b399cbe4-d7e3-47f9-b995-d2b69344b49a",
   "metadata": {},
   "outputs": [],
   "source": []
  },
  {
   "cell_type": "code",
   "execution_count": null,
   "id": "acdcbb01-ead0-4a20-b479-3324ccd7e562",
   "metadata": {},
   "outputs": [],
   "source": [
    "for i in range(0,len(res['bandfluxes'])):\n",
    "    phase_obs = res['phase_rest']*(1+z[i])\n",
    "    times = res['times'][i]\n",
    "    for f in 'gr':\n",
    "        plt.plot(times,res['bandfluxes'][i][f],'-',marker='o',label=f)\n",
    "        plt.legend()\n",
    "    plt.show()\n",
    "    for f in 'gr':\n",
    "        saltpars = {'x0':x0[i],'x1':x1[i],'c':c[i],'z':z[i],'t0':t0[i]}\n",
    "        model = sncosmo.Model('salt2-h17')\n",
    "        model.update(saltpars)\n",
    "        print(saltpars)\n",
    "        flux = model.bandflux('lsst'+f,times,zpsys='ab',zp=8.9+2.5*9)#-48.6)\n",
    "        plt.plot(times,flux,'--',label=f,marker='*')\n",
    "        plt.legend()\n",
    "    plt.show()"
   ]
  },
  {
   "cell_type": "code",
   "execution_count": null,
   "id": "d95053a7-1e5c-4d36-8579-82b3dd8b9cbb",
   "metadata": {},
   "outputs": [],
   "source": []
  },
  {
   "cell_type": "code",
   "execution_count": null,
   "id": "dc680d32-cc9c-428f-90c4-944649999d9f",
   "metadata": {},
   "outputs": [],
   "source": []
  }
 ],
 "metadata": {
  "kernelspec": {
   "display_name": "Python [conda env:tdastro]",
   "language": "python",
   "name": "conda-env-tdastro-py"
  },
  "language_info": {
   "codemirror_mode": {
    "name": "ipython",
    "version": 3
   },
   "file_extension": ".py",
   "mimetype": "text/x-python",
   "name": "python",
   "nbconvert_exporter": "python",
   "pygments_lexer": "ipython3",
   "version": "3.11.9"
  }
 },
 "nbformat": 4,
 "nbformat_minor": 5
}
