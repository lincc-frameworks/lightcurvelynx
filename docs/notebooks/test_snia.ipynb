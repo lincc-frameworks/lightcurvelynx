{
 "cells": [
  {
   "cell_type": "code",
   "execution_count": null,
   "id": "f2dc23f31b3601e1",
   "metadata": {
    "ExecuteTime": {
     "end_time": "2024-09-26T18:10:25.986845Z",
     "start_time": "2024-09-26T18:10:25.982521Z"
    }
   },
   "outputs": [],
   "source": [
    "# %load_ext autoreload\n",
    "# %autoreload 2"
   ]
  },
  {
   "cell_type": "code",
   "execution_count": null,
   "id": "4e459a387df01a7c",
   "metadata": {
    "ExecuteTime": {
     "end_time": "2024-09-26T18:10:25.995745Z",
     "start_time": "2024-09-26T18:10:25.992519Z"
    }
   },
   "outputs": [],
   "source": [
    "import matplotlib.pyplot as plt\n",
    "import numpy as np\n",
    "import os\n",
    "import sncosmo\n",
    "import sys\n",
    "import tdastro\n",
    "\n",
    "# Append the path to the test directory so we can import run_snia_end2end\n",
    "test_path = tdastro._TDASTRO_TEST_DIR\n",
    "sys.path.append(str(test_path.resolve()))\n",
    "\n",
    "from sources.test_snia import run_snia_end2end"
   ]
  },
  {
   "cell_type": "markdown",
   "id": "a26e33f8",
   "metadata": {},
   "source": [
    "### Create the data we will use for this test\n",
    "\n",
    "Load a sample opsim file (opsim_shorten.db) from the test's data directory and use the `oversample_opsim()` function to sample every 0.01 days from MJD=61406.0 to MJD=61771.0."
   ]
  },
  {
   "cell_type": "code",
   "execution_count": null,
   "id": "89adedae",
   "metadata": {},
   "outputs": [],
   "source": [
    "from tdastro.astro_utils.opsim import oversample_opsim, OpSim\n",
    "\n",
    "opsim_name = os.path.join(tdastro._TDASTRO_TEST_DATA_DIR, \"opsim_shorten.db\")\n",
    "base_opsim = OpSim.from_db(opsim_name)\n",
    "oversampled_observations = oversample_opsim(\n",
    "    base_opsim,\n",
    "    pointing=(0.0, 0.0),\n",
    "    search_radius=180.0,\n",
    "    delta_t=0.01,\n",
    "    time_range=(61406.0, 61771.0),\n",
    "    bands=None,\n",
    "    strategy=\"darkest_sky\",\n",
    ")"
   ]
  },
  {
   "cell_type": "markdown",
   "id": "1c96e021",
   "metadata": {},
   "source": [
    "### Run the test\n",
    "\n",
    "Run the end to end test using the `run_snia_end2end()` to generate 20 samples."
   ]
  },
  {
   "cell_type": "code",
   "execution_count": null,
   "id": "58a2bc03f3a3a3a0",
   "metadata": {
    "ExecuteTime": {
     "end_time": "2024-09-26T18:10:56.578886Z",
     "start_time": "2024-09-26T18:10:26.023246Z"
    }
   },
   "outputs": [],
   "source": [
    "passbands_dir = os.path.join(tdastro._TDASTRO_TEST_DATA_DIR, \"passbands\")\n",
    "res, passbands = run_snia_end2end(\n",
    "    oversampled_observations,\n",
    "    passbands_dir=passbands_dir,\n",
    "    nsample=20,\n",
    ")\n",
    "\n",
    "print(f\"Produced {len(res)} samples.\")"
   ]
  },
  {
   "cell_type": "code",
   "execution_count": null,
   "id": "5c4b0574aec01df4",
   "metadata": {
    "ExecuteTime": {
     "end_time": "2024-09-26T18:10:56.595273Z",
     "start_time": "2024-09-26T18:10:56.589976Z"
    }
   },
   "outputs": [],
   "source": [
    "hostmass = [x[\"parameter_values\"][\"hostmass\"] for x in res]\n",
    "x1 = [x[\"parameter_values\"][\"x1\"] for x in res]\n",
    "x0 = [x[\"parameter_values\"][\"x0\"] for x in res]\n",
    "c = [x[\"parameter_values\"][\"c\"] for x in res]\n",
    "z = [x[\"parameter_values\"][\"redshift\"] for x in res]\n",
    "t0 = [x[\"parameter_values\"][\"t0\"] for x in res]\n",
    "distmod = [x[\"parameter_values\"][\"distmod\"] for x in res]"
   ]
  },
  {
   "cell_type": "code",
   "execution_count": null,
   "id": "aaefb2f29d444cf2",
   "metadata": {
    "ExecuteTime": {
     "end_time": "2024-09-26T18:10:56.712236Z",
     "start_time": "2024-09-26T18:10:56.601978Z"
    }
   },
   "outputs": [],
   "source": [
    "plt.hist(hostmass)"
   ]
  },
  {
   "cell_type": "code",
   "execution_count": null,
   "id": "b86d82fe1a518d5a",
   "metadata": {
    "ExecuteTime": {
     "end_time": "2024-09-26T18:10:56.771308Z",
     "start_time": "2024-09-26T18:10:56.719033Z"
    }
   },
   "outputs": [],
   "source": [
    "plt.hist(x1)\n",
    "print(np.std(x1))"
   ]
  },
  {
   "cell_type": "code",
   "execution_count": null,
   "id": "edc24806f5752b25",
   "metadata": {
    "ExecuteTime": {
     "end_time": "2024-09-26T18:10:56.832246Z",
     "start_time": "2024-09-26T18:10:56.777555Z"
    }
   },
   "outputs": [],
   "source": [
    "plt.hist(c)"
   ]
  },
  {
   "cell_type": "code",
   "execution_count": null,
   "id": "35ab73410bd98ac1",
   "metadata": {
    "ExecuteTime": {
     "end_time": "2024-09-26T18:10:56.892230Z",
     "start_time": "2024-09-26T18:10:56.838414Z"
    }
   },
   "outputs": [],
   "source": [
    "plt.scatter(hostmass, x1)"
   ]
  },
  {
   "cell_type": "code",
   "execution_count": null,
   "id": "2b56df734bccfe1b",
   "metadata": {
    "ExecuteTime": {
     "end_time": "2024-09-26T18:10:56.949151Z",
     "start_time": "2024-09-26T18:10:56.899465Z"
    }
   },
   "outputs": [],
   "source": [
    "plt.hist(x0)"
   ]
  },
  {
   "cell_type": "code",
   "execution_count": null,
   "id": "1140a75e38023d80",
   "metadata": {
    "ExecuteTime": {
     "end_time": "2024-09-26T18:10:57.012781Z",
     "start_time": "2024-09-26T18:10:56.956603Z"
    }
   },
   "outputs": [],
   "source": [
    "plt.hist(z)"
   ]
  },
  {
   "cell_type": "code",
   "execution_count": null,
   "id": "75b49a8b4f8fa1b4",
   "metadata": {
    "ExecuteTime": {
     "end_time": "2024-09-26T18:10:57.111919Z",
     "start_time": "2024-09-26T18:10:57.020201Z"
    }
   },
   "outputs": [],
   "source": [
    "# cosmo = FlatLambdaCDM(H0=73, Om0=0.3)\n",
    "# distmod = cosmo.distmod(z).value\n",
    "\n",
    "#    x0 = np.power(10., -0.4 * (distmod - alpha * x1 + beta * c + m_abs))\n",
    "#  -2.5*log10(x0) = distmod -alpha*x1 + beta*c + m_abs\n",
    "\n",
    "mb = -2.5 * np.log10(x0)\n",
    "print(np.std(mb - distmod))\n",
    "\n",
    "plt.scatter(z, mb - distmod)\n",
    "plt.show()\n",
    "\n",
    "alpha = 0.14\n",
    "beta = 3.1\n",
    "mu = np.array(mb) + alpha * np.array(x1) - beta * np.array(c) + 19.3\n",
    "print(np.std(mu - distmod))\n",
    "\n",
    "plt.scatter(z, mu - distmod)\n",
    "\n",
    "plt.show()"
   ]
  },
  {
   "cell_type": "code",
   "execution_count": null,
   "id": "98996d76d56cb7b9",
   "metadata": {
    "ExecuteTime": {
     "end_time": "2024-09-26T18:10:57.206103Z",
     "start_time": "2024-09-26T18:10:57.118280Z"
    }
   },
   "outputs": [],
   "source": [
    "plt.scatter(z, mb)\n",
    "plt.show()\n",
    "plt.scatter(z, mu)\n",
    "plt.show()"
   ]
  },
  {
   "cell_type": "code",
   "execution_count": null,
   "id": "320e5ddcec3fcdd",
   "metadata": {
    "ExecuteTime": {
     "end_time": "2024-09-26T18:10:57.252874Z",
     "start_time": "2024-09-26T18:10:57.212412Z"
    }
   },
   "outputs": [],
   "source": [
    "plt.scatter(hostmass, mu - distmod)\n",
    "plt.show()"
   ]
  },
  {
   "cell_type": "code",
   "execution_count": null,
   "id": "4dce3f1ba8792c87",
   "metadata": {
    "ExecuteTime": {
     "end_time": "2024-09-26T18:10:57.388666Z",
     "start_time": "2024-09-26T18:10:57.259232Z"
    }
   },
   "outputs": [],
   "source": [
    "for i in range(0, 3):\n",
    "    try:\n",
    "        plt.plot(res[i][\"wavelengths_rest\"] * (1 + z[i]), res[i][\"flux_flam\"][0], color=\"r\")\n",
    "    except Exception:\n",
    "        continue\n",
    "    saltpars = {\"x0\": x0[i], \"x1\": x1[i], \"c\": c[i], \"z\": z[i], \"t0\": t0[i]}\n",
    "    model = sncosmo.Model(\"salt3\")\n",
    "    model.update(saltpars)\n",
    "    print(saltpars)\n",
    "    print(model.parameters)\n",
    "    print(res[i][\"times\"] - t0[i])\n",
    "    wave = res[i][\"wavelengths_rest\"] * (1 + z[i])\n",
    "    plt.plot(wave, model.flux(res[i][\"times\"][0], wave), color=\"g\")\n",
    "    plt.show()"
   ]
  },
  {
   "cell_type": "code",
   "execution_count": null,
   "id": "6e1d0698de0bfaaa",
   "metadata": {
    "ExecuteTime": {
     "end_time": "2024-09-26T18:10:57.917869Z",
     "start_time": "2024-09-26T18:10:57.394956Z"
    }
   },
   "outputs": [],
   "source": [
    "for i in range(0, 3):\n",
    "    times = res[i][\"times\"]\n",
    "    colors = [\"red\", \"brown\"]\n",
    "    for f, color in zip(\"ri\", colors):\n",
    "        band_name = f\"LSST_{f}\"\n",
    "        plt.plot(times, res[i][\"bandfluxes\"][band_name], \"-\", label=f, color=color, alpha=0.6, lw=2)\n",
    "        saltpars = {\"x0\": x0[i], \"x1\": x1[i], \"c\": c[i], \"z\": z[i], \"t0\": t0[i]}\n",
    "        model = sncosmo.Model(\"salt3\")\n",
    "        model.update(saltpars)\n",
    "        print(saltpars)\n",
    "        sncosmo_band = sncosmo.Bandpass(\n",
    "            *passbands.passbands[band_name].processed_transmission_table.T, name=band_name\n",
    "        )\n",
    "        flux = model.bandflux(sncosmo_band, times, zpsys=\"ab\", zp=8.9 + 2.5 * 9)  # -48.6)\n",
    "        plt.plot(times, flux, \"--\", label=f, color=color)\n",
    "        plt.xlabel(\"MJD\")\n",
    "        plt.ylabel(\"Flux, nJy\")\n",
    "        plt.legend()\n",
    "    plt.show()"
   ]
  },
  {
   "cell_type": "code",
   "execution_count": null,
   "id": "dc680d32-cc9c-428f-90c4-944649999d9f",
   "metadata": {
    "ExecuteTime": {
     "end_time": "2024-09-26T18:10:57.925337Z",
     "start_time": "2024-09-26T18:10:57.924252Z"
    }
   },
   "outputs": [],
   "source": []
  }
 ],
 "metadata": {
  "kernelspec": {
   "display_name": "tdastro",
   "language": "python",
   "name": "python3"
  },
  "language_info": {
   "codemirror_mode": {
    "name": "ipython",
    "version": 3
   },
   "file_extension": ".py",
   "mimetype": "text/x-python",
   "name": "python",
   "nbconvert_exporter": "python",
   "pygments_lexer": "ipython3",
   "version": "3.10.4"
  }
 },
 "nbformat": 4,
 "nbformat_minor": 5
}
