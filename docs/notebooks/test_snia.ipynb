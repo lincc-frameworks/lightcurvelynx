{
 "cells": [
  {
   "cell_type": "code",
   "execution_count": null,
   "id": "1bd86f47-7061-4aff-a7e0-be226219b139",
   "metadata": {},
   "outputs": [],
   "source": [
    "%load_ext autoreload\n",
    "%autoreload 2"
   ]
  },
  {
   "cell_type": "code",
   "execution_count": null,
   "id": "4bf6fe10-59dc-439e-9371-c0cc15755f62",
   "metadata": {},
   "outputs": [],
   "source": [
    "import sys\n",
    "sys.path.append(\"/Users/mi/Work/tdastro/tdastro/tests/tdastro/sources/\")"
   ]
  },
  {
   "cell_type": "code",
   "execution_count": null,
   "id": "817f5d23-925d-4ef7-bc22-ad110020e57d",
   "metadata": {},
   "outputs": [],
   "source": [
    "from tdastro.sources.snia_host import SNIaHost\n",
    "from tdastro.sources.sncomso_models import SncosmoWrapperModel\n",
    "from tdastro.util_nodes.np_random import NumpyRandomFunc\n",
    "from tdastro.astro_utils.snia_utils import X0FromDistMod,DistModFromRedshift,HostmassX1Func\n",
    "import numpy as np\n",
    "import matplotlib.pyplot as plt\n",
    "import sncosmo\n",
    "from astropy.cosmology import FlatLambdaCDM"
   ]
  },
  {
   "cell_type": "code",
   "execution_count": null,
   "id": "c87c4488-9368-4a0a-8400-1596bb15492a",
   "metadata": {},
   "outputs": [],
   "source": [
    "from test_snia import test_snia"
   ]
  },
  {
   "cell_type": "code",
   "execution_count": null,
   "id": "3285d471-c454-4c7a-b7cb-b8a79ab7ec98",
   "metadata": {},
   "outputs": [],
   "source": [
    "res = test_snia()"
   ]
  },
  {
   "cell_type": "code",
   "execution_count": null,
   "id": "41df54c8-76dd-44db-974b-7b5f45f756aa",
   "metadata": {},
   "outputs": [],
   "source": [
    "for key in res['parameter_values'][0]:\n",
    "    if 'c' in key:\n",
    "        print(key)"
   ]
  },
  {
   "cell_type": "code",
   "execution_count": null,
   "id": "c60e849f-8529-4714-92e1-345182a12a68",
   "metadata": {},
   "outputs": [],
   "source": [
    "hostmass = [x['2:tdastro.sources.snia_host.SNIaHost.hostmass'] for x in res['parameter_values']]\n",
    "x1 = [x['0:tdastro.sources.sncomso_models.SncosmoWrapperModel.x1'] for x in res['parameter_values']]\n",
    "x0 = [x['0:tdastro.sources.sncomso_models.SncosmoWrapperModel.x0'] for x in res['parameter_values']]\n",
    "c = [x['0:tdastro.sources.sncomso_models.SncosmoWrapperModel.c'] for x in res['parameter_values']]\n",
    "z = [x['2:tdastro.sources.snia_host.SNIaHost.redshift'] for x in res['parameter_values']]\n",
    "distmod = [x['8:tdastro.astro_utils.snia_utils.X0FromDistMod:_x0_from_distmod.distmod'] for x in res['parameter_values']]"
   ]
  },
  {
   "cell_type": "code",
   "execution_count": null,
   "id": "50b26ecc-98ab-4352-b9ed-ceb83dd92ad7",
   "metadata": {
    "scrolled": true,
    "tags": []
   },
   "outputs": [],
   "source": [
    "hostmass[0:10],x1[0:10]"
   ]
  },
  {
   "cell_type": "code",
   "execution_count": null,
   "id": "57607e1e-e18a-4408-a7b9-ec400c72c9a8",
   "metadata": {},
   "outputs": [],
   "source": [
    "plt.hist(hostmass)"
   ]
  },
  {
   "cell_type": "code",
   "execution_count": null,
   "id": "561c6c8c-84d9-484d-9759-56b020a018d6",
   "metadata": {},
   "outputs": [],
   "source": [
    "plt.hist(x1,alpha=0.5)\n",
    "print(np.std(x1))"
   ]
  },
  {
   "cell_type": "code",
   "execution_count": null,
   "id": "8addd896-8f21-4813-8053-b75debf114b2",
   "metadata": {},
   "outputs": [],
   "source": [
    "plt.hist(c,alpha=0.5)\n"
   ]
  },
  {
   "cell_type": "code",
   "execution_count": null,
   "id": "bd1bbdd5-f236-4e6d-84f3-161ab6cca4fd",
   "metadata": {},
   "outputs": [],
   "source": [
    "plt.scatter(hostmass,x1)\n"
   ]
  },
  {
   "cell_type": "code",
   "execution_count": null,
   "id": "151bd30a-26f4-40eb-ba99-611f82d61edf",
   "metadata": {},
   "outputs": [],
   "source": [
    "plt.hist(x0)"
   ]
  },
  {
   "cell_type": "code",
   "execution_count": null,
   "id": "3b9e3896-c530-419c-8bb0-a9c1984eae0d",
   "metadata": {},
   "outputs": [],
   "source": [
    "plt.hist(z)"
   ]
  },
  {
   "cell_type": "code",
   "execution_count": null,
   "id": "b31893a6-be21-4c69-8e6c-4cfec316d309",
   "metadata": {},
   "outputs": [],
   "source": [
    "# cosmo = FlatLambdaCDM(H0=73, Om0=0.3)\n",
    "# distmod = cosmo.distmod(z).value\n",
    "\n",
    "#    x0 = np.power(10., -0.4 * (distmod - alpha * x1 + beta * c + m_abs))\n",
    "#  -2.5*log10(x0) = distmod -alpha*x1 + beta*c + m_abs\n",
    "\n",
    "mb = -2.5*np.log10(x0)\n",
    "print(np.std(mb-distmod))\n",
    "\n",
    "plt.scatter(z,mb-distmod)\n",
    "plt.show()\n",
    "\n",
    "alpha=0.14\n",
    "beta =3.1\n",
    "mu = np.array(mb) + alpha*np.array(x1_2) - beta*np.array(c_2) +19.3\n",
    "print(np.std(mu-distmod))\n",
    "\n",
    "plt.scatter(z,mu-distmod)\n",
    "\n",
    "plt.show()"
   ]
  },
  {
   "cell_type": "code",
   "execution_count": null,
   "id": "d7443d9e-7bbd-4087-b31e-8a4030c32b16",
   "metadata": {},
   "outputs": [],
   "source": [
    "plt.scatter(z,mb)\n",
    "plt.show()\n",
    "plt.scatter(z,mu)\n",
    "plt.show()"
   ]
  },
  {
   "cell_type": "code",
   "execution_count": null,
   "id": "494d4400-c7ef-453d-bfa3-4abea973997e",
   "metadata": {},
   "outputs": [],
   "source": [
    "plt.scatter(hostmass,mu-distmod)\n",
    "plt.show()"
   ]
  },
  {
   "cell_type": "code",
   "execution_count": null,
   "id": "55a3c72f-a231-4108-b518-779e37502cd7",
   "metadata": {},
   "outputs": [],
   "source": []
  }
 ],
 "metadata": {
  "kernelspec": {
   "display_name": "Python [conda env:tdastro]",
   "language": "python",
   "name": "conda-env-tdastro-py"
  },
  "language_info": {
   "codemirror_mode": {
    "name": "ipython",
    "version": 3
   },
   "file_extension": ".py",
   "mimetype": "text/x-python",
   "name": "python",
   "nbconvert_exporter": "python",
   "pygments_lexer": "ipython3",
   "version": "3.11.9"
  }
 },
 "nbformat": 4,
 "nbformat_minor": 5
}
