{
 "cells": [
  {
   "cell_type": "markdown",
   "metadata": {},
   "source": [
    "# Introduction\n",
    "\n",
    "In this tutorial, we discuss the overall flow of TDAstro and how to use it to run simulations. The goal is to get a new user started and allow them to explore the package.\n",
    "\n",
    "Later tutorials cover topics in more depth, including:\n",
    "  - Sampling Parameters (sampling.ipynb)\n",
    "  - Adding new source types (adding_sources.ipynb)\n",
    "  - Add new effect types (addings_effects.ipynb)\n",
    "  - Working directly with passbands (passband-demo.ipynb)\n",
    "  - Working directly with OpSims (opsim_notebook.ipynb)\n",
    "\n",
    "## Program Flow\n",
    "\n",
    "TDAstro generates synthetic light curves using the flow shown in the illustration below. A `PhysicalModel` (the model of a source) and information about the parameter distributions is used to sample fake sources. These are combined with information from an `OpSim` (or other survey information) to generate sample flux densities at a given set of times and wavelengths (or passbands), accounting for effects such as redshift. The simulator also applies other relevant effects to the rest frame flux densities (e.g. dust extinction) and the observer frame flux densities (detector noise). At the end the code outputs a series of samples."
   ]
  },
  {
   "cell_type": "code",
   "execution_count": null,
   "metadata": {},
   "outputs": [],
   "source": [
    "from IPython.display import Image\n",
    "\n",
    "Image(\"../_static/tdastro-intro.png\")"
   ]
  },
  {
   "cell_type": "markdown",
   "metadata": {},
   "source": [
    "## Sources\n",
    "\n",
    "All light curves are generated from source objects that are a subclass of the `PhysicalObject` class. These source objects provide mechanisms for:\n",
    "  - Sampling their parameters from given distributions,\n",
    "  - Generating flux densities at given times and wavelengths (or passbands), and\n",
    "  - Applying noise and other effects to the observations.\n",
    "\n",
    "Each \"sample\" of the data consists of a new sampling of the source's parameters and a generation of flux densities from those parameters. Thus, when a user generates a hundred samples, they are generating 100 light curves from 100 sample sources.\n",
    "\n",
    "We can demonstrate this using a toy model that generates fluxes using a sin wave. The model's three parameters (`brightness`, `frequency`, and `t0`) are chosen for each source from uniform distributions. For more information on how to how to define the parameter setting, see the `sampling.ipynb` notebook."
   ]
  },
  {
   "cell_type": "code",
   "execution_count": null,
   "metadata": {},
   "outputs": [],
   "source": [
    "from tdastro.math_nodes.np_random import NumpyRandomFunc\n",
    "from tdastro.sources.basic_sources import SinWaveSource\n",
    "\n",
    "source_model = SinWaveSource(\n",
    "    brightness=NumpyRandomFunc(\"uniform\", low=100.0, high=200.0),\n",
    "    frequency=NumpyRandomFunc(\"uniform\", low=1.0, high=5.0),\n",
    "    t0=NumpyRandomFunc(\"uniform\", low=0.0, high=10.0),\n",
    ")"
   ]
  },
  {
   "cell_type": "markdown",
   "metadata": {},
   "source": [
    "We can manually evalute a source model using the `evaluate()` function where we provide the wavelengths and times to sample:"
   ]
  },
  {
   "cell_type": "code",
   "execution_count": null,
   "metadata": {},
   "outputs": [],
   "source": [
    "import numpy as np\n",
    "import matplotlib.pyplot as plt\n",
    "\n",
    "times = np.arange(100.0)\n",
    "wavelengths = np.array([7000.0])\n",
    "fluxes = source_model.evaluate(times, wavelengths)\n",
    "\n",
    "plt.plot(times, fluxes)\n",
    "plt.xlabel(\"Time\")\n",
    "plt.ylabel(\"Flux\")\n",
    "plt.show()"
   ]
  },
  {
   "cell_type": "markdown",
   "metadata": {},
   "source": [
    "The power of the simulation software is that we can generate a large number of light curves from a distribution of sources. We start by using a `PhysicalModel` object's `sample_parameters` function to sample the parameters can create this distribution of source object. \n",
    "\n",
    "Let's start with generating 5 source objects. We save the samples in a `GraphState` object. Users will not need to deal with this object directly, but it can be used to peak at the underlying parameters."
   ]
  },
  {
   "cell_type": "code",
   "execution_count": null,
   "metadata": {},
   "outputs": [],
   "source": [
    "state = source_model.sample_parameters(num_samples=3)\n",
    "print(state)"
   ]
  },
  {
   "cell_type": "markdown",
   "metadata": {},
   "source": [
    "Most users will not need to interact directly with the `GraphState` object, but at a very high level it can be viewed as a nested dictionary where parameters are indexed by two levels. First, the node name or identifier tells the code which part of the simulation the parameter belongs to. This level of identification is necessary to allow different stages to use parameters with the same name. Second, the parameter name defines the actual parameter name.\n",
    "\n",
    "Each parameter name corresponds to a list of samples. These sampled together so that the i-th entires of each parameter represent a single, mutually consistent sampling of parameter space. For a lot more detail see the `GraphState` section in the `sampling.ipynb` notebook. For now it is sufficient to know that `state` is tracking the sampled parameters.\n",
    "\n",
    "By passing the sampled state into `evaluate()` we can generate multiple light curves (one for each source) at once:"
   ]
  },
  {
   "cell_type": "code",
   "execution_count": null,
   "metadata": {},
   "outputs": [],
   "source": [
    "fluxes = source_model.evaluate(times, wavelengths, state)\n",
    "\n",
    "plt.plot(times, fluxes[0, :], color=\"blue\")\n",
    "plt.plot(times, fluxes[1, :], color=\"green\")\n",
    "plt.plot(times, fluxes[2, :], color=\"red\")\n",
    "plt.xlabel(\"Time\")\n",
    "plt.ylabel(\"Flux\")\n",
    "plt.show()"
   ]
  }
 ],
 "metadata": {
  "kernelspec": {
   "display_name": "tdastro",
   "language": "python",
   "name": "python3"
  },
  "language_info": {
   "codemirror_mode": {
    "name": "ipython",
    "version": 3
   },
   "file_extension": ".py",
   "mimetype": "text/x-python",
   "name": "python",
   "nbconvert_exporter": "python",
   "pygments_lexer": "ipython3",
   "version": "3.10.4"
  }
 },
 "nbformat": 4,
 "nbformat_minor": 2
}
