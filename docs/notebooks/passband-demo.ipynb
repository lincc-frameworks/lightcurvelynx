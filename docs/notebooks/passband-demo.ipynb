{
 "cells": [
  {
   "cell_type": "markdown",
   "metadata": {},
   "source": [
    "# Passband Demo"
   ]
  },
  {
   "cell_type": "code",
   "execution_count": null,
   "metadata": {},
   "outputs": [],
   "source": [
    "from tdastro.astro_utils.passbands import PassbandGroup"
   ]
  },
  {
   "cell_type": "markdown",
   "metadata": {},
   "source": [
    "### Set Up PassbandGroup"
   ]
  },
  {
   "cell_type": "code",
   "execution_count": null,
   "metadata": {},
   "outputs": [],
   "source": [
    "passband_group = PassbandGroup(preset=\"LSST\")\n",
    "print(passband_group)"
   ]
  },
  {
   "cell_type": "markdown",
   "metadata": {},
   "source": [
    "### Set Up Spline Model"
   ]
  },
  {
   "cell_type": "code",
   "execution_count": null,
   "metadata": {},
   "outputs": [],
   "source": [
    "import matplotlib.pyplot as plt\n",
    "import numpy as np\n",
    "from tdastro.sources.spline_model import SplineModel\n",
    "\n",
    "# Load a model\n",
    "input_times = np.array([1001.0, 1002.0, 1003.0, 1004.0, 1005.0])\n",
    "input_wavelengths = np.linspace(4000.0, 8000.0, 5)\n",
    "input_fluxes = np.array(\n",
    "    [\n",
    "        [1.0, 5.0, 2.0, 3.0, 1.0],\n",
    "        [5.0, 10.0, 6.0, 7.0, 5.0],\n",
    "        [2.0, 6.0, 3.0, 4.0, 2.0],\n",
    "        [1.0, 5.0, 2.0, 3.0, 1.0],\n",
    "        [1.0, 5.0, 2.0, 3.0, 1.0],\n",
    "    ]\n",
    ")\n",
    "\n",
    "spline_model = SplineModel(input_times, input_wavelengths, input_fluxes, time_degree=3, wave_degree=3)\n",
    "\n",
    "times = np.linspace(1000.0, 1006.0, 40)\n",
    "wavelengths = passband_group.waves\n",
    "fluxes = spline_model.evaluate(times, wavelengths)"
   ]
  },
  {
   "cell_type": "code",
   "execution_count": null,
   "metadata": {},
   "outputs": [],
   "source": [
    "def plot_flux_spectrogram():\n",
    "    \"\"\"Plot a spectrogram to visualize the fluxes.\"\"\"\n",
    "    plt.figure(figsize=(12, 5))\n",
    "    plt.imshow(fluxes.T, cmap=\"plasma\", interpolation=\"nearest\", aspect=\"auto\")\n",
    "\n",
    "    # Add title, axis labels, and correct ticks\n",
    "    plt.title(\"Flux Spectrogram\")\n",
    "    plt.xlabel(\"Time (days)\")\n",
    "    plt.ylabel(\"Wavelength (Angstrom)\")\n",
    "    plt.xticks(np.arange(len(times))[::4], [f\"{round(time)}\" for time in times][::4])\n",
    "    plt.yticks(np.arange(len(wavelengths))[::50], [f\"{round(wave)}\" for wave in wavelengths][::50])\n",
    "\n",
    "    # Add flux labels\n",
    "    for (j, i), label in np.ndenumerate(fluxes.T):\n",
    "        if i % 2 == 1 and j % 40 == 20:\n",
    "            plt.text(i, j, round(label, 1), ha=\"center\", va=\"center\", size=8)\n",
    "\n",
    "    plt.show()\n",
    "\n",
    "\n",
    "plot_flux_spectrogram()"
   ]
  },
  {
   "cell_type": "markdown",
   "metadata": {},
   "source": [
    "### Plot Lightcurve"
   ]
  },
  {
   "cell_type": "code",
   "execution_count": null,
   "metadata": {},
   "outputs": [],
   "source": [
    "bandfluxes = passband_group.fluxes_to_bandfluxes(fluxes)"
   ]
  },
  {
   "cell_type": "code",
   "execution_count": null,
   "metadata": {},
   "outputs": [],
   "source": [
    "def plot_lightcurve(bandfluxes):\n",
    "    \"\"\"Plot the passband-normalized lightcurve.\"\"\"\n",
    "    fig, ax = plt.subplots()\n",
    "    ax.set_title(\"Passband-Normalized Lightcurve\")\n",
    "    ax.set_xlabel(\"Time (days)\")\n",
    "    ax.set_ylabel(\"Flux\")\n",
    "\n",
    "    for _, label in enumerate(bandfluxes.keys()):\n",
    "        ax.plot(times, bandfluxes[label], marker=\"o\", label=label)\n",
    "\n",
    "    ax.legend()\n",
    "    plt.show()\n",
    "\n",
    "\n",
    "plot_lightcurve(bandfluxes)"
   ]
  },
  {
   "cell_type": "markdown",
   "metadata": {},
   "source": [
    "### Update Wave Grid"
   ]
  },
  {
   "cell_type": "code",
   "execution_count": null,
   "metadata": {},
   "outputs": [],
   "source": [
    "passband_group.process_transmission_tables(delta_wavelength=20.0, trim_percentile=None)\n",
    "\n",
    "times = np.linspace(1000.0, 1006.0, 40)\n",
    "wavelengths = passband_group.waves\n",
    "fluxes = spline_model.evaluate(times, wavelengths)\n",
    "\n",
    "bandfluxes = passband_group.fluxes_to_bandfluxes(fluxes)\n",
    "\n",
    "plot_lightcurve(bandfluxes)"
   ]
  }
 ],
 "metadata": {
  "kernelspec": {
   "display_name": "tda",
   "language": "python",
   "name": "python3"
  },
  "language_info": {
   "codemirror_mode": {
    "name": "ipython",
    "version": 3
   },
   "file_extension": ".py",
   "mimetype": "text/x-python",
   "name": "python",
   "nbconvert_exporter": "python",
   "pygments_lexer": "ipython3",
   "version": "3.10.9"
  }
 },
 "nbformat": 4,
 "nbformat_minor": 2
}
