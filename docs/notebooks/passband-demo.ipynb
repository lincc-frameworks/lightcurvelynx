{
 "cells": [
  {
   "cell_type": "markdown",
   "metadata": {},
   "source": [
    "# Passband Demo\n",
    "\n",
    "A `Passband` object stores the information needed to transform the observed flux density over multiple wavelengths into a single band flux for a given filter. A `PassbandGroup` object implements a collection of `Passband` providing convenient helper functions for loading and processing multiple passbands."
   ]
  },
  {
   "cell_type": "code",
   "execution_count": null,
   "metadata": {},
   "outputs": [],
   "source": [
    "import math\n",
    "import matplotlib.pyplot as plt\n",
    "import numpy as np\n",
    "\n",
    "from tdastro.astro_utils.passbands import Passband, PassbandGroup\n",
    "from tdastro.utils.plotting import plot_flux_spectrogram, plot_lightcurves"
   ]
  },
  {
   "cell_type": "markdown",
   "metadata": {},
   "source": [
    "## Set Up PassbandGroup\n",
    "\n",
    "Both the `Passband` and `PassbandGroup` classes provide multiple mechanisms for loading in the passband information. Users can manually specify the passband values, load from given files, or load from a preset (which will download the files if needed).\n",
    "\n",
    "### Loading present passbands\n",
    "\n",
    "We start this notebook by loading the default passbands for LSST and printing basic information. "
   ]
  },
  {
   "cell_type": "code",
   "execution_count": null,
   "metadata": {},
   "outputs": [],
   "source": [
    "passband_group = PassbandGroup(preset=\"LSST\")\n",
    "print(passband_group)\n",
    "\n",
    "wavelengths = passband_group.waves\n",
    "min_wave, max_wave = passband_group.wave_bounds()\n",
    "print(f\"Wavelengths range [{min_wave}, {max_wave}]\")"
   ]
  },
  {
   "cell_type": "markdown",
   "metadata": {},
   "source": [
    "We can access individual `Passband` objects with the [] notation and plot them using `Passband`'s plot functionality."
   ]
  },
  {
   "cell_type": "code",
   "execution_count": null,
   "metadata": {},
   "outputs": [],
   "source": [
    "passband_group[\"LSST_g\"].plot()"
   ]
  },
  {
   "cell_type": "markdown",
   "metadata": {},
   "source": [
    "We can plot all of the passbands using `PassbandGroup`'s plot functionality."
   ]
  },
  {
   "cell_type": "code",
   "execution_count": null,
   "metadata": {},
   "outputs": [],
   "source": [
    "passband_group.plot()"
   ]
  },
  {
   "cell_type": "markdown",
   "metadata": {},
   "source": [
    "### Manually specified passbands\n",
    "\n",
    "For testing, we might want to manually specify the passband information. We can do this by creating a 2-dimensional n umpy array where the first column is wavelength and the second column is transmission values."
   ]
  },
  {
   "cell_type": "code",
   "execution_count": null,
   "metadata": {},
   "outputs": [],
   "source": [
    "values = np.array(\n",
    "    [\n",
    "        [1000, 0.5],\n",
    "        [1005, 0.6],\n",
    "        [1010, 0.7],\n",
    "        [1015, 0.5],\n",
    "        [1020, 0.7],\n",
    "        [1025, 0.8],\n",
    "        [1030, 0.2],\n",
    "        [1035, 0.2],\n",
    "    ]\n",
    ")\n",
    "\n",
    "toy_passband = Passband(\n",
    "    \"toy_survey\",  # Survey name.\n",
    "    \"a\",  # Filter name\n",
    "    table_values=values,  # The matrix of transmission data\n",
    ")\n",
    "toy_passband.plot()"
   ]
  },
  {
   "cell_type": "markdown",
   "metadata": {},
   "source": [
    "## Applying Passbands\n",
    "\n",
    "In order to apply passbands, we first need a 2-dimensional matrix flux densities for different times and wavelengths. We can manually specify these or generate them with one of the physical models. \n",
    "\n",
    "In this example, we use simple model to compute flux densities using a predefined spline."
   ]
  },
  {
   "cell_type": "code",
   "execution_count": null,
   "metadata": {},
   "outputs": [],
   "source": [
    "from tdastro.sources.spline_model import SplineModel\n",
    "\n",
    "# Load a model\n",
    "input_times = np.array([1001.0, 1002.0, 1003.0, 1004.0, 1005.0, 1006.0])\n",
    "input_wavelengths = np.linspace(min_wave, max_wave, 5)\n",
    "input_fluxes = np.array(\n",
    "    [\n",
    "        [1.0, 5.0, 2.0, 3.0, 1.0],\n",
    "        [5.0, 10.0, 6.0, 7.0, 5.0],\n",
    "        [2.0, 6.0, 3.0, 4.0, 2.0],\n",
    "        [1.0, 5.0, 2.0, 3.0, 1.0],\n",
    "        [1.0, 5.0, 2.0, 3.0, 1.0],\n",
    "        [0.0, 0.0, 0.0, 0.0, 0.0],\n",
    "    ]\n",
    ")\n",
    "spline_model = SplineModel(input_times, input_wavelengths, input_fluxes, time_degree=3, wave_degree=3)\n",
    "\n",
    "# Query the model at different time steps and all the wavelengths covered\n",
    "# by the current passband group.\n",
    "times = np.linspace(1000.0, 1006.0, 40)\n",
    "fluxes = spline_model.evaluate(times, wavelengths)"
   ]
  },
  {
   "cell_type": "markdown",
   "metadata": {},
   "source": [
    "To visualize the flux densities, we plot the flux spectrogram."
   ]
  },
  {
   "cell_type": "code",
   "execution_count": null,
   "metadata": {},
   "outputs": [],
   "source": [
    "plot_flux_spectrogram(fluxes, times, wavelengths, title=\"Flux Spectrogram\")"
   ]
  },
  {
   "cell_type": "markdown",
   "metadata": {},
   "source": [
    "### Plot Lightcurves\n",
    "\n",
    "Compute the lightcurves in each band and plot them."
   ]
  },
  {
   "cell_type": "code",
   "execution_count": null,
   "metadata": {},
   "outputs": [],
   "source": [
    "bandfluxes = passband_group.fluxes_to_bandfluxes(fluxes)\n",
    "plot_lightcurves(bandfluxes, times, title=\"Passband-Normalized Lightcurve\")"
   ]
  },
  {
   "cell_type": "markdown",
   "metadata": {},
   "source": [
    "Or we can plot each band's light curve on its own."
   ]
  },
  {
   "cell_type": "code",
   "execution_count": null,
   "metadata": {},
   "outputs": [],
   "source": [
    "num_cols = 3\n",
    "num_rows = math.ceil(len(bandfluxes.keys()) / num_cols)\n",
    "\n",
    "fig = plt.figure(figsize=(12, 4))\n",
    "axes = fig.subplots(num_rows, num_cols, sharex=True, sharey=True)\n",
    "\n",
    "for idx, band_name in enumerate(bandfluxes.keys()):\n",
    "    row = int(idx / num_cols)\n",
    "    col = idx % num_cols\n",
    "    plot_lightcurves(bandfluxes[band_name], times, ax=axes[row][col], title=band_name)"
   ]
  },
  {
   "cell_type": "markdown",
   "metadata": {},
   "source": [
    "## Modifying Passbands and PassbandGroups\n",
    "\n",
    "In some cases we might want to modify the passband information to fit our use case. In this section we show how to perform several different modifications, including: filtering the passbands used, updating the wave grid, and trimming the passbands.\n",
    "\n",
    "### Filtering Passbands\n",
    "\n",
    "If our analysis is not using all of the bands defined in a passband group, we can create a subset of the passbands using `PassbandGroup`'s subset functionality. This will prune unused passbands, removing unneeded overhead of future computations.\n",
    "\n",
    "For example we could drop the LSST_u and LSST_z filters."
   ]
  },
  {
   "cell_type": "code",
   "execution_count": null,
   "metadata": {},
   "outputs": [],
   "source": [
    "bands_to_keep = [\"LSST_g\", \"LSST_r\", \"LSST_i\", \"LSST_y\"]\n",
    "passband_group.subset(bands_to_keep)\n",
    "passband_group.plot()"
   ]
  },
  {
   "cell_type": "markdown",
   "metadata": {},
   "source": [
    "### Update Wave Grid"
   ]
  },
  {
   "cell_type": "markdown",
   "metadata": {},
   "source": [
    "By increasing our `delta_wave` parameter, we increase the grid step of our transmission table, and the fluxes caluculated from `passband_group.waves`."
   ]
  },
  {
   "cell_type": "code",
   "execution_count": null,
   "metadata": {},
   "outputs": [],
   "source": [
    "passband_group.process_transmission_tables(delta_wave=30.0)\n",
    "\n",
    "times = np.linspace(1000.0, 1006.0, 40)\n",
    "wavelengths = passband_group.waves\n",
    "fluxes = spline_model.evaluate(times, wavelengths)\n",
    "\n",
    "bandfluxes = passband_group.fluxes_to_bandfluxes(fluxes)\n",
    "plot_lightcurves(bandfluxes, times, title=\"Passband-Normalized Lightcurve\")"
   ]
  },
  {
   "cell_type": "markdown",
   "metadata": {},
   "source": [
    "### Setting Trim Quantile\n",
    "\n",
    "By setting our `trim_quantile` parameter to None, we disable the automatic trimming performed on transmission table to remove the upper and lower tails."
   ]
  },
  {
   "cell_type": "code",
   "execution_count": null,
   "metadata": {},
   "outputs": [],
   "source": [
    "passband_group.process_transmission_tables(delta_wave=30.0, trim_quantile=None)\n",
    "\n",
    "times = np.linspace(1000.0, 1006.0, 40)\n",
    "wavelengths = passband_group.waves\n",
    "fluxes = spline_model.evaluate(times, wavelengths)\n",
    "\n",
    "bandfluxes = passband_group.fluxes_to_bandfluxes(fluxes)\n",
    "plot_lightcurves(bandfluxes, times, title=\"Passband-Normalized Lightcurve\")"
   ]
  }
 ],
 "metadata": {
  "kernelspec": {
   "display_name": "tdastro",
   "language": "python",
   "name": "python3"
  },
  "language_info": {
   "codemirror_mode": {
    "name": "ipython",
    "version": 3
   },
   "file_extension": ".py",
   "mimetype": "text/x-python",
   "name": "python",
   "nbconvert_exporter": "python",
   "pygments_lexer": "ipython3",
   "version": "3.10.4"
  }
 },
 "nbformat": 4,
 "nbformat_minor": 2
}
