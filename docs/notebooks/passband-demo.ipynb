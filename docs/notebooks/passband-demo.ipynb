{
 "cells": [
  {
   "cell_type": "markdown",
   "metadata": {},
   "source": [
    "# Passband Demo"
   ]
  },
  {
   "cell_type": "code",
   "execution_count": null,
   "metadata": {},
   "outputs": [],
   "source": [
    "import math\n",
    "import matplotlib.pyplot as plt\n",
    "import numpy as np\n",
    "\n",
    "from tdastro.astro_utils.passbands import PassbandGroup\n",
    "from tdastro.utils.plotting import plot_flux_spectrogram, plot_bandflux_lightcurves"
   ]
  },
  {
   "cell_type": "markdown",
   "metadata": {},
   "source": [
    "### Set Up PassbandGroup\n",
    "\n",
    "Load the default passbands for LSST and get its wavelengths."
   ]
  },
  {
   "cell_type": "code",
   "execution_count": null,
   "metadata": {},
   "outputs": [],
   "source": [
    "passband_group = PassbandGroup(preset=\"LSST\")\n",
    "print(passband_group)\n",
    "\n",
    "wavelengths = passband_group.waves\n",
    "min_wave, max_wave = passband_group.wave_bounds()\n",
    "print(f\"Wavelengths range [{min_wave}, {max_wave}]\")"
   ]
  },
  {
   "cell_type": "markdown",
   "metadata": {},
   "source": [
    "### Set Up Spline Model\n",
    "\n",
    "Create a simple model to compute flux densities using a predefined spline."
   ]
  },
  {
   "cell_type": "code",
   "execution_count": null,
   "metadata": {},
   "outputs": [],
   "source": [
    "from tdastro.sources.spline_model import SplineModel\n",
    "\n",
    "# Load a model\n",
    "input_times = np.array([1001.0, 1002.0, 1003.0, 1004.0, 1005.0, 1006.0])\n",
    "input_wavelengths = np.linspace(min_wave, max_wave, 5)\n",
    "input_fluxes = np.array(\n",
    "    [\n",
    "        [1.0, 5.0, 2.0, 3.0, 1.0],\n",
    "        [5.0, 10.0, 6.0, 7.0, 5.0],\n",
    "        [2.0, 6.0, 3.0, 4.0, 2.0],\n",
    "        [1.0, 5.0, 2.0, 3.0, 1.0],\n",
    "        [1.0, 5.0, 2.0, 3.0, 1.0],\n",
    "        [0.0, 0.0, 0.0, 0.0, 0.0],\n",
    "    ]\n",
    ")\n",
    "spline_model = SplineModel(input_times, input_wavelengths, input_fluxes, time_degree=3, wave_degree=3)"
   ]
  },
  {
   "cell_type": "markdown",
   "metadata": {},
   "source": [
    "### Query and plot the model\n",
    "\n",
    "Generate the flux densities at a few points and the passband group's wavelengths. Plot the flux spectrogram."
   ]
  },
  {
   "cell_type": "code",
   "execution_count": null,
   "metadata": {},
   "outputs": [],
   "source": [
    "times = np.linspace(1000.0, 1006.0, 40)\n",
    "fluxes = spline_model.evaluate(times, wavelengths)\n",
    "\n",
    "plot_flux_spectrogram(fluxes, times, wavelengths, title=\"Flux Spectrogram\")"
   ]
  },
  {
   "cell_type": "markdown",
   "metadata": {},
   "source": [
    "### Plot Lightcurves\n",
    "\n",
    "Compute the lightcurves in each band and plot them."
   ]
  },
  {
   "cell_type": "code",
   "execution_count": null,
   "metadata": {},
   "outputs": [],
   "source": [
    "bandfluxes = passband_group.fluxes_to_bandfluxes(fluxes)\n",
    "plot_bandflux_lightcurves(bandfluxes, times, title=\"Passband-Normalized Lightcurve\")"
   ]
  },
  {
   "cell_type": "markdown",
   "metadata": {},
   "source": [
    "Or we can plot each band's light curve on its own."
   ]
  },
  {
   "cell_type": "code",
   "execution_count": null,
   "metadata": {},
   "outputs": [],
   "source": [
    "num_cols = 3\n",
    "num_rows = math.ceil(len(bandfluxes.keys()) / num_cols)\n",
    "\n",
    "fig = plt.figure(figsize=(12, 4))\n",
    "axes = fig.subplots(num_rows, num_cols, sharex=True, sharey=True)\n",
    "\n",
    "for idx, band_name in enumerate(bandfluxes.keys()):\n",
    "    row = int(idx / num_cols)\n",
    "    col = idx % num_cols\n",
    "    plot_bandflux_lightcurves(bandfluxes[band_name], times, ax=axes[row][col], title=band_name)"
   ]
  },
  {
   "cell_type": "markdown",
   "metadata": {},
   "source": [
    "### Update Wave Grid"
   ]
  },
  {
   "cell_type": "markdown",
   "metadata": {},
   "source": [
    "By increasing our `delta_wave` parameter, we increase the grid step of our transmission table, and the fluxes caluculated from `passband_group.waves`."
   ]
  },
  {
   "cell_type": "code",
   "execution_count": null,
   "metadata": {},
   "outputs": [],
   "source": [
    "passband_group.process_transmission_tables(delta_wave=30.0)\n",
    "\n",
    "times = np.linspace(1000.0, 1006.0, 40)\n",
    "wavelengths = passband_group.waves\n",
    "fluxes = spline_model.evaluate(times, wavelengths)\n",
    "\n",
    "bandfluxes = passband_group.fluxes_to_bandfluxes(fluxes)\n",
    "plot_bandflux_lightcurves(bandfluxes, times, title=\"Passband-Normalized Lightcurve\")"
   ]
  },
  {
   "cell_type": "markdown",
   "metadata": {},
   "source": [
    "By setting our `trim_quantile` parameter to None, we disable the automatic trimming performed on transmission table to remove the upper and lower tails."
   ]
  },
  {
   "cell_type": "code",
   "execution_count": null,
   "metadata": {},
   "outputs": [],
   "source": [
    "passband_group.process_transmission_tables(delta_wave=30.0, trim_quantile=None)\n",
    "\n",
    "times = np.linspace(1000.0, 1006.0, 40)\n",
    "wavelengths = passband_group.waves\n",
    "fluxes = spline_model.evaluate(times, wavelengths)\n",
    "\n",
    "bandfluxes = passband_group.fluxes_to_bandfluxes(fluxes)\n",
    "plot_bandflux_lightcurves(bandfluxes, times, title=\"Passband-Normalized Lightcurve\")"
   ]
  }
 ],
 "metadata": {
  "kernelspec": {
   "display_name": "tdastro",
   "language": "python",
   "name": "python3"
  },
  "language_info": {
   "codemirror_mode": {
    "name": "ipython",
    "version": 3
   },
   "file_extension": ".py",
   "mimetype": "text/x-python",
   "name": "python",
   "nbconvert_exporter": "python",
   "pygments_lexer": "ipython3",
   "version": "3.10.4"
  }
 },
 "nbformat": 4,
 "nbformat_minor": 2
}
