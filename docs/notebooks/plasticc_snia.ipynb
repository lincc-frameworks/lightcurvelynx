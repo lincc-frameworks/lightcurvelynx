{
 "cells": [
  {
   "cell_type": "code",
   "execution_count": null,
   "id": "26a180bb-de40-4353-a493-ff31964feaab",
   "metadata": {},
   "outputs": [],
   "source": [
    "import numpy as np\n",
    "import matplotlib.pyplot as plt\n",
    "\n",
    "from tdastro.astro_utils.opsim import OpSim\n",
    "from tdastro.astro_utils.passbands import PassbandGroup\n",
    "from tdastro.astro_utils.pzflow_node import PZFlowNode\n",
    "from tdastro.astro_utils.snia_utils import (\n",
    "    DistModFromRedshift,\n",
    "    HostmassX1Func,\n",
    "    X0FromDistMod,\n",
    ")\n",
    "from tdastro.math_nodes.np_random import NumpyRandomFunc\n",
    "from tdastro.simulate import simulate_lightcurves\n",
    "from tdastro.sources.sncomso_models import SncosmoWrapperModel\n",
    "from tdastro.sources.snia_host import SNIaHost\n",
    "from tdastro.utils.plotting import plot_lightcurves\n",
    "\n",
    "from tdastro import _TDASTRO_BASE_DATA_DIR"
   ]
  },
  {
   "cell_type": "markdown",
   "id": "e0b1cad1",
   "metadata": {},
   "source": [
    "# Load Data Files\n",
    "\n",
    "We start by loading the files we will need for running the simulation: the OpSim database and the passband information. Both of these live in the `data/` directory in the root directory. Note that nothing in this directory is saved to github, so the files might have to be downloaded initially."
   ]
  },
  {
   "cell_type": "code",
   "execution_count": null,
   "id": "da09419a-cf38-4d6f-b44c-e1110caaf541",
   "metadata": {},
   "outputs": [],
   "source": [
    "# Load the OpSim data.\n",
    "opsim_db = OpSim.from_db(_TDASTRO_BASE_DATA_DIR / \"opsim_db\" / \"baseline_v3.4_10yrs.db\")\n",
    "t_min, t_max = opsim_db.time_bounds()\n",
    "print(f\"Loaded OpSim with {len(opsim_db)} rows and times [{t_min}, {t_max}]\")\n",
    "\n",
    "# Load the passband data for the griz filters only.\n",
    "passband_group = PassbandGroup(\n",
    "    preset=\"LSST\", filters_to_load=[\"g\", \"r\", \"i\", \"z\"], units=\"nm\", trim_quantile=0.001, delta_wave=1\n",
    ")\n",
    "print(f\"Loaded Passbands: {passband_group}\")"
   ]
  },
  {
   "cell_type": "markdown",
   "id": "ab9d7cf5",
   "metadata": {},
   "source": [
    "We don't care about any of the observation in the OpSim that are not in one of the filters of interest. We can use a combination of `PassbandGroup`'s `mask_by_filter()` to determine which observations match and `OpSim`'s `filter_rows()` to remove those rows that do not match."
   ]
  },
  {
   "cell_type": "code",
   "execution_count": null,
   "id": "54ebaed9",
   "metadata": {},
   "outputs": [],
   "source": [
    "# Create a mask of matching filters.\n",
    "filter_mask = passband_group.mask_by_filter(opsim_db[\"filter\"])\n",
    "\n",
    "# Filter the OpSim\n",
    "opsim_db = opsim_db.filter_rows(filter_mask)\n",
    "t_min, t_max = opsim_db.time_bounds()\n",
    "print(f\"Filtered OpSim to {len(opsim_db)} rows and times [{t_min}, {t_max}]\")"
   ]
  },
  {
   "cell_type": "markdown",
   "id": "e7a3d3e3",
   "metadata": {},
   "source": [
    "# Create the model\n",
    "\n",
    "To generate simulationed lightcurves we need to define the proporties of the object from which to sample. We start by creating a host based on a pre-trained pzflow model."
   ]
  },
  {
   "cell_type": "code",
   "execution_count": null,
   "id": "d9cfaa28-a072-4b7b-817c-166a344cc417",
   "metadata": {},
   "outputs": [],
   "source": [
    "# Load the Flow model into a PZFlow node. This gives access to all of the outputs of the\n",
    "# flow model as attributes of the PZFlowNode.\n",
    "pz_node = PZFlowNode.from_file(\n",
    "    _TDASTRO_BASE_DATA_DIR / \"model_files\" / \"snia_hosts_test_pzflow.pkl\",  # filename\n",
    "    node_label=\"pznode\",\n",
    ")\n",
    "\n",
    "# Create a model for the host of the SNIa. The attributes will be sampled via\n",
    "# the PZFlowNode's model. So each host instantiation will have its own properties.\n",
    "# Note: This requires the user to know the output names from the underlying flow model.\n",
    "host = SNIaHost(\n",
    "    ra=pz_node.RA_GAL,\n",
    "    dec=pz_node.DEC_GAL,\n",
    "    hostmass=pz_node.LOGMASS,\n",
    "    redshift=NumpyRandomFunc(\"uniform\", low=0.1, high=0.6),\n",
    "    node_label=\"host\",\n",
    ")"
   ]
  },
  {
   "cell_type": "markdown",
   "id": "3e28d732",
   "metadata": {},
   "source": [
    "Next we create the SNIa model itself. We use sncomso's SALT2 model with parameters randomly generated from realistic distributions.\n",
    "\n",
    "Note that some attributes, such as (RA, dec), are sampled relative to the host's properties."
   ]
  },
  {
   "cell_type": "code",
   "execution_count": null,
   "id": "64a0b6a8-ebaf-4390-9a6d-22d5b11e8a2f",
   "metadata": {},
   "outputs": [],
   "source": [
    "distmod_func = DistModFromRedshift(host.redshift, H0=73.0, Omega_m=0.3)\n",
    "x1_func = HostmassX1Func(host.hostmass)\n",
    "c_func = NumpyRandomFunc(\"normal\", loc=0, scale=0.02)\n",
    "m_abs_func = NumpyRandomFunc(\"normal\", loc=-19.3, scale=0.1)\n",
    "x0_func = X0FromDistMod(\n",
    "    distmod=distmod_func,\n",
    "    x1=x1_func,\n",
    "    c=c_func,\n",
    "    alpha=0.14,\n",
    "    beta=3.1,\n",
    "    m_abs=m_abs_func,\n",
    "    node_label=\"x0_func\",\n",
    ")\n",
    "\n",
    "sncosmo_modelname = \"salt2-h17\"\n",
    "source = SncosmoWrapperModel(\n",
    "    sncosmo_modelname,\n",
    "    t0=NumpyRandomFunc(\"uniform\", low=t_min, high=t_max),\n",
    "    x0=x0_func,\n",
    "    x1=x1_func,\n",
    "    c=c_func,\n",
    "    ra=NumpyRandomFunc(\"normal\", loc=host.ra, scale=0.01),\n",
    "    dec=NumpyRandomFunc(\"normal\", loc=host.dec, scale=0.01),\n",
    "    redshift=host.redshift,\n",
    "    node_label=\"source\",\n",
    ")"
   ]
  },
  {
   "cell_type": "markdown",
   "id": "b427399b-f917-47c4-9d24-3a78760361e9",
   "metadata": {},
   "source": [
    "# Generate the simulations\n",
    "\n",
    "We can now generate random simulations with all the information defined above. The light curves are written in the [nested-pandas](https://github.com/lincc-frameworks/nested-pandas) format for easy analysis. "
   ]
  },
  {
   "cell_type": "code",
   "execution_count": null,
   "id": "adb0f43c-da6f-433b-b2fc-3478f8adea0c",
   "metadata": {},
   "outputs": [],
   "source": [
    "lightcurves = simulate_lightcurves(source, 1_000, opsim_db, passband_group)\n",
    "print(lightcurves)"
   ]
  },
  {
   "cell_type": "markdown",
   "id": "9085a04a-28e2-465f-96fd-f397af618a6c",
   "metadata": {},
   "source": [
    "Now let's plot some random light curves"
   ]
  },
  {
   "cell_type": "code",
   "execution_count": null,
   "id": "f7b316f6-5758-452c-a254-477f817efdb1",
   "metadata": {},
   "outputs": [],
   "source": [
    "random_ids = np.random.choice(len(lightcurves), 10)\n",
    "\n",
    "for random_id in random_ids:\n",
    "    # Extract the row for this object.\n",
    "    lc = lightcurves.loc[random_id]\n",
    "\n",
    "    if lc[\"nobs\"] > 0:\n",
    "        # Unpack the nested columns (filters, mjd, flux, and flux error).\n",
    "        lc_filters = np.asarray(lc[\"lightcurve\"][\"filter\"], dtype=str)\n",
    "        lc_mjd = np.asarray(lc[\"lightcurve\"][\"mjd\"], dtype=float)\n",
    "        lc_flux = np.asarray(lc[\"lightcurve\"][\"flux\"], dtype=float)\n",
    "        lc_fluxerr = np.asarray(lc[\"lightcurve\"][\"fluxerr\"], dtype=float)\n",
    "\n",
    "        plot_lightcurves(\n",
    "            fluxes=lc_flux,\n",
    "            times=lc_mjd,\n",
    "            fluxerrs=lc_fluxerr,\n",
    "            filters=lc_filters,\n",
    "        )"
   ]
  },
  {
   "cell_type": "code",
   "execution_count": null,
   "id": "1662597d-78e6-4b92-a46d-49a5bd3612b2",
   "metadata": {},
   "outputs": [],
   "source": []
  }
 ],
 "metadata": {
  "kernelspec": {
   "display_name": "tdastro",
   "language": "python",
   "name": "tdastro"
  },
  "language_info": {
   "codemirror_mode": {
    "name": "ipython",
    "version": 3
   },
   "file_extension": ".py",
   "mimetype": "text/x-python",
   "name": "python",
   "nbconvert_exporter": "python",
   "pygments_lexer": "ipython3",
   "version": "3.11.9"
  }
 },
 "nbformat": 4,
 "nbformat_minor": 5
}
